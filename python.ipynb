{
  "nbformat": 4,
  "nbformat_minor": 0,
  "metadata": {
    "colab": {
      "provenance": [],
      "include_colab_link": true
    },
    "kernelspec": {
      "name": "python3",
      "display_name": "Python 3"
    },
    "language_info": {
      "name": "python"
    }
  },
  "cells": [
    {
      "cell_type": "markdown",
      "metadata": {
        "id": "view-in-github",
        "colab_type": "text"
      },
      "source": [
        "<a href=\"https://colab.research.google.com/github/vin136/Machine-Learning-Interview-Questions/blob/main/python.ipynb\" target=\"_parent\"><img src=\"https://colab.research.google.com/assets/colab-badge.svg\" alt=\"Open In Colab\"/></a>"
      ]
    },
    {
      "cell_type": "code",
      "execution_count": 1,
      "metadata": {
        "id": "vqkVYAosuEr2",
        "outputId": "75a39184-0513-417c-d736-3f921daa9a15",
        "colab": {
          "base_uri": "https://localhost:8080/"
        }
      },
      "outputs": [
        {
          "output_type": "stream",
          "name": "stdout",
          "text": [
            "foo 1 2\n",
            "bar hello\n",
            "foo 3 4\n"
          ]
        }
      ],
      "source": [
        "# Python recipes\n",
        "\n",
        "1. #unpacking with *\n",
        "\n",
        "records = [\n",
        "     ('foo', 1, 2),\n",
        "     ('bar', 'hello'),\n",
        "     ('foo', 3, 4),\n",
        "]\n",
        "\n",
        "def do_foo(x,y):\n",
        "    print('foo', x, y)\n",
        "\n",
        "def do_bar(s):\n",
        "    print('bar', s)\n",
        "\n",
        "for tag, *args in records:\n",
        "    if tag == 'foo':\n",
        "        do_foo(*args)\n",
        "    elif tag == 'bar':\n",
        "        do_bar(*args)"
      ]
    },
    {
      "cell_type": "code",
      "source": [
        "#Calculating with Dictionaries\n",
        "prices ={\n",
        "     'ACME': 45.23,\n",
        "     'AAPL': 612.78,\n",
        "     'IBM': 205.55,\n",
        "     'HPQ': 37.20,\n",
        "     'FB': 10.75\n",
        "}\n",
        "\n",
        "zipped_file = zip(prices.values(),prices.keys())\n",
        "prices_sorted = sorted(zipped_file)\n",
        "prices_sorted"
      ],
      "metadata": {
        "id": "9MAVM2pHERsI",
        "outputId": "5386ed6e-3b22-44d2-dc98-dd480f204621",
        "colab": {
          "base_uri": "https://localhost:8080/"
        }
      },
      "execution_count": 39,
      "outputs": [
        {
          "output_type": "execute_result",
          "data": {
            "text/plain": [
              "[(10.75, 'FB'),\n",
              " (37.2, 'HPQ'),\n",
              " (45.23, 'ACME'),\n",
              " (205.55, 'IBM'),\n",
              " (612.78, 'AAPL')]"
            ]
          },
          "metadata": {},
          "execution_count": 39
        }
      ]
    },
    {
      "cell_type": "code",
      "source": [],
      "metadata": {
        "id": "IWHPDE96EfAT"
      },
      "execution_count": null,
      "outputs": []
    },
    {
      "cell_type": "code",
      "source": [
        "#1.1 Unpacking a Sequence into Separate Variables\n",
        "\n",
        "data = ['ACME',50, 91.1, (2012,12,21)]\n",
        "\n",
        "name,share,price,date = data\n",
        "\n",
        "s = 'Hello'\n",
        "a,b,c,d,e = s"
      ],
      "metadata": {
        "id": "s7qBXvObCRFS"
      },
      "execution_count": 24,
      "outputs": []
    },
    {
      "cell_type": "code",
      "source": [
        "record = ('Dave','dave@exmple.com','773-555-1212','847-555-1212')\n",
        "name,email,*phone_numbers = record\n",
        "name\n",
        "email\n",
        "phone_numbers\n",
        "\n"
      ],
      "metadata": {
        "id": "MoOwqLXRCi5M",
        "outputId": "79ea30c6-083f-4871-8335-b6d62a1d71ef",
        "colab": {
          "base_uri": "https://localhost:8080/"
        }
      },
      "execution_count": 26,
      "outputs": [
        {
          "output_type": "execute_result",
          "data": {
            "text/plain": [
              "['773-555-1212', '847-555-1212']"
            ]
          },
          "metadata": {},
          "execution_count": 26
        }
      ]
    },
    {
      "cell_type": "code",
      "source": [
        "#1.2 Sorting a List of Dictionaries by a Common Key\n",
        "\n",
        "rows = [\n",
        " {'fname': 'Brian', 'lname': 'Jones', 'uid': 1003},\n",
        " {'fname': 'David', 'lname': 'Beazley', 'uid': 1002},\n",
        " {'fname': 'John', 'lname': 'Cleese', 'uid': 1001},\n",
        " {'fname': 'Big', 'lname': 'Jones', 'uid': 1004}\n",
        "]\n",
        "\n",
        "rows_by_fname= sorted(rows,key = lambda k: k['fname'])\n",
        "rows_by_lname = sorted(rows,key = lambda p: p['lname'])"
      ],
      "metadata": {
        "id": "lfv4mEN2DSo8"
      },
      "execution_count": 27,
      "outputs": []
    },
    {
      "cell_type": "code",
      "source": [
        "#1.3  Grouping Records Together Based on a Field\n",
        "\n",
        "rows = [\n",
        " {'address': '5412 N CLARK', 'date': '07/01/2012'},\n",
        " {'address': '5148 N CLARK', 'date': '07/04/2012'},\n",
        " {'address': '5800 E 58TH', 'date': '07/02/2012'},\n",
        " {'address': '2122 N CLARK', 'date': '07/03/2012'},\n",
        " {'address': '5645 N RAVENSWOOD', 'date': '07/02/2012'},\n",
        " {'address': '1060 W ADDISON', 'date': '07/02/2012'},\n",
        " {'address': '4801 N BROADWAY', 'date': '07/01/2012'},\n",
        " {'address': '1039 W GRANVILLE', 'date': '07/04/2012'},\n",
        "]\n",
        "\n",
        "from collections import defaultdict\n",
        "rows_by_date = defaultdict(list)\n",
        "for row in rows:\n",
        "    rows_by_date[row['date']].append(row)\n",
        "\n",
        "rows_by_date"
      ],
      "metadata": {
        "id": "TmrKrsxYDb6y",
        "outputId": "513c42d5-a48d-4203-8d98-146749c13638",
        "colab": {
          "base_uri": "https://localhost:8080/"
        }
      },
      "execution_count": 28,
      "outputs": [
        {
          "output_type": "execute_result",
          "data": {
            "text/plain": [
              "defaultdict(list,\n",
              "            {'07/01/2012': [{'address': '5412 N CLARK', 'date': '07/01/2012'},\n",
              "              {'address': '4801 N BROADWAY', 'date': '07/01/2012'}],\n",
              "             '07/04/2012': [{'address': '5148 N CLARK', 'date': '07/04/2012'},\n",
              "              {'address': '1039 W GRANVILLE', 'date': '07/04/2012'}],\n",
              "             '07/02/2012': [{'address': '5800 E 58TH', 'date': '07/02/2012'},\n",
              "              {'address': '5645 N RAVENSWOOD', 'date': '07/02/2012'},\n",
              "              {'address': '1060 W ADDISON', 'date': '07/02/2012'}],\n",
              "             '07/03/2012': [{'address': '2122 N CLARK',\n",
              "               'date': '07/03/2012'}]})"
            ]
          },
          "metadata": {},
          "execution_count": 28
        }
      ]
    },
    {
      "cell_type": "code",
      "source": [
        "#1.4 Finding the Largest or Smallest N Items\n",
        "\n",
        "import heapq\n",
        "\n",
        "nums = [1,8,2,23,7,-4,18,23,42,37,2]\n",
        "heapq.nlargest(len(nums),nums)\n",
        "heapq.nsmallest(len(nums),nums)"
      ],
      "metadata": {
        "id": "pBdnyfPfDonk",
        "outputId": "56f199c9-fbd4-49d5-e9b4-44555902ae75",
        "colab": {
          "base_uri": "https://localhost:8080/"
        }
      },
      "execution_count": 29,
      "outputs": [
        {
          "output_type": "execute_result",
          "data": {
            "text/plain": [
              "[-4, 1, 2, 2, 7, 8, 18, 23, 23, 37, 42]"
            ]
          },
          "metadata": {},
          "execution_count": 29
        }
      ]
    },
    {
      "cell_type": "code",
      "source": [
        "portfolio = [\n",
        "     {'name': 'IBM', 'shares': 100, 'price': 91.1},\n",
        "     {'name': 'AAPL', 'shares': 50, 'price': 543.22},\n",
        "     {'name': 'FB', 'shares': 200, 'price': 21.09},\n",
        "     {'name': 'HPQ', 'shares': 35, 'price': 31.75},\n",
        "     {'name': 'YHOO', 'shares': 45, 'price': 16.35},\n",
        "     {'name': 'ACME', 'shares': 75, 'price': 115.65}\n",
        "]\n",
        "\n",
        "cheap = heapq.nsmallest(len(portfolio), portfolio, key=lambda k: k['price'])\n",
        "expensive = heapq.nlargest(len(portfolio), portfolio, key=lambda k: k['price'])\n",
        "cheap"
      ],
      "metadata": {
        "id": "d8iM3tVnEA9X",
        "outputId": "83f013dd-b712-4390-9ec1-7ed4a31f62e2",
        "colab": {
          "base_uri": "https://localhost:8080/"
        }
      },
      "execution_count": 31,
      "outputs": [
        {
          "output_type": "execute_result",
          "data": {
            "text/plain": [
              "[{'name': 'YHOO', 'shares': 45, 'price': 16.35},\n",
              " {'name': 'FB', 'shares': 200, 'price': 21.09},\n",
              " {'name': 'HPQ', 'shares': 35, 'price': 31.75},\n",
              " {'name': 'IBM', 'shares': 100, 'price': 91.1},\n",
              " {'name': 'ACME', 'shares': 75, 'price': 115.65},\n",
              " {'name': 'AAPL', 'shares': 50, 'price': 543.22}]"
            ]
          },
          "metadata": {},
          "execution_count": 31
        }
      ]
    },
    {
      "cell_type": "code",
      "source": [
        "# Implementing a Priority Queue\n",
        "import heapq\n",
        "\n",
        "class PriorityQueue:\n",
        "    def __init__(self):\n",
        "        self._queue = []\n",
        "        self._index = 0\n",
        "    def push(self, item, priority):\n",
        "        heapq.heappush(self._queue, (-priority, self._index, item))\n",
        "        self._index += 1\n",
        "    def pop(self):\n",
        "        return heapq.heappop(self._queue)[-1]\n",
        "\n",
        "class Item:\n",
        "    def __init__(self, name):\n",
        "        self.name = name\n",
        "\n",
        "    def __repr__(self):\n",
        "        return 'Item({!r})'.format(self.name)\n",
        "\n",
        "q = PriorityQueue()\n",
        "q.push(Item('foo'), 1)\n",
        "q.push(Item('bar'), 5)\n",
        "q.push(Item('spam'), 4)\n",
        "q.push(Item('grok'), 1)\n",
        "q.pop()\n",
        "Item('bar')\n",
        "q.pop()\n",
        "Item('spam')\n",
        "q.pop()\n",
        "Item('foo')\n",
        "q.pop()\n",
        "Item('grok')"
      ],
      "metadata": {
        "id": "TRiB2tDTCjlN",
        "outputId": "6a3ab3d2-ee36-4930-b5ca-353d3d41872c",
        "colab": {
          "base_uri": "https://localhost:8080/"
        }
      },
      "execution_count": 32,
      "outputs": [
        {
          "output_type": "execute_result",
          "data": {
            "text/plain": [
              "Item('grok')"
            ]
          },
          "metadata": {},
          "execution_count": 32
        }
      ]
    },
    {
      "cell_type": "code",
      "source": [],
      "metadata": {
        "id": "aBOlTBk-EMMw"
      },
      "execution_count": null,
      "outputs": []
    },
    {
      "cell_type": "code",
      "source": [
        "#2. remove duplicates while maintaiting order\n",
        "\n",
        "def dedupe(items, key=None):\n",
        " seen = set()\n",
        " for item in items:\n",
        " val = item if key is None else key(item)\n",
        " if val not in seen:\n",
        " yield item\n",
        " seen.add(val)"
      ],
      "metadata": {
        "id": "7h_N63-e2a7Q"
      },
      "execution_count": 10,
      "outputs": []
    },
    {
      "cell_type": "code",
      "source": [],
      "metadata": {
        "id": "LN8N5SNB69D3"
      },
      "execution_count": null,
      "outputs": []
    },
    {
      "cell_type": "code",
      "source": [
        "#3 . set operations\n",
        "\n",
        "x1 = {'foo', 'bar', 'baz'}\n",
        "x2 = {'baz', 'qux', 'quux'}\n",
        "\n",
        "#union |\n",
        "x1 | x2\n",
        "\n",
        "#intersection\n",
        "\n",
        "x1 & x2\n",
        "\n",
        "#symmetric diff,in a or b but not both\n",
        "\n",
        "x1 ^ x2\n",
        "\n",
        "#diff\n",
        "x1-x2\n",
        "\n",
        "\n"
      ],
      "metadata": {
        "id": "B6jd_uMD576T",
        "outputId": "3cd9f0f0-ea7a-4bf9-f6d3-5d915c501b4b",
        "colab": {
          "base_uri": "https://localhost:8080/"
        }
      },
      "execution_count": 11,
      "outputs": [
        {
          "output_type": "execute_result",
          "data": {
            "text/plain": [
              "{'bar', 'foo'}"
            ]
          },
          "metadata": {},
          "execution_count": 11
        }
      ]
    },
    {
      "cell_type": "code",
      "source": [
        "items = [0, 1, 2, 3, 4, 5, 6]\n",
        "a = slice(2, 4)\n",
        "items[a]"
      ],
      "metadata": {
        "id": "syGa31D58UaN",
        "outputId": "f9b1bcb8-aff0-4421-fb98-995e3a264628",
        "colab": {
          "base_uri": "https://localhost:8080/"
        }
      },
      "execution_count": 12,
      "outputs": [
        {
          "output_type": "execute_result",
          "data": {
            "text/plain": [
              "[2, 3]"
            ]
          },
          "metadata": {},
          "execution_count": 12
        }
      ]
    },
    {
      "cell_type": "markdown",
      "source": [
        "**Dictionaries**"
      ],
      "metadata": {
        "id": "g_jLaUId-DI1"
      }
    },
    {
      "cell_type": "code",
      "source": [
        "# dictionaries\n",
        "#3.9\n",
        "\n",
        "d1 = {'a': 1, 'b': 3}\n",
        "d2 = {'a': 2, 'b': 4, 'c': 6}\n",
        "\n",
        "#takes the union\n",
        "\n",
        "d1 | d2\n",
        "\n",
        "# ordered dict=> preserve insertion order\n",
        "\n"
      ],
      "metadata": {
        "id": "sDu1ZvRb626_",
        "outputId": "cb6182c6-135f-4683-9e80-f4b8dc6c96bf",
        "colab": {
          "base_uri": "https://localhost:8080/"
        }
      },
      "execution_count": 16,
      "outputs": [
        {
          "output_type": "execute_result",
          "data": {
            "text/plain": [
              "{'a': 2, 'b': 4, 'c': 6}"
            ]
          },
          "metadata": {},
          "execution_count": 16
        }
      ]
    },
    {
      "cell_type": "code",
      "source": [
        "#deal multiple dicts as one\n",
        "\n",
        "d1 = dict(a=1, b=3)\n",
        "d2 = dict(a=2, b=4, c=6)\n",
        "from collections import ChainMap\n",
        "\n",
        "chain = ChainMap(d1, d2)\n",
        "#gives from first one\n",
        "chain['a'],chain['c']"
      ],
      "metadata": {
        "id": "5SOpjhVD93fF",
        "outputId": "4adb5208-7891-4544-bcf7-e7b3910c7c6d",
        "colab": {
          "base_uri": "https://localhost:8080/"
        }
      },
      "execution_count": 17,
      "outputs": [
        {
          "output_type": "execute_result",
          "data": {
            "text/plain": [
              "(1, 6)"
            ]
          },
          "metadata": {},
          "execution_count": 17
        }
      ]
    },
    {
      "cell_type": "code",
      "source": [
        "chain = ChainMap(d2, d1)\n",
        "#gives from first one\n",
        "chain['a'],chain['c']"
      ],
      "metadata": {
        "id": "MCyZt7AU9Ckh",
        "outputId": "b5c86a98-7bc4-4f3b-a821-afd90e9d0c0d",
        "colab": {
          "base_uri": "https://localhost:8080/"
        }
      },
      "execution_count": 18,
      "outputs": [
        {
          "output_type": "execute_result",
          "data": {
            "text/plain": [
              "(2, 6)"
            ]
          },
          "metadata": {},
          "execution_count": 18
        }
      ]
    },
    {
      "cell_type": "code",
      "source": [
        "# counter\n",
        "\n",
        "from collections import Counter\n",
        "\n",
        "c = Counter(a=3, b=1)\n",
        "d = Counter(a=1, b=2)\n",
        "c + d                       # add two counters together:  c[x] + d[x]\n",
        "#Counter({'a': 4, 'b': 3})\n",
        "c - d                       # subtract (keeping only positive counts)\n",
        "#Counter({'a': 2})\n",
        "c & d                       # intersection:  min(c[x], d[x])\n",
        "#Counter({'a': 1, 'b': 1})\n",
        "c | d                       # union:  max(c[x], d[x])\n",
        "#Counter({'a': 3, 'b': 2})\n",
        "c == d                      # equality:  c[x] == d[x]\n",
        "#False\n",
        "c <= d                      # inclusion:  c[x] <= d[x]\n",
        "#False"
      ],
      "metadata": {
        "id": "2a1tAcWg6L9L",
        "outputId": "9f31851b-258d-42b9-b09f-0d9d6fa2a157",
        "colab": {
          "base_uri": "https://localhost:8080/"
        }
      },
      "execution_count": 19,
      "outputs": [
        {
          "output_type": "execute_result",
          "data": {
            "text/plain": [
              "False"
            ]
          },
          "metadata": {},
          "execution_count": 19
        }
      ]
    },
    {
      "cell_type": "code",
      "source": [],
      "metadata": {
        "id": "NqyFEmex5-zF"
      },
      "execution_count": 23,
      "outputs": []
    },
    {
      "cell_type": "markdown",
      "source": [
        "## Structural patter matching (in python 3.10)"
      ],
      "metadata": {
        "id": "QxUWkJn1Exmu"
      }
    },
    {
      "cell_type": "code",
      "source": [
        "\"\"\"\n",
        "Pattern matching with mapping—requires Python ≥ 3.10\n",
        "\n",
        "# tag::DICT_MATCH_TEST[]\n",
        ">>> b1 = dict(api=1, author='Douglas Hofstadter',\n",
        "...         type='book', title='Gödel, Escher, Bach')\n",
        ">>> get_creators(b1)\n",
        "['Douglas Hofstadter']\n",
        ">>> from collections import OrderedDict\n",
        ">>> b2 = OrderedDict(api=2, type='book',\n",
        "...         title='Python in a Nutshell',\n",
        "...         authors='Martelli Ravenscroft Holden'.split())\n",
        ">>> get_creators(b2)\n",
        "['Martelli', 'Ravenscroft', 'Holden']\n",
        ">>> get_creators({'type': 'book', 'pages': 770})\n",
        "Traceback (most recent call last):\n",
        "    ...\n",
        "ValueError: Invalid 'book' record: {'type': 'book', 'pages': 770}\n",
        ">>> get_creators('Spam, spam, spam')\n",
        "Traceback (most recent call last):\n",
        "    ...\n",
        "ValueError: Invalid record: 'Spam, spam, spam'\n",
        "\n",
        "# end::DICT_MATCH_TEST[]\n",
        "\"\"\"\n",
        "\n",
        "# tag::DICT_MATCH[]\n",
        "def get_creators(record: dict) -> list:\n",
        "    match record:\n",
        "        case {'type': 'book', 'api': 2, 'authors': [*names]}:  # <1>\n",
        "            return names\n",
        "        case {'type': 'book', 'api': 1, 'author': name}:  # <2>\n",
        "            return [name]\n",
        "        case {'type': 'book'}:  # <3>\n",
        "            raise ValueError(f\"Invalid 'book' record: {record!r}\")\n",
        "        case {'type': 'movie', 'director': name}:  # <4>\n",
        "            return [name]\n",
        "        case _:  # <5>\n",
        "            raise ValueError(f'Invalid record: {record!r}')"
      ],
      "metadata": {
        "id": "WTdP9MyKE0xe"
      },
      "execution_count": 40,
      "outputs": []
    },
    {
      "cell_type": "code",
      "source": [
        "b1 = dict(api=1, author='Douglas Hofstadter',\n",
        "         type='book', title='Gödel, Escher, Bach')\n",
        "get_creators(b1)\n",
        "\n",
        "# sequence patterns, mapping patterns succeed on partial matches. In the doctests,\n",
        "#the b1 and b2 subjects include a 'title' key that does not appear in any 'book' pattern, yet they match."
      ],
      "metadata": {
        "id": "AfJeN91HFy-v",
        "outputId": "87f5eb6b-2247-430e-feb0-bc30b8829225",
        "colab": {
          "base_uri": "https://localhost:8080/"
        }
      },
      "execution_count": 41,
      "outputs": [
        {
          "output_type": "execute_result",
          "data": {
            "text/plain": [
              "['Douglas Hofstadter']"
            ]
          },
          "metadata": {},
          "execution_count": 41
        }
      ]
    },
    {
      "cell_type": "code",
      "source": [
        "command = input(\"What are you doing next? \")\n",
        "#Matching specific values\n",
        "match command.split():\n",
        "    case [\"quit\"]:\n",
        "        print(\"Goodbye!\")\n",
        "        quit_game()\n",
        "    case [\"look\"]:\n",
        "        current_room.describe()\n",
        "    case [\"get\", obj]:\n",
        "        character.get(obj, current_room)\n",
        "    case [\"go\", direction]:\n",
        "        current_room = current_room.neighbor(direction)\n",
        "\n",
        "#can add wild-card\n",
        "match command.split():\n",
        "    case [\"quit\"]: pass # Code omitted for brevity\n",
        "    case [\"go\", direction]: pass\n",
        "    case [\"drop\", *objects]: pass # Other cases\n",
        "    case _:\n",
        "      print(f\"Sorry, I couldn't understand {command!r}\")\n",
        "\n",
        "\n",
        ""
      ],
      "metadata": {
        "id": "CouNbcd-F6nf"
      },
      "execution_count": null,
      "outputs": []
    },
    {
      "cell_type": "code",
      "source": [
        "#or pattern\n",
        "\n",
        "match command.split():\n",
        "    ... # Other cases\n",
        "    case [\"north\"] | [\"go\", \"north\"]:\n",
        "        current_room = current_room.neighbor(\"north\")\n",
        "    case [\"get\", obj] | [\"pick\", \"up\", obj] | [\"pick\", obj, \"up\"]:\n",
        "        ... # Code for picking up the given object\n",
        "\n",
        "\n",
        "match command.split():\n",
        "    case [\"go\", (\"north\" | \"south\" | \"east\" | \"west\") as direction]:\n",
        "        current_room = current_room.neighbor(direction)\n",
        "\n",
        "match command.split():\n",
        "    case [\"go\", direction] if direction in current_room.exits:\n",
        "        current_room = current_room.neighbor(direction)\n",
        "    case [\"go\", _]:\n",
        "        print(\"Sorry, you can't go that way\")\n",
        "\n",
        "\n",
        "\n",
        "#matching objects\n",
        "\n",
        "match event.get():\n",
        "    case Click(position=(x, y)):\n",
        "        handle_click_at(x, y)\n",
        "    case KeyPress(key_name=\"Q\") | Quit():\n",
        "        game.quit()\n",
        "    case KeyPress(key_name=\"up arrow\"):\n",
        "        game.go_north()\n",
        "    ...\n",
        "    case KeyPress():\n",
        "        pass # Ignore other keystrokes\n",
        "    case other_event:\n",
        "        raise ValueError(f\"Unrecognized event: {other_event}\")\n",
        "\n",
        "#A pattern like KeyPress(), with no arguments will match any object which is an instance of the KeyPress class.\n",
        "#Only the attributes you specify in the pattern are matched, and any other attributes are ignored.\n",
        "\n"
      ],
      "metadata": {
        "id": "rLps-Kn95xsb"
      },
      "execution_count": null,
      "outputs": []
    },
    {
      "cell_type": "code",
      "source": [
        "def pat_match(a):\n",
        "  op = set(['tom','dick'])\n",
        "  match a:\n",
        "    case ['john',direction] if direction in op:\n",
        "      print(f\"yeah {direction}\")\n",
        "    case _:\n",
        "      print(f\"all others\")"
      ],
      "metadata": {
        "id": "F-JnOF9KCP0F"
      },
      "execution_count": 44,
      "outputs": []
    },
    {
      "cell_type": "code",
      "source": [
        "pat_match(['john','pick'])"
      ],
      "metadata": {
        "id": "go9T3EyAJXiv",
        "outputId": "cfa717c2-8201-442a-d44e-0b6da5ff8bb3",
        "colab": {
          "base_uri": "https://localhost:8080/"
        }
      },
      "execution_count": 46,
      "outputs": [
        {
          "output_type": "stream",
          "name": "stdout",
          "text": [
            "all others\n"
          ]
        }
      ]
    },
    {
      "cell_type": "code",
      "source": [],
      "metadata": {
        "id": "BipIwwDGJbSI"
      },
      "execution_count": null,
      "outputs": []
    }
  ]
}