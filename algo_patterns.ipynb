{
  "cells": [
    {
      "cell_type": "markdown",
      "metadata": {
        "id": "view-in-github",
        "colab_type": "text"
      },
      "source": [
        "<a href=\"https://colab.research.google.com/github/vin136/Machine-Learning-Interview-Questions/blob/main/algo_patterns.ipynb\" target=\"_parent\"><img src=\"https://colab.research.google.com/assets/colab-badge.svg\" alt=\"Open In Colab\"/></a>"
      ]
    },
    {
      "cell_type": "markdown",
      "id": "0f6f7699-748e-43ee-927a-d5e1d8c3c9fc",
      "metadata": {
        "tags": [],
        "toc-hr-collapsed": true,
        "id": "0f6f7699-748e-43ee-927a-d5e1d8c3c9fc"
      },
      "source": [
        "# Arrays and hashing"
      ]
    },
    {
      "cell_type": "code",
      "source": [],
      "metadata": {
        "id": "JJnXntIcj5Ds"
      },
      "id": "JJnXntIcj5Ds",
      "execution_count": null,
      "outputs": []
    },
    {
      "cell_type": "markdown",
      "source": [
        "1.Given an integer array nums, return true if any value appears at least twice in the array, and return false if every element is distinct.\n",
        "\n",
        "**sol**  use hashset or sorting\n",
        "\n",
        "2.**Valid anagram**: Given two strings s and t, return true if t is an anagram of s, and false otherwise.\n",
        "\n",
        "**sol**: make two counters(freq of letters) and compare them.\n",
        "\n",
        "3.**TWO SUM:** Given an array of integers nums and an integer target, return indices of the two numbers such that they add up to target.\n",
        "\n",
        "**sol**: sorting or hashmap\n",
        "\n",
        "```\n",
        "class Solution:\n",
        "    def twoSum(self, nums: List[int], target: int) -> List[int]:\n",
        "        prevMap = {}  # val -> index\n",
        "\n",
        "        for i, n in enumerate(nums):\n",
        "            diff = target - n\n",
        "            if diff in prevMap:\n",
        "                return [prevMap[diff], i]\n",
        "            prevMap[n] = i\n",
        "```\n",
        "\n",
        "4.**Group anagrams**: Given an array of strings strs, group the anagrams together. You can return the answer in any order.\n",
        "\n",
        "**sol**: The key could either be the sorted string or tuple of counts(better as independent of string size).\n",
        "\n",
        "```\n",
        "class Solution:\n",
        "    def groupAnagrams(self, strs: List[str]) -> List[List[str]]:\n",
        "        ans = collections.defaultdict(list)\n",
        "\n",
        "        for s in strs:\n",
        "            count = [0] * 26\n",
        "            for c in s:\n",
        "                count[ord(c) - ord(\"a\")] += 1\n",
        "            ans[tuple(count)].append(s)\n",
        "        return ans.values()\n",
        "\n",
        "```\n",
        "5.**Top K Frequent Elements** Given an integer array nums and an integer k, return the k most frequent elements. You may return the answer in any order.\n",
        "\n",
        "**sol**: Counts are known to be less than the length of array.\n",
        "\n",
        "- store dic of {freq:[lis of vals]}\n",
        "- sort freq\n",
        "- return vals upto k.\n",
        "\n",
        "can use a list to store up the keys.\n",
        "\n",
        "\n",
        "```\n",
        "class Solution:\n",
        "    def topKFrequent(self, nums: List[int], k: int) -> List[int]:\n",
        "        count = {}\n",
        "        freq = [[] for i in range(len(nums) + 1)]\n",
        "\n",
        "        for n in nums:\n",
        "            count[n] = 1 + count.get(n, 0)\n",
        "        for n, c in count.items():\n",
        "            freq[c].append(n)\n",
        "\n",
        "        res = []\n",
        "        for i in range(len(freq) - 1, 0, -1):\n",
        "            for n in freq[i]:\n",
        "                res.append(n)\n",
        "                if len(res) == k:\n",
        "                    return res\n",
        "```\n",
        "\n",
        "6. Product of Array Except Self\n",
        "\n",
        "7.** Longest Consecutive Sequence** Given an unsorted array of integers nums, return the length of the longest consecutive elements sequence.\n",
        "\n",
        "**sol** Do we need to sort. How can we identify if a number can be a start of the sequence ? If we can identify the start of a sequence(hint: i is the start if i-1 is not in the list)\n",
        "\n",
        "```\n",
        "class Solution:\n",
        "    def longestConsecutive(self, nums: List[int]) -> int:\n",
        "        numSet = set(nums)\n",
        "        longest = 0\n",
        "\n",
        "        for n in nums:\n",
        "            # check if its the start of a sequence\n",
        "            if (n - 1) not in numSet:\n",
        "                length = 1\n",
        "                while (n + length) in numSet:\n",
        "                    length += 1\n",
        "                longest = max(length, longest)\n",
        "        return longest\n",
        "```\n",
        "\n"
      ],
      "metadata": {
        "id": "lIFqxXwhkdDO"
      },
      "id": "lIFqxXwhkdDO"
    },
    {
      "cell_type": "markdown",
      "source": [
        "# Two Pointers"
      ],
      "metadata": {
        "id": "y4Z9slJ2jzl9"
      },
      "id": "y4Z9slJ2jzl9"
    },
    {
      "cell_type": "code",
      "source": [],
      "metadata": {
        "id": "diPwcAmLjxyu"
      },
      "id": "diPwcAmLjxyu",
      "execution_count": null,
      "outputs": []
    },
    {
      "cell_type": "markdown",
      "id": "83d21455-526e-4327-9577-f016746fe9ed",
      "metadata": {
        "id": "83d21455-526e-4327-9577-f016746fe9ed"
      },
      "source": [
        "## 1.palindrome"
      ]
    },
    {
      "cell_type": "markdown",
      "id": "7cb6dcf6-fbbb-4693-928a-69805ed5d33f",
      "metadata": {
        "id": "7cb6dcf6-fbbb-4693-928a-69805ed5d33f"
      },
      "source": [
        "\n",
        "A phrase is a palindrome if, **after converting all uppercase letters into lowercase letters and removing all non-alphanumeric characters, it reads the same forward and backward. Alphanumeric characters include letters and numbers.**"
      ]
    },
    {
      "cell_type": "markdown",
      "id": "c9feff95-3810-43c5-9958-be17aae80e09",
      "metadata": {
        "id": "c9feff95-3810-43c5-9958-be17aae80e09"
      },
      "source": [
        "Sol: Take left and right pointers and increment them."
      ]
    },
    {
      "cell_type": "code",
      "execution_count": null,
      "id": "3212aec8-2d52-42b4-b833-704b7ef39cd8",
      "metadata": {
        "id": "3212aec8-2d52-42b4-b833-704b7ef39cd8",
        "outputId": "b3ce376a-b4b9-4801-e2c5-c1b942ebcb1f"
      },
      "outputs": [
        {
          "data": {
            "text/plain": [
              "True"
            ]
          },
          "execution_count": 3,
          "metadata": {},
          "output_type": "execute_result"
        }
      ],
      "source": [
        "\n",
        "class Solution:\n",
        "    def isPalindrome(self, s: str) -> bool:\n",
        "        l, r = 0, len(s) - 1\n",
        "        while l < r:\n",
        "            while l < r and not s[l].isalnum():\n",
        "                l += 1\n",
        "            while l < r and not s[r].isalnum():\n",
        "                r -= 1\n",
        "            if s[l].lower() != s[r].lower():\n",
        "                return False\n",
        "            l += 1\n",
        "            r -= 1\n",
        "        return True\n",
        "\n",
        "s = Solution()\n",
        "s.isPalindrome(\"amanaplanacanalpanama\")\n",
        ""
      ]
    },
    {
      "cell_type": "markdown",
      "id": "f15fa3e2-c01e-46c3-9d21-67aca10c88b7",
      "metadata": {
        "id": "f15fa3e2-c01e-46c3-9d21-67aca10c88b7"
      },
      "source": [
        "## 2. three sum"
      ]
    },
    {
      "cell_type": "markdown",
      "id": "10c98a52-69a5-4c91-98d5-63b4e50ce5e0",
      "metadata": {
        "id": "10c98a52-69a5-4c91-98d5-63b4e50ce5e0"
      },
      "source": [
        "**Given an array of integers, nums, and an integer value, target, determine if there are any three integers in nums whose sum equals the target**. Return TRUE if three such integers are found in the array. Otherwise, return FALSE."
      ]
    },
    {
      "cell_type": "markdown",
      "id": "edc2faf0-0758-4cc9-b59f-02d049c5eebb",
      "metadata": {
        "id": "edc2faf0-0758-4cc9-b59f-02d049c5eebb"
      },
      "source": [
        "**sol**: Sort the numbers, progress them to see if the sum to target."
      ]
    },
    {
      "cell_type": "code",
      "execution_count": null,
      "id": "2e65c107-e036-4ec6-9f05-09af685f05d2",
      "metadata": {
        "id": "2e65c107-e036-4ec6-9f05-09af685f05d2"
      },
      "outputs": [],
      "source": [
        "def find_sum_of_three(nums, target):\n",
        "    nums.sort()\n",
        "    i = 0\n",
        "    print(nums)\n",
        "    while i<(len(nums)-2):\n",
        "        j,k = i+1,len(nums)-1\n",
        "        while j<k:\n",
        "            cur_sum = nums[i]+nums[j]+nums[k]\n",
        "            if cur_sum<target:\n",
        "                j += 1\n",
        "            elif cur_sum>target:\n",
        "                k -= 1\n",
        "            else:\n",
        "                return True\n",
        "        i += 1\n",
        "    return False\n",
        "\n",
        "\n",
        ""
      ]
    },
    {
      "cell_type": "code",
      "execution_count": null,
      "id": "cce74120-18c5-424b-86db-8c322baafbbc",
      "metadata": {
        "id": "cce74120-18c5-424b-86db-8c322baafbbc",
        "outputId": "510f32de-fae0-4618-ade2-e584a3912835"
      },
      "outputs": [
        {
          "name": "stdout",
          "output_type": "stream",
          "text": [
            "[1, 2, 3, 4, 5, 7, 8]\n"
          ]
        },
        {
          "data": {
            "text/plain": [
              "True"
            ]
          },
          "execution_count": 20,
          "metadata": {},
          "output_type": "execute_result"
        }
      ],
      "source": [
        "find_sum_of_three([3, 7, 1, 2, 8, 4, 5],6)"
      ]
    },
    {
      "cell_type": "markdown",
      "id": "66cc17ea-fce6-454c-b74f-d21ea0ad9179",
      "metadata": {
        "id": "66cc17ea-fce6-454c-b74f-d21ea0ad9179"
      },
      "source": [
        "## 3. Container with most water"
      ]
    },
    {
      "cell_type": "markdown",
      "id": "a04a8239-b8ef-4e4c-9602-497830ffe887",
      "metadata": {
        "id": "a04a8239-b8ef-4e4c-9602-497830ffe887"
      },
      "source": []
    },
    {
      "cell_type": "markdown",
      "id": "20bbe1cf-1078-47bc-965e-a00905ccd3e6",
      "metadata": {
        "id": "20bbe1cf-1078-47bc-965e-a00905ccd3e6"
      },
      "source": [
        "Container with most water\n",
        "\n",
        "**sol**: Since the bottleneck is the side with least height, increment that side. Locally greedy solution gives the optimal solution."
      ]
    },
    {
      "cell_type": "code",
      "execution_count": null,
      "id": "75fde6e4-82a2-4f69-9c15-7a1f234aac98",
      "metadata": {
        "id": "75fde6e4-82a2-4f69-9c15-7a1f234aac98"
      },
      "outputs": [],
      "source": [
        "class Solution:\n",
        "    def maxArea(self, height):\n",
        "        l, r = 0, len(height) - 1\n",
        "        res = 0\n",
        "\n",
        "        while l < r:\n",
        "            res = max(res, min(height[l], height[r]) * (r - l))\n",
        "            if height[l] < height[r]:\n",
        "                l += 1\n",
        "            elif height[r] <= height[l]:\n",
        "                r -= 1\n",
        "        return res\n",
        "\n",
        "\n"
      ]
    },
    {
      "cell_type": "markdown",
      "id": "ff3e55dd-e265-44fb-8c0d-ed377a4717ef",
      "metadata": {
        "id": "ff3e55dd-e265-44fb-8c0d-ed377a4717ef"
      },
      "source": [
        "4. Trapping rain-water\n",
        "\n",
        "**sol**\n",
        "Calculate max-left height and max-right height. Take min of max-left and max-right. The water trapped at each position |min(max-left,max-right) - height[i]|."
      ]
    },
    {
      "cell_type": "markdown",
      "id": "4796605a-1282-49ff-8daf-0223cea1caeb",
      "metadata": {
        "tags": [],
        "toc-hr-collapsed": true,
        "id": "4796605a-1282-49ff-8daf-0223cea1caeb"
      },
      "source": [
        "# Heaps/Priority Queues"
      ]
    },
    {
      "cell_type": "markdown",
      "id": "2d7bb924-0b63-4748-bbc2-f2bd8644d8b8",
      "metadata": {
        "id": "2d7bb924-0b63-4748-bbc2-f2bd8644d8b8"
      },
      "source": [
        "## 1.Kth largest (revise)"
      ]
    },
    {
      "cell_type": "markdown",
      "id": "7d212991-fc3b-42fa-9fb7-0b44faed9593",
      "metadata": {
        "id": "7d212991-fc3b-42fa-9fb7-0b44faed9593"
      },
      "source": [
        "Given an integer array nums and an integer k, **return the kth largest element in the array.**\n",
        "\n",
        "**sol**: Take the first k elements and form a k-size min-heap. Now for every subsesquent element, if it's greater than top push-pop it., else replace it with it.\n",
        "\n",
        "There are two sensible approaches: 1. Heaps 2. Quick Select"
      ]
    },
    {
      "cell_type": "code",
      "execution_count": null,
      "id": "12ef660d-c54f-448a-a592-bc2da758753d",
      "metadata": {
        "id": "12ef660d-c54f-448a-a592-bc2da758753d"
      },
      "outputs": [],
      "source": [
        "#HEAPS\n",
        "def findKthLargest(nums, k) :\n",
        "    #pass\n",
        "    if len(nums)<k:\n",
        "        return None\n",
        "    else:\n",
        "        min_heap = list(nums[:k])\n",
        "        import heapq\n",
        "        print(min_heap)\n",
        "        heapq.heapify(min_heap)\n",
        "        for i in range(k,len(nums)):\n",
        "            if nums[i]>=min_heap[0]:\n",
        "                 _ = heapq.heappushpop(min_heap,nums[i])\n",
        "            else:\n",
        "                min_heap[0] = nums[i]\n",
        "\n",
        "        return min_heap[0]\n",
        ""
      ]
    },
    {
      "cell_type": "code",
      "execution_count": null,
      "id": "6511eb1c-b641-47ae-9a19-833ca5f7476e",
      "metadata": {
        "id": "6511eb1c-b641-47ae-9a19-833ca5f7476e",
        "outputId": "ba354ee6-77ec-4598-dd5a-b2685582ebe1"
      },
      "outputs": [
        {
          "name": "stdout",
          "output_type": "stream",
          "text": [
            "[1, 2, 3]\n"
          ]
        },
        {
          "data": {
            "text/plain": [
              "2"
            ]
          },
          "execution_count": 33,
          "metadata": {},
          "output_type": "execute_result"
        }
      ],
      "source": [
        "findKthLargest([1,2,3,4],3)"
      ]
    },
    {
      "cell_type": "code",
      "execution_count": null,
      "id": "e914e196-95ea-461e-a25b-6d9b4769e2c0",
      "metadata": {
        "id": "e914e196-95ea-461e-a25b-6d9b4769e2c0"
      },
      "outputs": [],
      "source": [
        "# Solution: QuickSelect\n",
        "# Time Complexity:\n",
        "#   - Best Case: O(n)\n",
        "#   - Average Case: O(n)\n",
        "#   - Worst Case: O(n^2)\n",
        "# Extra Space Complexity: O(1)\n",
        "from typing import List\n",
        "\n",
        "class Solution:\n",
        "    def partition(self, nums: List[int], left: int, right: int) -> int:\n",
        "        pivot, fill = nums[right], left\n",
        "\n",
        "        for i in range(left, right):\n",
        "            if nums[i] <= pivot:\n",
        "                nums[fill], nums[i] = nums[i], nums[fill]\n",
        "                fill += 1\n",
        "\n",
        "        nums[fill], nums[right] = nums[right], nums[fill]\n",
        "\n",
        "        return fill\n",
        "\n",
        "    def findKthLargest(self, nums: List[int], k: int) -> int:\n",
        "        k = len(nums) - k\n",
        "        left, right = 0, len(nums) - 1\n",
        "\n",
        "        while left < right:\n",
        "            pivot = self.partition(nums, left, right)\n",
        "\n",
        "            if pivot < k:\n",
        "                left = pivot + 1\n",
        "            elif pivot > k:\n",
        "                right = pivot - 1\n",
        "            else:\n",
        "                break\n",
        "\n",
        "        return nums[k]"
      ]
    },
    {
      "cell_type": "code",
      "execution_count": null,
      "id": "01f5e00b-5fb9-4b69-a01b-ddda4bf31b24",
      "metadata": {
        "id": "01f5e00b-5fb9-4b69-a01b-ddda4bf31b24",
        "outputId": "2402b5b9-5abd-4e64-9f5a-274ee52efaa2"
      },
      "outputs": [
        {
          "data": {
            "text/plain": [
              "2"
            ]
          },
          "execution_count": 40,
          "metadata": {},
          "output_type": "execute_result"
        }
      ],
      "source": [
        "s = Solution()\n",
        "s.findKthLargest([1,2,3,4],3)"
      ]
    },
    {
      "cell_type": "markdown",
      "id": "7cd0d149-6eea-42b0-bb84-bd33187e91fb",
      "metadata": {
        "id": "7cd0d149-6eea-42b0-bb84-bd33187e91fb"
      },
      "source": [
        "## 2. Median from data-stream\n",
        "\n",
        "**sol** By default add to small or max-heap. if the sizes of one is greater than the other by 1,pop from it and add it to other."
      ]
    },
    {
      "cell_type": "code",
      "execution_count": null,
      "id": "53d9468a-8bef-4f02-bd59-29bc7bf712a4",
      "metadata": {
        "id": "53d9468a-8bef-4f02-bd59-29bc7bf712a4"
      },
      "outputs": [],
      "source": [
        "class MedianFinder:\n",
        "    def __init__(self):\n",
        "        \"\"\"\n",
        "        initialize your data structure here.\n",
        "        \"\"\"\n",
        "        # two heaps, large, small, minheap, maxheap\n",
        "        # heaps should be equal size\n",
        "        self.small, self.large = [], []  # maxHeap, minHeap (python default)\n",
        "\n",
        "    def addNum(self, num: int) -> None:\n",
        "        if self.large and num > self.large[0]:\n",
        "            heapq.heappush(self.large, num)\n",
        "        else:\n",
        "            heapq.heappush(self.small, -1 * num\n",
        "        if len(self.small) > (len(self.large) + 1):\n",
        "            val = -1 * heapq.heappop(self.small)\n",
        "            heapq.heappush(self.large, val)\n",
        "        if len(self.large) > len(self.small) + 1:\n",
        "            val = heapq.heappop(self.large)\n",
        "            heapq.heappush(self.small, -1 * val)\n",
        "\n",
        "    def findMedian(self) -> float:\n",
        "        if len(self.small) > len(self.large):\n",
        "            return -1 * self.small[0]\n",
        "        elif len(self.large) > len(self.small):\n",
        "            return self.large[0]\n",
        "        return (-1 * self.small[0] + self.large[0]) / 2\n"
      ]
    },
    {
      "cell_type": "markdown",
      "id": "f6fbe528-d460-4294-8cf3-1536e6773ef0",
      "metadata": {
        "id": "f6fbe528-d460-4294-8cf3-1536e6773ef0"
      },
      "source": [
        "## 3. Design twitter\n",
        "\n",
        "**sol** Merge k-sorted lists"
      ]
    },
    {
      "cell_type": "code",
      "execution_count": null,
      "id": "640146df-3072-4c17-9c04-adcc19651883",
      "metadata": {
        "id": "640146df-3072-4c17-9c04-adcc19651883"
      },
      "outputs": [],
      "source": [
        "class Twitter:\n",
        "    def __init__(self):\n",
        "        self.count = 0\n",
        "        self.tweetMap = defaultdict(list)  # userId -> list of [count, tweetIds]\n",
        "        self.followMap = defaultdict(set)  # userId -> set of followeeId\n",
        "\n",
        "    def postTweet(self, userId: int, tweetId: int) -> None:\n",
        "        self.tweetMap[userId].append([self.count, tweetId])\n",
        "        self.count -= 1\n",
        "\n",
        "    def getNewsFeed(self, userId: int) -> List[int]:\n",
        "        res = []\n",
        "        minHeap = []\n",
        "\n",
        "        self.followMap[userId].add(userId)\n",
        "        for followeeId in self.followMap[userId]:\n",
        "            if followeeId in self.tweetMap:\n",
        "                index = len(self.tweetMap[followeeId]) - 1\n",
        "                count, tweetId = self.tweetMap[followeeId][index]\n",
        "                heapq.heappush(minHeap, [count, tweetId, followeeId, index - 1])\n",
        "\n",
        "        while minHeap and len(res) < 10:\n",
        "            count, tweetId, followeeId, index = heapq.heappop(minHeap)\n",
        "            res.append(tweetId)\n",
        "            if index >= 0:\n",
        "                count, tweetId = self.tweetMap[followeeId][index]\n",
        "                heapq.heappush(minHeap, [count, tweetId, followeeId, index - 1])\n",
        "        return res\n",
        "\n",
        "    def follow(self, followerId: int, followeeId: int) -> None:\n",
        "        self.followMap[followerId].add(followeeId)\n",
        "\n",
        "    def unfollow(self, followerId: int, followeeId: int) -> None:\n",
        "        if followeeId in self.followMap[followerId]:\n",
        "            self.followMap[followerId].remove(followeeId)\n"
      ]
    },
    {
      "cell_type": "markdown",
      "id": "03e90ab9-a336-4b43-91d5-8e214d4eaffb",
      "metadata": {
        "id": "03e90ab9-a336-4b43-91d5-8e214d4eaffb"
      },
      "source": [
        "## 4. Task scheduler\n",
        "\n",
        "Given a characters array tasks, representing the tasks a CPU needs to do, where each letter represents a different task. Tasks could be done in any order. Each task is done in one unit of time. For each unit of time, the CPU could complete either one task or just be idle.\n",
        "\n",
        "However, there is a non-negative integer n that represents the cooldown period between two same tasks (the same letter in the array), that is that there must be at least n units of time between any two same tasks.\n",
        "\n",
        "Return the least number of units of times that the CPU will take to finish all the given tasks.\n",
        "\n",
        "**Sol**: Just store the task freq in a max-heap and pop each task at a time and perform it, decrement it's count, push it to the queue along with its next available time."
      ]
    },
    {
      "cell_type": "code",
      "execution_count": null,
      "id": "74b09fc6-8c68-4cbf-a20c-8242f2ffd7e5",
      "metadata": {
        "id": "74b09fc6-8c68-4cbf-a20c-8242f2ffd7e5"
      },
      "outputs": [],
      "source": [
        "class Solution:\n",
        "    def leastInterval(self, tasks: List[str], n: int) -> int:\n",
        "        count = Counter(tasks)\n",
        "        maxHeap = [-cnt for cnt in count.values()]\n",
        "        heapq.heapify(maxHeap)\n",
        "\n",
        "        time = 0\n",
        "        q = deque()  # pairs of [-cnt, idleTime]\n",
        "        while maxHeap or q:\n",
        "            time += 1\n",
        "\n",
        "            if not maxHeap:\n",
        "                time = q[0][1]\n",
        "            else:\n",
        "                cnt = 1 + heapq.heappop(maxHeap)\n",
        "                if cnt:\n",
        "                    q.append([cnt, time + n])\n",
        "            if q and q[0][1] == time:\n",
        "                heapq.heappush(maxHeap, q.popleft()[0])\n",
        "        return time"
      ]
    },
    {
      "cell_type": "markdown",
      "id": "c80ea38b-7477-406c-8a82-2c8e761e964f",
      "metadata": {
        "toc-hr-collapsed": true,
        "id": "c80ea38b-7477-406c-8a82-2c8e761e964f"
      },
      "source": [
        "# Back-tracking"
      ]
    },
    {
      "cell_type": "markdown",
      "id": "15a9d96c-601a-4e64-a5cc-6a2b2952b092",
      "metadata": {
        "id": "15a9d96c-601a-4e64-a5cc-6a2b2952b092"
      },
      "source": [
        "## 1. Subsets(revise)\n",
        "\n",
        "**sol**\n",
        "1. Backtracking: fill up each position with one of the possibility : take it or not (bit) and finally generate sets out of it.\n"
      ]
    },
    {
      "cell_type": "code",
      "execution_count": null,
      "id": "9b9c695b-aa82-43c0-ba5d-a123de57636b",
      "metadata": {
        "id": "9b9c695b-aa82-43c0-ba5d-a123de57636b"
      },
      "outputs": [],
      "source": [
        "def find_all_subsets(v):\n",
        "    # Write your code here\n",
        "    sz = len(v)\n",
        "    out = []\n",
        "    def build_set(cur ,sz):\n",
        "        if len(cur) == sz:\n",
        "            temp = []\n",
        "            for ind,ele in enumerate(cur):\n",
        "                if ele == 1:\n",
        "                    temp.append(v[ind])\n",
        "            out.append(temp)\n",
        "            return\n",
        "        for bit in [0,1]:\n",
        "            nxt = list(cur)\n",
        "            nxt.append(bit)\n",
        "            build_set(nxt,sz)\n",
        "    build_set([],sz)\n",
        "\n",
        "    return out"
      ]
    },
    {
      "cell_type": "code",
      "execution_count": null,
      "id": "aea17179-a96d-4b46-b7fb-0ff00ba2aa8a",
      "metadata": {
        "id": "aea17179-a96d-4b46-b7fb-0ff00ba2aa8a",
        "outputId": "18c5a5cf-9268-4fdc-fc57-7250c0c0a072"
      },
      "outputs": [
        {
          "data": {
            "text/plain": [
              "[[], [7], [5], [5, 7], [2], [2, 7], [2, 5], [2, 5, 7]]"
            ]
          },
          "execution_count": 53,
          "metadata": {},
          "output_type": "execute_result"
        }
      ],
      "source": [
        "find_all_subsets([2,5,7])"
      ]
    },
    {
      "cell_type": "code",
      "execution_count": null,
      "id": "9f96002b-fea1-4cba-adf4-1d812323a0ad",
      "metadata": {
        "id": "9f96002b-fea1-4cba-adf4-1d812323a0ad"
      },
      "outputs": [],
      "source": [
        "# Can also be done more recursively\n",
        "\n",
        "class Solution:\n",
        "    def subsets(self, nums: List[int]) -> List[List[int]]:\n",
        "        res = []\n",
        "\n",
        "        subset = []\n",
        "\n",
        "        def dfs(i):\n",
        "            if i >= len(nums):\n",
        "                res.append(subset.copy())\n",
        "                return\n",
        "            # decision to include nums[i]\n",
        "            subset.append(nums[i])\n",
        "            dfs(i + 1)\n",
        "            # decision NOT to include nums[i]\n",
        "            subset.pop()\n",
        "            dfs(i + 1)\n",
        "\n",
        "        dfs(0)\n",
        "        return res"
      ]
    },
    {
      "cell_type": "code",
      "execution_count": null,
      "id": "2d707d07-78f7-442e-8596-62ecf489f75e",
      "metadata": {
        "id": "2d707d07-78f7-442e-8596-62ecf489f75e",
        "outputId": "d3b667d2-3c6a-4308-d330-1a800b7f6fd7"
      },
      "outputs": [
        {
          "data": {
            "text/plain": [
              "[[2, 5, 7], [2, 5], [2, 7], [2], [5, 7], [5], [7], []]"
            ]
          },
          "execution_count": 58,
          "metadata": {},
          "output_type": "execute_result"
        }
      ],
      "source": [
        "s = Solution()\n",
        "s.subsets([2,5,7])"
      ]
    },
    {
      "cell_type": "markdown",
      "id": "72f1c3e0-d9ca-4a19-90f3-0ddc5e32cacf",
      "metadata": {
        "id": "72f1c3e0-d9ca-4a19-90f3-0ddc5e32cacf"
      },
      "source": [
        "## 2. Permutations"
      ]
    },
    {
      "cell_type": "code",
      "execution_count": null,
      "id": "5501e795-869e-47cf-bbde-703e9f9260ab",
      "metadata": {
        "id": "5501e795-869e-47cf-bbde-703e9f9260ab"
      },
      "outputs": [],
      "source": [
        "def permute_word(word):\n",
        "    result = []\n",
        "\n",
        "    # TODO: Write your code here\n",
        "    letters = list(word)\n",
        "    out = set()\n",
        "    #print(f\"{word}\")\n",
        "    def get_permutations(lis_letters):\n",
        "        #print(f\"called with:{lis_letters}\")\n",
        "        if len(lis_letters) == 0:\n",
        "            return []\n",
        "        elif len(lis_letters) == 1:\n",
        "            return [list(lis_letters)]\n",
        "        else:\n",
        "            #print(f\"current letters:{lis_letters}\")\n",
        "            perm_lis = []\n",
        "            cur_letter = lis_letters[0]\n",
        "            all_perms = get_permutations(lis_letters[1:])\n",
        "            #print(f\"all perms:{all_perms}\")\n",
        "            for perm in all_perms:\n",
        "                for i in range(len(perm)+1):\n",
        "                    temp_perm = perm[:i]+[cur_letter]+perm[i:]\n",
        "                    perm_lis.append(temp_perm)\n",
        "            return perm_lis\n",
        "\n",
        "\n",
        "    all_perms = get_permutations(letters)\n",
        "    for perm in all_perms:\n",
        "      t_str = ''.join(perm)\n",
        "      if t_str not in out:\n",
        "        out.add(t_str)\n",
        "    return list(out)\n",
        "\n"
      ]
    },
    {
      "cell_type": "code",
      "execution_count": null,
      "id": "3c3e3ea6-5072-4316-a6ee-9aa36e280f26",
      "metadata": {
        "id": "3c3e3ea6-5072-4316-a6ee-9aa36e280f26",
        "outputId": "79759ca9-b0fd-453e-8dbb-b3c00c0ec336"
      },
      "outputs": [
        {
          "data": {
            "text/plain": [
              "['dbca',\n",
              " 'acdb',\n",
              " 'badc',\n",
              " 'bacd',\n",
              " 'dbac',\n",
              " 'adcb',\n",
              " 'acbd',\n",
              " 'bcda',\n",
              " 'dcab',\n",
              " 'cbad',\n",
              " 'adbc',\n",
              " 'cdab',\n",
              " 'dabc',\n",
              " 'abcd',\n",
              " 'cbda',\n",
              " 'abdc',\n",
              " 'dacb',\n",
              " 'cdba',\n",
              " 'cabd',\n",
              " 'dcba',\n",
              " 'bcad',\n",
              " 'cadb',\n",
              " 'bdac',\n",
              " 'bdca']"
            ]
          },
          "execution_count": 56,
          "metadata": {},
          "output_type": "execute_result"
        }
      ],
      "source": [
        "permute_word(\"abcd\")"
      ]
    },
    {
      "cell_type": "markdown",
      "id": "df67d2fe-04f8-4f4c-8b23-eb984642f90c",
      "metadata": {
        "id": "df67d2fe-04f8-4f4c-8b23-eb984642f90c"
      },
      "source": [
        "## 3. Combination sum (revise)\n",
        "Given an array of distinct integers candidates and a target integer target, return a list of all unique combinations of candidates where the chosen numbers sum to target. You may return the combinations in any order.\n",
        "\n",
        "The same number may be chosen from candidates an unlimited number of times. Two combinations are unique if the\n",
        "frequency\n",
        " of at least one of the chosen numbers is different.\n",
        "\n",
        "**sol**:\n",
        "In your backtracking/recursion to avoid duplicate sets, on one path take all that include that element on the other that doesn't include."
      ]
    },
    {
      "cell_type": "code",
      "execution_count": null,
      "id": "aad67baa-ae62-444a-be64-900dad18ee7a",
      "metadata": {
        "id": "aad67baa-ae62-444a-be64-900dad18ee7a"
      },
      "outputs": [],
      "source": [
        "class Solution:\n",
        "    def combinationSum(self, candidates: List[int], target: int) -> List[List[int]]:\n",
        "        sz = len(candidates)\n",
        "        out = []\n",
        "        def bk(i,cur_sum,temp_lis):\n",
        "            #print(f\"i == {i},cur_sum:{cur_sum}\")\n",
        "            #take it\n",
        "            if i>=sz or cur_sum>target:\n",
        "                return\n",
        "            if cur_sum == target:\n",
        "                out.append(list(temp_lis))\n",
        "                return\n",
        "            #take it\n",
        "            temp_lis.append(candidates[i])\n",
        "            bk(i,cur_sum+candidates[i],temp_lis)\n",
        "            #not take it\n",
        "            temp_lis.pop()\n",
        "            bk(i+1,cur_sum,temp_lis)\n",
        "        bk(0,0,[])\n",
        "        return out\n",
        "\n",
        "\n",
        "\n",
        "\n",
        ""
      ]
    },
    {
      "cell_type": "code",
      "execution_count": null,
      "id": "3bafb716-d049-483f-9c2b-08f0b83e41ef",
      "metadata": {
        "id": "3bafb716-d049-483f-9c2b-08f0b83e41ef",
        "outputId": "5e3490d1-063c-4d06-d113-7f5c3271258b"
      },
      "outputs": [
        {
          "data": {
            "text/plain": [
              "[[2, 2, 2, 2], [2, 3, 3], [3, 5]]"
            ]
          },
          "execution_count": 74,
          "metadata": {},
          "output_type": "execute_result"
        }
      ],
      "source": [
        "s = Solution()\n",
        "s.combinationSum(candidates = [2,3,5], target = 8)"
      ]
    },
    {
      "cell_type": "markdown",
      "id": "2f2e65ec-3988-4264-8cd6-bd739b508b3e",
      "metadata": {
        "id": "2f2e65ec-3988-4264-8cd6-bd739b508b3e"
      },
      "source": [
        "**BOTH QUESTIONS BELOW HAVE SAME LOGIC: TO AVOID DUPLICATES , SORT AND IF YOU TAKE AN ELEMENT , IN THE OTHER CALL AVOID TAKING THE SAME ELEMENT(CONTINUE UNTIL NEW ELEMENT IS FOUND)**"
      ]
    },
    {
      "cell_type": "markdown",
      "id": "fed720ab-5a9f-4691-add0-7ab07f5e0dcd",
      "metadata": {
        "id": "fed720ab-5a9f-4691-add0-7ab07f5e0dcd"
      },
      "source": [
        "## 3. Subset II\n",
        "Given an integer array nums that may contain duplicates, return all possible\n",
        "subsets\n",
        " (the power set).\n",
        "\n",
        "The solution set must not contain duplicate subsets. Return the solution in any order."
      ]
    },
    {
      "cell_type": "code",
      "execution_count": null,
      "id": "120296a4-d906-4330-ac21-ed1ee3ad1ca6",
      "metadata": {
        "id": "120296a4-d906-4330-ac21-ed1ee3ad1ca6"
      },
      "outputs": [],
      "source": [
        "class Solution:\n",
        "    def subsetsWithDup(self, nums: List[int]) -> List[List[int]]:\n",
        "        res = []\n",
        "        nums.sort()\n",
        "\n",
        "        def backtrack(i, subset):\n",
        "            if i == len(nums):\n",
        "                res.append(subset[::])\n",
        "                return\n",
        "\n",
        "            # All subsets that include nums[i]\n",
        "            subset.append(nums[i])\n",
        "            backtrack(i + 1, subset)\n",
        "            subset.pop()\n",
        "            # All subsets that don't include nums[i]\n",
        "            while i + 1 < len(nums) and nums[i] == nums[i + 1]:\n",
        "                i += 1\n",
        "            backtrack(i + 1, subset)\n",
        "\n",
        "        backtrack(0, [])\n",
        "        return res\n"
      ]
    },
    {
      "cell_type": "code",
      "execution_count": null,
      "id": "17868000-3c94-42a4-ab27-d34e225a0715",
      "metadata": {
        "id": "17868000-3c94-42a4-ab27-d34e225a0715",
        "outputId": "b5c0af48-8101-4456-e737-83112947c82d"
      },
      "outputs": [
        {
          "data": {
            "text/plain": [
              "[[1, 2, 2], [1, 2], [1], [2, 2], [2], []]"
            ]
          },
          "execution_count": 77,
          "metadata": {},
          "output_type": "execute_result"
        }
      ],
      "source": [
        "s = Solution()\n",
        "s.subsetsWithDup(nums = [1,2,2])"
      ]
    },
    {
      "cell_type": "markdown",
      "id": "b868d29d-6629-4d44-8f3e-994821a5a330",
      "metadata": {
        "id": "b868d29d-6629-4d44-8f3e-994821a5a330"
      },
      "source": [
        "## 4. Combinations II\n",
        "\n",
        "Given a collection of candidate numbers (candidates) and a target number (target), find all unique combinations in candidates where the candidate numbers sum to target.\n",
        "\n",
        "Each number in candidates may only be used once in the combination.\n",
        "\n",
        "Note: The solution set must not contain duplicate combinations"
      ]
    },
    {
      "cell_type": "code",
      "execution_count": null,
      "id": "eb1ff3f9-383b-4b3f-9e25-d069763e3652",
      "metadata": {
        "id": "eb1ff3f9-383b-4b3f-9e25-d069763e3652"
      },
      "outputs": [],
      "source": [
        "class Solution:\n",
        "    def combinationSum2(self, candidates: List[int], target: int) -> List[List[int]]:\n",
        "        candidates.sort()\n",
        "\n",
        "        res = []\n",
        "\n",
        "        def backtrack(cur, pos, target):\n",
        "            if target == 0:\n",
        "                res.append(cur.copy())\n",
        "                return\n",
        "            if target <= 0:\n",
        "                return\n",
        "\n",
        "            prev = -1\n",
        "            for i in range(pos, len(candidates)):\n",
        "                if candidates[i] == prev:\n",
        "                    continue\n",
        "                cur.append(candidates[i])\n",
        "                backtrack(cur, i + 1, target - candidates[i])\n",
        "                cur.pop()\n",
        "                prev = candidates[i]\n",
        "\n",
        "        backtrack([], 0, target)\n",
        "        return res\n"
      ]
    },
    {
      "cell_type": "markdown",
      "id": "48547968-7cfd-40bf-b8ca-0d2d4d73ecf5",
      "metadata": {
        "id": "48547968-7cfd-40bf-b8ca-0d2d4d73ecf5"
      },
      "source": [
        "# Linked-lists"
      ]
    },
    {
      "cell_type": "markdown",
      "id": "8675c00d-1ce6-46cc-aed9-714445d3a83c",
      "metadata": {
        "id": "8675c00d-1ce6-46cc-aed9-714445d3a83c"
      },
      "source": [
        "# Trees"
      ]
    },
    {
      "cell_type": "code",
      "execution_count": null,
      "id": "5b351625-cd62-4851-a735-a0f55923f73b",
      "metadata": {
        "id": "5b351625-cd62-4851-a735-a0f55923f73b"
      },
      "outputs": [],
      "source": []
    },
    {
      "cell_type": "markdown",
      "id": "01ff82ea-73c7-48d4-87fb-d63ed36dbf67",
      "metadata": {
        "id": "01ff82ea-73c7-48d4-87fb-d63ed36dbf67"
      },
      "source": [
        "# Intervals"
      ]
    },
    {
      "cell_type": "code",
      "execution_count": null,
      "id": "dcac004c-2997-4ca9-9740-e4543c6a4d03",
      "metadata": {
        "id": "dcac004c-2997-4ca9-9740-e4543c6a4d03"
      },
      "outputs": [],
      "source": []
    },
    {
      "cell_type": "markdown",
      "id": "caa67b10-3e11-4806-baeb-c77e68e3bd0d",
      "metadata": {
        "id": "caa67b10-3e11-4806-baeb-c77e68e3bd0d"
      },
      "source": [
        "# SLIDING WINDOW"
      ]
    },
    {
      "cell_type": "code",
      "execution_count": null,
      "id": "e491c2af-f288-41ec-b9ab-d2bb8f7f369f",
      "metadata": {
        "id": "e491c2af-f288-41ec-b9ab-d2bb8f7f369f"
      },
      "outputs": [],
      "source": [
        "from __future__ import annotations"
      ]
    },
    {
      "cell_type": "markdown",
      "id": "3b2fb5d1-4e6b-4d75-8dd2-4c69f796aa39",
      "metadata": {
        "id": "3b2fb5d1-4e6b-4d75-8dd2-4c69f796aa39"
      },
      "source": [
        "## 1. MAX OF A SLIDING WINDOW"
      ]
    },
    {
      "cell_type": "code",
      "execution_count": null,
      "id": "e0aeecf9-5763-4757-9fdb-b2b5ca31810b",
      "metadata": {
        "id": "e0aeecf9-5763-4757-9fdb-b2b5ca31810b"
      },
      "outputs": [],
      "source": [
        "class Solution:\n",
        "    def maxSlidingWindow(self, nums: List[int], k: int) -> List[int]:\n",
        "        from collections import deque\n",
        "        sliding_window = deque([])\n",
        "        out = []\n",
        "        window_size = k\n",
        "        for i in range(0,len(nums)):\n",
        "            while sliding_window and (nums[i]>sliding_window[0][0]):\n",
        "                _ = sliding_window.popleft()\n",
        "            sliding_window.appendleft((nums[i],i))\n",
        "\n",
        "            if i>= (window_size-1):\n",
        "                while sliding_window and sliding_window[-1][-1]<=(i-window_size):\n",
        "                        _ = sliding_window.pop()\n",
        "                if sliding_window:\n",
        "                    out.append(sliding_window[-1][0])\n",
        "        return out"
      ]
    },
    {
      "cell_type": "code",
      "execution_count": null,
      "id": "d510fdac-63de-4c02-af83-5436e767ecb3",
      "metadata": {
        "id": "d510fdac-63de-4c02-af83-5436e767ecb3",
        "outputId": "f3eceeef-5b97-414d-fad2-aa65777ce5a2"
      },
      "outputs": [
        {
          "data": {
            "text/plain": [
              "[3, 3, 5, 5, 6, 7]"
            ]
          },
          "execution_count": 4,
          "metadata": {},
          "output_type": "execute_result"
        }
      ],
      "source": [
        "nums = [1,3,-1,-3,5,3,6,7]\n",
        "k = 3\n",
        "\n",
        "s = Solution()\n",
        "s.maxSlidingWindow(nums,k)"
      ]
    },
    {
      "cell_type": "markdown",
      "id": "6dda3ca9-076b-456e-9cca-7aa0a497014e",
      "metadata": {
        "id": "6dda3ca9-076b-456e-9cca-7aa0a497014e"
      },
      "source": [
        "**2. Given strings str1 and str2, find the minimum (contiguous) substring sub_str of str1, such that every character of str2 appears in sub_str in the same order as it is present in str2.**"
      ]
    },
    {
      "cell_type": "markdown",
      "id": "6f6ae896-35ba-4cf9-bb23-f056f6eda64a",
      "metadata": {
        "id": "6f6ae896-35ba-4cf9-bb23-f056f6eda64a"
      },
      "source": [
        "`APPROACH`: Frame it as a DP problem."
      ]
    },
    {
      "cell_type": "code",
      "execution_count": null,
      "id": "6abe3ee8-1be7-487c-bdf0-411e4d5da41e",
      "metadata": {
        "id": "6abe3ee8-1be7-487c-bdf0-411e4d5da41e"
      },
      "outputs": [],
      "source": [
        "def min_window(str1, str2):\n",
        "    #from collections import defauldict\n",
        "    import math\n",
        "    # write your code here\n",
        "    sz1 = len(str1)\n",
        "    sz2 = len(str2)\n",
        "    dp_tbl = {}\n",
        "    #dp_tbl[(i,j)] => stores the index k in str1 s.t str1[k:j+1] contains the entire substring str2[:i+1] and\n",
        "    #it's the smallest in str1 ending at j\n",
        "    #BASE CASE: Fill the first row\n",
        "    #topological order: row by row\n",
        "\n",
        "    for row in range(sz2):\n",
        "        for col in range(sz1):\n",
        "            if str2[row] == str1[col]:\n",
        "                dp_tbl[(row,col)] = dp_tbl.get((row-1,col-1),col if row==0 else -1)\n",
        "            else:\n",
        "                dp_tbl[(row,col)] = dp_tbl.get((row,col-1),-1)\n",
        "    st = -1\n",
        "    end = -1\n",
        "    min_sz = math.inf\n",
        "    for c in range(sz1):\n",
        "\n",
        "        pos_st = dp_tbl[(sz2-1,c)]\n",
        "        #print(pos_st)\n",
        "        if pos_st != -1:\n",
        "            l = (c-pos_st)+1\n",
        "            if l<min_sz:\n",
        "                st = pos_st\n",
        "                end = c\n",
        "                min_sz = l\n",
        "\n",
        "    if st != -1:\n",
        "        return str1[st:end+1]\n",
        "    else:\n",
        "        return \"\"\n",
        "\n",
        "\n",
        "\n"
      ]
    },
    {
      "cell_type": "code",
      "execution_count": null,
      "id": "bec750af-233b-4f78-8223-fe6de9725a5d",
      "metadata": {
        "id": "bec750af-233b-4f78-8223-fe6de9725a5d",
        "outputId": "771acff2-f742-45ca-ed83-00cd3fbb7cf5"
      },
      "outputs": [
        {
          "data": {
            "text/plain": [
              "'afgegrwgwga'"
            ]
          },
          "execution_count": 8,
          "metadata": {},
          "output_type": "execute_result"
        }
      ],
      "source": [
        "min_window(\"afgegrwgwga\" , \"aa\")\n"
      ]
    },
    {
      "cell_type": "code",
      "execution_count": null,
      "id": "5cbe1035-afab-4dfd-9ef8-bcce54250c44",
      "metadata": {
        "id": "5cbe1035-afab-4dfd-9ef8-bcce54250c44",
        "outputId": "e2cc284a-d01a-4b24-dba4-57856ce81537"
      },
      "outputs": [
        {
          "data": {
            "text/plain": [
              "'bcde'"
            ]
          },
          "execution_count": 9,
          "metadata": {},
          "output_type": "execute_result"
        }
      ],
      "source": [
        "min_window(\"abcdebdde\" , \"bde\")"
      ]
    },
    {
      "cell_type": "markdown",
      "id": "9b59f91b-610e-4e9b-80df-18097ed6eef3",
      "metadata": {
        "id": "9b59f91b-610e-4e9b-80df-18097ed6eef3"
      },
      "source": [
        "**3. Given a string s that represents a DNA sequence, and a number k, return all the contiguous sequences (substrings) of length k that occur more than once in the string. The order of the returned subsequences does not matter. If no repeated subsequence is found, the function should return an empty set.**\n",
        "\n"
      ]
    },
    {
      "cell_type": "markdown",
      "id": "def3a6a8-3b26-498a-8f31-dc822f3a0f4b",
      "metadata": {
        "id": "def3a6a8-3b26-498a-8f31-dc822f3a0f4b"
      },
      "source": [
        "Below is O(N*K) as we repeatedly calculate hash for each substring. A better approach is to use\n",
        "rolling hash.\n",
        "\n"
      ]
    },
    {
      "cell_type": "code",
      "execution_count": null,
      "id": "70ea872b-0f59-4bbb-9c63-47d89d56d19f",
      "metadata": {
        "id": "70ea872b-0f59-4bbb-9c63-47d89d56d19f"
      },
      "outputs": [],
      "source": [
        "def find_repeated_sequences(s, k):\n",
        "    # your code will replace this placeholder return statement\n",
        "    seen = set()\n",
        "    out = set()\n",
        "    for i in range(len(s)-k):\n",
        "        if s[i:i+k+1] in seen:\n",
        "            out.add(s[i:i+k+1])\n",
        "        seen.add(s[i:i+k+1])"
      ]
    },
    {
      "cell_type": "markdown",
      "id": "98812969-7fdf-4207-9185-077a2d0648f1",
      "metadata": {
        "id": "98812969-7fdf-4207-9185-077a2d0648f1"
      },
      "source": [
        "**4.Minimum Window Substring:Given two strings—s and t, find the smallest window substring of t. The smallest window substring is the shortest sequence of characters in s that includes all of the characters present in t. The frequency of each character in this sequence should be greater than or equal to the frequency of each character in t. The order of the characters doesn’t matter here.**\n",
        "\n",
        "**5.Longest Substring Without Repeating Characters**\n",
        "\n",
        "**6.Minimum Size Subarray Sum: Given an array of positive integers nums and a positive integer target, find the window size of the shortest contiguous subarray whose sum is greater than or equal to the target value. If no subarray is found, 0 is returned.**"
      ]
    },
    {
      "cell_type": "code",
      "execution_count": null,
      "id": "e2d35917-31e5-4a27-a7d9-eeebdfaab5f4",
      "metadata": {
        "id": "e2d35917-31e5-4a27-a7d9-eeebdfaab5f4"
      },
      "outputs": [],
      "source": [
        "\n",
        "def min_window(s, t):\n",
        "    if t == \"\":\n",
        "        return \"\"\n",
        "\n",
        "    countT, window = {}, {}\n",
        "    for c in t:\n",
        "        countT[c] = 1 + countT.get(c, 0)\n",
        "\n",
        "    have, need = 0, len(countT)\n",
        "    res, resLen = [-1, -1], float(\"infinity\")\n",
        "    l = 0\n",
        "    for r in range(len(s)):\n",
        "        c = s[r]\n",
        "        window[c] = 1 + window.get(c, 0)\n",
        "\n",
        "        if c in countT and window[c] == countT[c]:\n",
        "            have += 1\n",
        "\n",
        "        while have == need:\n",
        "            # update our result\n",
        "            if (r - l + 1) < resLen:\n",
        "                res = [l, r]\n",
        "                resLen = r - l + 1\n",
        "            # pop from the left of our window\n",
        "            window[s[l]] -= 1\n",
        "            if s[l] in countT and window[s[l]] < countT[s[l]]:\n",
        "                have -= 1\n",
        "            l += 1\n",
        "    l, r = res\n",
        "    return s[l : r + 1] if resLen != float(\"infinity\") else \"\""
      ]
    },
    {
      "cell_type": "code",
      "execution_count": null,
      "id": "33398121-9913-4a67-9ba1-efbaf0031142",
      "metadata": {
        "id": "33398121-9913-4a67-9ba1-efbaf0031142",
        "outputId": "8026e9bc-086a-46dc-ada5-b849a57faee7"
      },
      "outputs": [
        {
          "data": {
            "text/plain": [
              "'DCKAB'"
            ]
          },
          "execution_count": 13,
          "metadata": {},
          "output_type": "execute_result"
        }
      ],
      "source": [
        "min_window(\"ABDFGDCKAB\" , \"ABCD\")"
      ]
    },
    {
      "cell_type": "code",
      "execution_count": null,
      "id": "1a6bfc15-b882-466c-bb53-ec98158a1670",
      "metadata": {
        "id": "1a6bfc15-b882-466c-bb53-ec98158a1670"
      },
      "outputs": [],
      "source": [
        "def find_longest_substring(s):\n",
        "    # your code will replace this placeholder return statement\n",
        "    sub = set()\n",
        "    j, l, m = 0, 0, 0\n",
        "\n",
        "    while j < len(s):\n",
        "        while s[j] in sub:\n",
        "            sub.remove(s[l])\n",
        "            l += 1\n",
        "        sub.add(s[j])\n",
        "        m = max(m, j - l + 1)\n",
        "        j += 1\n",
        "    return m\n"
      ]
    },
    {
      "cell_type": "code",
      "execution_count": null,
      "id": "7855c55e-b13b-455f-9ce3-6d112f8fa07d",
      "metadata": {
        "id": "7855c55e-b13b-455f-9ce3-6d112f8fa07d",
        "outputId": "cf7acdd2-9806-426f-c9a2-949e598937ad"
      },
      "outputs": [
        {
          "data": {
            "text/plain": [
              "3"
            ]
          },
          "execution_count": 15,
          "metadata": {},
          "output_type": "execute_result"
        }
      ],
      "source": [
        "find_longest_substring(\"abccabcabcc\")"
      ]
    },
    {
      "cell_type": "code",
      "execution_count": null,
      "id": "cebe07d9-6d51-4ca9-997f-b25350f1255c",
      "metadata": {
        "id": "cebe07d9-6d51-4ca9-997f-b25350f1255c"
      },
      "outputs": [],
      "source": [
        "def min_sub_array_len(target, nums):\n",
        "    import math\n",
        "    # your code will replace this placeholder return statement\n",
        "    sz = math.inf\n",
        "    l,r = 0,0\n",
        "    window_sum = 0\n",
        "    while r<len(nums):\n",
        "        window_sum += nums[r]\n",
        "        while window_sum>= target and l<=r :\n",
        "            sz = min(sz,r-l+1)\n",
        "            if window_sum-nums[l]>= target:\n",
        "                window_sum -= nums[l]\n",
        "                l += 1\n",
        "            else:\n",
        "                break\n",
        "\n",
        "        r += 1\n",
        "\n",
        "\n",
        "\n",
        "    return sz if sz != math.inf else 0"
      ]
    },
    {
      "cell_type": "code",
      "execution_count": null,
      "id": "5a802bcc-30dd-4342-9d80-2926eb316fc0",
      "metadata": {
        "id": "5a802bcc-30dd-4342-9d80-2926eb316fc0",
        "outputId": "0b943887-b5ea-4df6-aebe-1ae106542219"
      },
      "outputs": [
        {
          "data": {
            "text/plain": [
              "2"
            ]
          },
          "execution_count": 17,
          "metadata": {},
          "output_type": "execute_result"
        }
      ],
      "source": [
        "min_sub_array_len(7 , [2,3,1,2,4,3])"
      ]
    },
    {
      "cell_type": "markdown",
      "id": "39abc659-67c7-4e7b-a73f-5fc5fb069172",
      "metadata": {
        "id": "39abc659-67c7-4e7b-a73f-5fc5fb069172"
      },
      "source": [
        "## TWO POINTERS"
      ]
    },
    {
      "cell_type": "markdown",
      "id": "751971be-dffd-494c-a3d2-8fa3667f1aa6",
      "metadata": {
        "id": "751971be-dffd-494c-a3d2-8fa3667f1aa6"
      },
      "source": [
        "**1. Check valid palindrome**"
      ]
    },
    {
      "cell_type": "code",
      "execution_count": null,
      "id": "302e2ae8-c94c-4ed5-81c6-709eb397c829",
      "metadata": {
        "id": "302e2ae8-c94c-4ed5-81c6-709eb397c829"
      },
      "outputs": [],
      "source": [
        "def is_palindrome(s):\n",
        "    st,end = 0,len(s)-1\n",
        "    out = True\n",
        "    while st<end:\n",
        "        if s[st] != s[end]:\n",
        "            out = False\n",
        "            break\n",
        "        st += 1\n",
        "        end -= 1\n",
        "    return out"
      ]
    },
    {
      "cell_type": "markdown",
      "id": "d88a1f1e-06d0-4d0a-b520-d97500a47fce",
      "metadata": {
        "id": "d88a1f1e-06d0-4d0a-b520-d97500a47fce"
      },
      "source": [
        "**2. Three sum**"
      ]
    },
    {
      "cell_type": "code",
      "execution_count": null,
      "id": "1c6a865e-9899-4040-b39d-3891bb5c5645",
      "metadata": {
        "id": "1c6a865e-9899-4040-b39d-3891bb5c5645"
      },
      "outputs": [],
      "source": [
        "def find_sum_of_three(nums, target):\n",
        "    # Sorting the input list\n",
        "    nums.sort()\n",
        "\n",
        "    # Fix one element at a time and find the other two\n",
        "    for i in range(0, len(nums)-2):\n",
        "        # Set the indexes of the two pointers\n",
        "\n",
        "        # Index of the first of the remaining elements\n",
        "        low = i + 1\n",
        "\n",
        "        # Last index\n",
        "        high = len(nums) - 1\n",
        "\n",
        "        while low < high:\n",
        "            # Check if the sum of the triple is equal to the sum\n",
        "            triple = nums[i] + nums[low] + nums[high]\n",
        "            # Found a triple whose sum equals the target\n",
        "            if triple == target:\n",
        "                return True\n",
        "                # Move low pointer forward if the triple sum is less\n",
        "                # than the required sum\n",
        "            elif triple < target:\n",
        "                low += 1\n",
        "                # Move the high pointer backwards if the triple\n",
        "                # sum is greater than the required sum\n",
        "            else:\n",
        "                high -= 1\n",
        "    return False"
      ]
    },
    {
      "cell_type": "markdown",
      "id": "e058e406-5ed3-4987-b1ba-d13b34dd2d87",
      "metadata": {
        "id": "e058e406-5ed3-4987-b1ba-d13b34dd2d87"
      },
      "source": [
        "**3. Reverse words in a string : Given a sentence, reverse the order of its words without affecting the order of letters within a given word. All operations must be done in place.**"
      ]
    },
    {
      "cell_type": "code",
      "execution_count": null,
      "id": "dc7d693d-316e-4939-accc-f46955f9133e",
      "metadata": {
        "id": "dc7d693d-316e-4939-accc-f46955f9133e"
      },
      "outputs": [],
      "source": [
        "def reverse_words(sentence):\n",
        "    #  To reverse all words in the string, we will first reverse\n",
        "    #  the entire string.\n",
        "    sentence = list(sentence)\n",
        "    str_len = len(sentence)\n",
        "    str_rev(sentence, 0, str_len - 1)\n",
        "    #  Now all the words are in the desired location, but\n",
        "    #  in reverse order: \"Hello World\" -> \"dlroW olleH\".\n",
        "\n",
        "    # Now, let's iterate the sentence and reverse each word in place.\n",
        "    # \"dlroW olleH\" -> \"World Hello\"\n",
        "    start = 0\n",
        "    end = 0\n",
        "\n",
        "    while True:\n",
        "        # Find the start index of each word by detecting spaces.\n",
        "        while start < len(sentence) and sentence[start] == ' ':\n",
        "            start += 1\n",
        "\n",
        "        if start == str_len:\n",
        "            break\n",
        "\n",
        "        # Find the end index of the word.\n",
        "        end = start + 1\n",
        "        while end < str_len and sentence[end] != ' ':\n",
        "            end += 1\n",
        "\n",
        "        # Let's call our helper function to reverse the word in-place.\n",
        "        str_rev(sentence, start, end - 1)\n",
        "        start = end\n",
        "\n",
        "    return ''.join(sentence)\n",
        "\n",
        "# A function that reverses a whole sentence character by character\n",
        "def str_rev(_str, start_rev, end_rev):\n",
        "    # Starting from the two ends of the list, and moving\n",
        "    # in towards the centre of the string, swap the characters\n",
        "    while start_rev < end_rev:\n",
        "        _str[start_rev] ,_str[end_rev] = _str[end_rev], _str[start_rev]\n",
        "\n",
        "        start_rev += 1                  # Move forwards towards the middle\n",
        "        end_rev -= 1                    # Move backwards towards the middle"
      ]
    },
    {
      "cell_type": "code",
      "execution_count": null,
      "id": "0149bc9c-baf9-45ec-b913-e371fdba8629",
      "metadata": {
        "id": "0149bc9c-baf9-45ec-b913-e371fdba8629",
        "outputId": "6ec3f629-1551-498f-9e29-cfad0df25869"
      },
      "outputs": [
        {
          "data": {
            "text/plain": [
              "'World! Hello'"
            ]
          },
          "execution_count": 21,
          "metadata": {},
          "output_type": "execute_result"
        }
      ],
      "source": [
        "reverse_words(\"Hello World!\")"
      ]
    },
    {
      "cell_type": "markdown",
      "id": "db23da51-37e5-4042-a375-98814c25b2d2",
      "metadata": {
        "id": "db23da51-37e5-4042-a375-98814c25b2d2"
      },
      "source": [
        "**4.Write a function that takes a string as input and checks whether it can be a valid palindrome by removing at most one character from it.**"
      ]
    },
    {
      "cell_type": "code",
      "execution_count": null,
      "id": "beed52a9-cb93-4272-9361-519bc3f5d8cf",
      "metadata": {
        "id": "beed52a9-cb93-4272-9361-519bc3f5d8cf"
      },
      "outputs": [],
      "source": [
        "def is_palindrome(s):\n",
        "  # Write your code here\n",
        "  # Tip: You may use the code template provided\n",
        "  # in the two_pointers.py file\n",
        "  def check(i,j):\n",
        "    while i<j:\n",
        "      if s[i] != s[j]:\n",
        "        return False\n",
        "      i += 1\n",
        "      j -= 1\n",
        "    return True\n",
        "\n",
        "  l,r = 0,len(s)-1\n",
        "  cnt = 1\n",
        "  while l<r:\n",
        "    if s[l] != s[r] and cnt:\n",
        "      cnt -= 1\n",
        "      return check(l+1,r) or check(l,r-1)\n",
        "    l +=1\n",
        "    r -= 1\n",
        "\n",
        "  return True"
      ]
    },
    {
      "cell_type": "code",
      "execution_count": null,
      "id": "1a010fd8-7686-454c-b20a-cce6cbe3a6d4",
      "metadata": {
        "id": "1a010fd8-7686-454c-b20a-cce6cbe3a6d4",
        "outputId": "1e7c233e-3930-4c14-902b-dea47b627718"
      },
      "outputs": [
        {
          "data": {
            "text/plain": [
              "True"
            ]
          },
          "execution_count": 27,
          "metadata": {},
          "output_type": "execute_result"
        }
      ],
      "source": [
        "is_palindrome('heah')"
      ]
    },
    {
      "cell_type": "code",
      "execution_count": null,
      "id": "615c2155-6cd7-4a67-8eab-c7feb69a4b49",
      "metadata": {
        "id": "615c2155-6cd7-4a67-8eab-c7feb69a4b49"
      },
      "outputs": [],
      "source": [
        "def fact(n):\n",
        "    pres = 1\n",
        "    for i in range(1,n+1):\n",
        "        pres *= i\n",
        "    return pres\n",
        ""
      ]
    },
    {
      "cell_type": "code",
      "execution_count": null,
      "id": "8276e41a-4538-4bdf-bfcb-cae0f19a7828",
      "metadata": {
        "id": "8276e41a-4538-4bdf-bfcb-cae0f19a7828",
        "outputId": "f5043e26-fc72-48be-d669-d39948e6294c"
      },
      "outputs": [
        {
          "data": {
            "text/plain": [
              "81.03333333333335"
            ]
          },
          "execution_count": 34,
          "metadata": {},
          "output_type": "execute_result"
        }
      ],
      "source": [
        "(86.8+89.5+)/3"
      ]
    },
    {
      "cell_type": "code",
      "execution_count": null,
      "id": "6f51edfb-ffac-4185-bca8-6b44cb8b0aca",
      "metadata": {
        "id": "6f51edfb-ffac-4185-bca8-6b44cb8b0aca"
      },
      "outputs": [],
      "source": []
    }
  ],
  "metadata": {
    "kernelspec": {
      "display_name": "Python 3.8",
      "language": "python",
      "name": "python38"
    },
    "language_info": {
      "codemirror_mode": {
        "name": "ipython",
        "version": 3
      },
      "file_extension": ".py",
      "mimetype": "text/x-python",
      "name": "python",
      "nbconvert_exporter": "python",
      "pygments_lexer": "ipython3",
      "version": "3.8.10"
    },
    "colab": {
      "provenance": [],
      "include_colab_link": true
    }
  },
  "nbformat": 4,
  "nbformat_minor": 5
}