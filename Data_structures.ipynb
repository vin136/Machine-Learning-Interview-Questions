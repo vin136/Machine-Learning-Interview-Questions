{
  "nbformat": 4,
  "nbformat_minor": 0,
  "metadata": {
    "colab": {
      "provenance": [],
      "authorship_tag": "ABX9TyOO0UwDjqLToYy1F9VWhr2R",
      "include_colab_link": true
    },
    "kernelspec": {
      "name": "python3",
      "display_name": "Python 3"
    },
    "language_info": {
      "name": "python"
    }
  },
  "cells": [
    {
      "cell_type": "markdown",
      "metadata": {
        "id": "view-in-github",
        "colab_type": "text"
      },
      "source": [
        "<a href=\"https://colab.research.google.com/github/vin136/Machine-Learning-Interview-Questions/blob/main/Data_structures.ipynb\" target=\"_parent\"><img src=\"https://colab.research.google.com/assets/colab-badge.svg\" alt=\"Open In Colab\"/></a>"
      ]
    },
    {
      "cell_type": "code",
      "execution_count": null,
      "metadata": {
        "id": "tiCKIIVNgXBO"
      },
      "outputs": [],
      "source": []
    },
    {
      "cell_type": "markdown",
      "source": [
        "# HASH TABELS"
      ],
      "metadata": {
        "id": "UcoXHrrPAuDk"
      }
    },
    {
      "cell_type": "markdown",
      "source": [
        "Hash Tabels/Mapping:\n",
        "A mapping from distinct keys to values. Access O(1)\n",
        "\n",
        "ADT:\n",
        "\n",
        "1. Get method\n",
        "\n",
        "2. Set method\n",
        "\n",
        "\n",
        "How to implement ?\n",
        "Naive implementation. \n",
        "\n"
      ],
      "metadata": {
        "id": "N1UHApKwgY3v"
      }
    },
    {
      "cell_type": "code",
      "source": [
        "class Entry:\n",
        "  def __init__(self,key,value):\n",
        "    self.key = key\n",
        "    self.value = value\n",
        "\n",
        "  def __str__(self):\n",
        "    return f\"{self.key}:{self.value}\"\n",
        "e = Entry(2,8)\n",
        "print(e)"
      ],
      "metadata": {
        "colab": {
          "base_uri": "https://localhost:8080/"
        },
        "id": "DzUgYFzqhcf3",
        "outputId": "400ddcea-5fc5-4b09-c766-7a16d761671f"
      },
      "execution_count": 4,
      "outputs": [
        {
          "output_type": "stream",
          "name": "stdout",
          "text": [
            "2:8\n"
          ]
        }
      ]
    },
    {
      "cell_type": "code",
      "source": [
        "# implement a typical dictionary but with naive list\n",
        "\"\"\"\n",
        "eg:\n",
        "a = Mapping()\n",
        "1. set : a[3] = 9\n",
        "2. get: a[3] # prints 9\n",
        "3. contains : 3 in a\n",
        "4. iterators: a.keys(),a.values()\n",
        "5. remove method\n",
        "\n",
        "\"\"\"\n",
        "\n",
        "class Mapping:\n",
        "  def __init__(self):\n",
        "    self._entries = []\n",
        "\n",
        "  def __setitem__(self,k,v):\n",
        "    for entry in self._entries:\n",
        "      if entry.key == k:\n",
        "        entry.key = v\n",
        "        return\n",
        "    self._entries.append(Entry(k,v)) \n",
        "\n",
        "  def __getitem__(self,k):\n",
        "    for entry in self._entries:\n",
        "      if entry.key == k:\n",
        "        return entry.value\n",
        "    raise KeyError\n",
        "\n",
        "  def keys(self):\n",
        "    return (e.key for e in self._entries)\n",
        "\n",
        "  def values(self):\n",
        "    return (e.value for e in self._entries)\n",
        "\n",
        "  def items(self):\n",
        "    return ((e.key,e.value) for e in self._entries)\n",
        "\n",
        "  def __contains__(self,k):\n",
        "    for key in self.keys():\n",
        "      if key == k:\n",
        "        return True\n",
        "    return False\n",
        "\n",
        "  def remove(self,k):\n",
        "    for ind,entry in enumerate(self._entries):\n",
        "      if entry.key == k:\n",
        "        del self._entries[ind]\n",
        "    raise KeyError\n",
        "\n",
        "\n",
        "\n",
        "# opportunities for refactoring:\n"
      ],
      "metadata": {
        "id": "UYBFfyUClILw"
      },
      "execution_count": 11,
      "outputs": []
    },
    {
      "cell_type": "code",
      "source": [
        "m = Mapping()\n",
        "m[1] = 10\n",
        "m[2] = 20"
      ],
      "metadata": {
        "id": "dpH8-EzDna-n"
      },
      "execution_count": 12,
      "outputs": []
    },
    {
      "cell_type": "code",
      "source": [
        "1 in m"
      ],
      "metadata": {
        "colab": {
          "base_uri": "https://localhost:8080/"
        },
        "id": "ktdG6MoYqXKk",
        "outputId": "b8ebc5a5-ed64-4317-8611-114ba0d813fe"
      },
      "execution_count": 13,
      "outputs": [
        {
          "output_type": "execute_result",
          "data": {
            "text/plain": [
              "True"
            ]
          },
          "metadata": {},
          "execution_count": 13
        }
      ]
    },
    {
      "cell_type": "code",
      "source": [
        "for k in m.keys():\n",
        "  print(k)"
      ],
      "metadata": {
        "colab": {
          "base_uri": "https://localhost:8080/"
        },
        "id": "38zkT8WeqY4S",
        "outputId": "9af33900-1a78-4778-e170-f674a9b12742"
      },
      "execution_count": 14,
      "outputs": [
        {
          "output_type": "stream",
          "name": "stdout",
          "text": [
            "1\n",
            "2\n"
          ]
        }
      ]
    },
    {
      "cell_type": "markdown",
      "source": [
        "TODO: \n",
        "\n",
        "\n",
        "\n",
        "HOW TO GET CONSTANT TIME OPERATIONS FOR get, set, remove.\n",
        "\n",
        "`BIGIDEA`: \n",
        "WHAT IF INSTEAD OF ONE BIG LIST WE HAVE MANY SMALL SUBLISTS. we just need to have a quick way of knowing which\n",
        "short list to search or update.\n",
        "\n",
        "`solution`\n",
        "\n",
        "1. use hash(\"john dick\") to map key to integers.\n",
        "2. Periodically double your list of lists to have amortized O(1)\n"
      ],
      "metadata": {
        "id": "PHB9UWz3sLbv"
      }
    },
    {
      "cell_type": "code",
      "source": [
        "class HashMap:\n",
        "  def __init__(self,sz = 2):\n",
        "    #num of sublists\n",
        "    self.sz = sz\n",
        "    #total # elements\n",
        "    self.length = 0\n",
        "    self._buckets = [Mapping() for i in range(self.sz)]\n",
        "\n",
        "  def __getitem__(self,k):\n",
        "    bucket = self._bucket(k)\n",
        "    return bucket[k]\n",
        "\n",
        "  def __setitem__(self,k,v):\n",
        "    bucket = self._bucket(k)\n",
        "    if k not in bucket:\n",
        "      self.length += 1\n",
        "    bucket[k] = v\n",
        "\n",
        "    if self.length > self.sz:\n",
        "      self._double()\n",
        "    \n",
        "\n",
        "  def _bucket(self,key):\n",
        "    #return the corresponding mapping\n",
        "    return self._buckets[hash(key)%self.sz]\n",
        "\n",
        "\n",
        "  def _double(self):\n",
        "    old_buckets = self._buckets\n",
        "    self.__init__(self.sz*2)\n",
        "    for mapping in old_buckets:\n",
        "      for key, value in mapping.items():\n",
        "        self[key] = value"
      ],
      "metadata": {
        "id": "hGd4JgLznkYI"
      },
      "execution_count": 19,
      "outputs": []
    },
    {
      "cell_type": "markdown",
      "source": [
        "A bit about hashing\n",
        "\n",
        "Properties\n",
        "\n",
        "- if h(x) = h(y), then x might be equal to y but if h(x) != h(y) then x != y\n",
        "\n",
        "- always deterministic\n",
        "\n",
        "\n",
        "How to handle collissions:\n",
        "\n",
        "1. seperate chaining: linked list for collissions\n",
        "\n",
        "2. typically when there is hash-collission we should look for other slots to fill up rather than chaining.Some ways:\n",
        "\n",
        "```\n",
        "x = 1\n",
        "everytime you hit a collission\n",
        "inc x\n",
        "look at (prob_func(x)+pres_loc) % n\n",
        "```\n",
        "Problem : most prob functions give cycles.\n",
        "\n"
      ],
      "metadata": {
        "id": "F2uJFGEt-Ra9"
      }
    },
    {
      "cell_type": "code",
      "source": [],
      "metadata": {
        "id": "UkWv6U8uxjf7"
      },
      "execution_count": 19,
      "outputs": []
    },
    {
      "cell_type": "markdown",
      "source": [
        "# TREES"
      ],
      "metadata": {
        "id": "td52v3SPAyuu"
      }
    },
    {
      "cell_type": "markdown",
      "source": [
        "Tree : root with one or more trees as children."
      ],
      "metadata": {
        "id": "V-Et2ugLBhLZ"
      }
    },
    {
      "cell_type": "code",
      "source": [
        "tree_st = ['a',['b',['b1']],['c',['c1']]]\n",
        "\n",
        "\n",
        "def line_print_tree(tree):\n",
        "  #works with any iterator\n",
        "  t = iter(tree)\n",
        "  print(next(t))\n",
        "  for child in t:\n",
        "    line_print_tree(child)\n",
        "\n",
        "line_print_tree(tree_st)\n"
      ],
      "metadata": {
        "colab": {
          "base_uri": "https://localhost:8080/"
        },
        "id": "rZF_JoGPA0Wc",
        "outputId": "8becb4cf-0a51-4aa5-c36e-b7ef36f7edc6"
      },
      "execution_count": 27,
      "outputs": [
        {
          "output_type": "stream",
          "name": "stdout",
          "text": [
            "a\n",
            "b\n",
            "b1\n",
            "c\n",
            "c1\n"
          ]
        }
      ]
    },
    {
      "cell_type": "code",
      "source": [
        "def print_tree(tree,level=0):\n",
        "  #works with any iterator and shows the tree structure\n",
        "  t = iter(tree)\n",
        "  out = ' '*level + next(t) + '\\n'\n",
        "  print(out)\n",
        "  for child in t:\n",
        "    print_tree(child,level= level+1)\n",
        "\n",
        "print_tree(tree_st)"
      ],
      "metadata": {
        "colab": {
          "base_uri": "https://localhost:8080/"
        },
        "id": "pqxoH1lHxkzq",
        "outputId": "a21aee8d-037f-4dc1-f170-5db040d0d3af"
      },
      "execution_count": 17,
      "outputs": [
        {
          "output_type": "stream",
          "name": "stdout",
          "text": [
            "a\n",
            "\n",
            " b\n",
            "\n",
            "  b1\n",
            "\n",
            " c\n",
            "\n",
            "  c1\n",
            "\n"
          ]
        }
      ]
    },
    {
      "cell_type": "markdown",
      "source": [],
      "metadata": {
        "id": "a8yMaHMTJxDe"
      }
    },
    {
      "cell_type": "code",
      "source": [
        "# Make a generic Tree ADT\n",
        "\n",
        "class Tree:\n",
        "  def __init__(self,L):\n",
        "    iterator  = iter(L)\n",
        "    self.data = next(iterator)\n",
        "    self.children = [Tree(child) for child in iterator]\n",
        "\n",
        "  def _listwithlevels(self, level, trees):\n",
        "    trees.append(\"  \" * level + str(self.data))\n",
        "    for child in self.children:\n",
        "        child._listwithlevels(level + 1, trees)\n",
        "\n",
        "  def __str__(self):\n",
        "      trees = []\n",
        "      self._listwithlevels(0, trees)\n",
        "      return \"\\n\".join(trees)\n",
        "\n",
        "  def __eq__(self,t1):\n",
        "    return self.data == t1.data and self.children == t1.children\n",
        "\n",
        "  def __contains__(self,key):\n",
        "    return self.data == key or any(key in c for c in self.children)\n",
        "\n",
        "  def height(self):\n",
        "    if len(self.children) == 0:\n",
        "      return 0\n",
        "    return 1 + max(c.height() for c in self.children)\n",
        "\n",
        "\n"
      ],
      "metadata": {
        "colab": {
          "base_uri": "https://localhost:8080/"
        },
        "id": "q3Y4sDQJHsNp",
        "outputId": "1fc85bbc-b31b-433f-d8e7-48de998aa829"
      },
      "execution_count": 44,
      "outputs": [
        {
          "output_type": "stream",
          "name": "stdout",
          "text": [
            "a\n",
            "  b\n",
            "    b1\n",
            "  c\n",
            "    c1\n"
          ]
        }
      ]
    },
    {
      "cell_type": "markdown",
      "source": [
        "## Tests"
      ],
      "metadata": {
        "id": "75LhOUJXStzQ"
      }
    },
    {
      "cell_type": "code",
      "source": [
        "t = Tree(tree_st)\n",
        "    \n",
        "    \n",
        "print(str(t))"
      ],
      "metadata": {
        "colab": {
          "base_uri": "https://localhost:8080/"
        },
        "id": "nsmCnBOSSspL",
        "outputId": "b2d0d26b-8a00-4e86-df90-1abf48cf5067"
      },
      "execution_count": 51,
      "outputs": [
        {
          "output_type": "stream",
          "name": "stdout",
          "text": [
            "a\n",
            "  b\n",
            "    b1\n",
            "  c\n",
            "    c1\n"
          ]
        }
      ]
    },
    {
      "cell_type": "code",
      "source": [
        "t1 = Tree(['a',['b',['b1']],['c',['c1']]])\n",
        "t1 == t"
      ],
      "metadata": {
        "colab": {
          "base_uri": "https://localhost:8080/"
        },
        "id": "crYxGb0qJmXr",
        "outputId": "1dece93f-38e8-4231-bdaf-85027f0af5b2"
      },
      "execution_count": 45,
      "outputs": [
        {
          "output_type": "execute_result",
          "data": {
            "text/plain": [
              "True"
            ]
          },
          "metadata": {},
          "execution_count": 45
        }
      ]
    },
    {
      "cell_type": "code",
      "source": [
        "t1 = Tree(['a',['b',['b1']]])\n",
        "t1 == t"
      ],
      "metadata": {
        "colab": {
          "base_uri": "https://localhost:8080/"
        },
        "id": "IUq_9b_hLoAE",
        "outputId": "4ae755a1-3399-414a-85d3-9e1c0f5de997"
      },
      "execution_count": 46,
      "outputs": [
        {
          "output_type": "execute_result",
          "data": {
            "text/plain": [
              "False"
            ]
          },
          "metadata": {},
          "execution_count": 46
        }
      ]
    },
    {
      "cell_type": "code",
      "source": [
        "t1.height()"
      ],
      "metadata": {
        "colab": {
          "base_uri": "https://localhost:8080/"
        },
        "id": "9gAvj-ofQCUy",
        "outputId": "d2bdd735-f463-4ad3-ca96-5648fb84384a"
      },
      "execution_count": 47,
      "outputs": [
        {
          "output_type": "execute_result",
          "data": {
            "text/plain": [
              "2"
            ]
          },
          "metadata": {},
          "execution_count": 47
        }
      ]
    },
    {
      "cell_type": "code",
      "source": [
        "3 in [0,9,8]"
      ],
      "metadata": {
        "colab": {
          "base_uri": "https://localhost:8080/"
        },
        "id": "JlTHqxagQHNh",
        "outputId": "3e78875b-3b44-4652-d3d9-f6de6c00d551"
      },
      "execution_count": 48,
      "outputs": [
        {
          "output_type": "execute_result",
          "data": {
            "text/plain": [
              "False"
            ]
          },
          "metadata": {},
          "execution_count": 48
        }
      ]
    },
    {
      "cell_type": "code",
      "source": [
        "'a' in t"
      ],
      "metadata": {
        "colab": {
          "base_uri": "https://localhost:8080/"
        },
        "id": "cbLx7aAeQPnk",
        "outputId": "789b2d9c-ed93-4ae6-9f95-ae8bb07f51d1"
      },
      "execution_count": 49,
      "outputs": [
        {
          "output_type": "execute_result",
          "data": {
            "text/plain": [
              "True"
            ]
          },
          "metadata": {},
          "execution_count": 49
        }
      ]
    },
    {
      "cell_type": "code",
      "source": [
        "'b' in t"
      ],
      "metadata": {
        "colab": {
          "base_uri": "https://localhost:8080/"
        },
        "id": "iaRO4A5nQW-1",
        "outputId": "0fd1f165-9947-4608-8902-dd6f7533104f"
      },
      "execution_count": 50,
      "outputs": [
        {
          "output_type": "execute_result",
          "data": {
            "text/plain": [
              "True"
            ]
          },
          "metadata": {},
          "execution_count": 50
        }
      ]
    },
    {
      "cell_type": "code",
      "source": [
        "#implement complete tree."
      ],
      "metadata": {
        "id": "LfLmoawVQaLy"
      },
      "execution_count": null,
      "outputs": []
    },
    {
      "cell_type": "markdown",
      "source": [
        "# BST\n"
      ],
      "metadata": {
        "id": "B7_ozb9KTARV"
      }
    },
    {
      "cell_type": "code",
      "source": [
        "#algorithms\n",
        "\n"
      ],
      "metadata": {
        "id": "WgHI3uMpTCBy"
      },
      "execution_count": null,
      "outputs": []
    }
  ]
}