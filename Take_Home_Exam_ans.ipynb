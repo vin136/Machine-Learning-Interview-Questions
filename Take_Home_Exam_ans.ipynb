{
  "nbformat": 4,
  "nbformat_minor": 0,
  "metadata": {
    "colab": {
      "provenance": [],
      "toc_visible": true,
      "include_colab_link": true
    },
    "kernelspec": {
      "name": "python3",
      "display_name": "Python 3"
    },
    "language_info": {
      "name": "python"
    }
  },
  "cells": [
    {
      "cell_type": "markdown",
      "metadata": {
        "id": "view-in-github",
        "colab_type": "text"
      },
      "source": [
        "<a href=\"https://colab.research.google.com/github/vin136/Machine-Learning-Interview-Questions/blob/main/Take_Home_Exam_ans.ipynb\" target=\"_parent\"><img src=\"https://colab.research.google.com/assets/colab-badge.svg\" alt=\"Open In Colab\"/></a>"
      ]
    },
    {
      "cell_type": "markdown",
      "source": [
        "# Instructions\n",
        "\n",
        "The code below fits a simple neural network to a dataset. The goal of this exercise is to fill-in some missing functions in the implementation. \n",
        "\n",
        "Please read the instructions and the code carefully before beginning to implement.\n",
        "## The Model\n",
        "Our neural network conatins a single hidden layer which is followed by an output layer. The network is defined as follows.\n",
        "\n",
        "Given the input vector $x \\in \\mathbb{R}^{D_x}$, the hidden layer outputs the vector $h \\in \\mathbb{R}^{D_h}$ which is given as \n",
        "\\begin{align}h = f(Ax+b) \\end{align}where:\n",
        "* $A \\in \\mathbb{R}^{D_x \\times D_h}$ is a weights matrix\n",
        "* $b \\in \\mathbb{R}^{D_h}$ is a bias vector\n",
        "* $f$ is the Swish activation function, given by $f(x)=x*sigmoid(x)$\n",
        "\n",
        "The output layer takes $h$ as in input and produces the output vector $y$, which is given as\n",
        "   \n",
        "\n",
        "\\begin{align}y = Ch+d\\end{align}where:\n",
        "* $C \\in \\mathbb{R}^{D_h \\times D_y}$ is a weights matrix\n",
        "* $d \\in \\mathbb{R}^{D_y}$ is a bias vector\n",
        "\n",
        "## The Task\n",
        "\n",
        "### Implementing the Model\n",
        "The $NeuralNetSolver$ class contains the definition of the model, the forward and backward pass calculation and the fitting method. Please make the following changes in that class:\n",
        "1. Implement the $get\\_loss$ method to calculate a Mean Squared Error loss.\n",
        "2. Implement the $forward$ method according to the definition of the model.\n",
        "3. Implement the method $get\\_layer\\_1\\_grads$ which should return the gradients of the hidden layer's weights matrix $A$ and biases vector $b$. For a refresher on how to do the math, see e.g. [here](https://web.stanford.edu/class/cs224n/readings/gradient-notes.pdf) (note that this example uses a different activation function).\n",
        "\n",
        "### Improving the Termination Criteria of the Solver\n",
        "The $TerminationCriteria$ class contains the criteria that determine when to stop training the model. The stub implementation simply stops after a predetermined number of iterations. Please change the implementation so that it would be more effective and robust.\n",
        "\n",
        "### Improving the Optimizer\n",
        "The $Optimizer$ class takes care of calculating the parameter updates, given the gradients. The stub implementation is a simple gradient descent and it is slow to converge. Please change it to have:\n",
        "1. A [momentum](https://en.wikipedia.org/wiki/Stochastic_gradient_descent#Momentum) term.\n",
        "2. An adaptive learning rate for each parameter, as defined in [RMSProp](https://en.wikipedia.org/wiki/Stochastic_gradient_descent#RMSProp)."
      ],
      "metadata": {
        "id": "VbZ_XVFAZjlS"
      }
    },
    {
      "cell_type": "markdown",
      "source": [
        "# Imports"
      ],
      "metadata": {
        "id": "ekMTm7PQMWR_"
      }
    },
    {
      "cell_type": "code",
      "execution_count": 29,
      "metadata": {
        "id": "pdz528n_5Ea2"
      },
      "outputs": [],
      "source": [
        "import math\n",
        "import numpy as np\n",
        "from sklearn.model_selection import train_test_split\n",
        "import matplotlib.pylab as plt\n",
        "from typing import Tuple, List, Collection, Mapping\n"
      ]
    },
    {
      "cell_type": "markdown",
      "source": [
        "# Optimizer"
      ],
      "metadata": {
        "id": "sH2KbAMRMfke"
      }
    },
    {
      "cell_type": "code",
      "source": [
        "class Optimizer:\n",
        "    \"\"\"\n",
        "      This class is responsible for calculating parameter updates during optimization.\n",
        "    \"\"\"\n",
        "    LEARNING_RATE = 1e-2\n",
        "    DECAY_RATE = 0.99\n",
        "    EPSILON = 1e-8\n",
        "    MOMENTUM = 0.99\n",
        "\n",
        "    def __init__(self, param_names: Collection[str]):\n",
        "        \"\"\"\n",
        "        :param param_names:\n",
        "            A list of the parameter names to be optimized.\n",
        "        \"\"\"\n",
        "        self.param_names = param_names\n",
        "        self.cache = {}\n",
        "        self.momentum = {}\n",
        "\n",
        "    def step(self, param_grads: Mapping[str, np.array]) -> Mapping[str, np.array]:\n",
        "        \"\"\"\n",
        "            Calculate the parameter updates for a single step of optimization.\n",
        "        :param param_grads:\n",
        "            A dictionary of the parameter gradients.\n",
        "        :return:\n",
        "          A dictionary of parameter updates.\n",
        "        \"\"\"\n",
        "        param_updates = {}\n",
        "        for param_name in self.param_names:\n",
        "            grad = param_grads[param_name]\n",
        "            if param_name not in self.cache:\n",
        "                self.cache[param_name] = np.zeros_like(grad)\n",
        "            self.cache[param_name] = self.DECAY_RATE * self.cache[param_name] + (1 - self.DECAY_RATE) * grad ** 2\n",
        "            lr = self.LEARNING_RATE / (np.sqrt(self.cache[param_name]) + self.EPSILON)\n",
        "            if param_name not in self.momentum:\n",
        "                self.momentum[param_name] = np.zeros_like(grad)\n",
        "            self.momentum[param_name] = self.MOMENTUM * self.momentum[param_name] - lr * grad\n",
        "            param_updates[param_name] = self.momentum[param_name]\n",
        "\n",
        "        return param_updates\n"
      ],
      "metadata": {
        "id": "KZJoJ_tYMRrf"
      },
      "execution_count": 108,
      "outputs": []
    },
    {
      "cell_type": "code",
      "source": [
        "class Optimizer:\n",
        "    \"\"\"\n",
        "      This class is responsible for calculating parameter updates during optimization.\n",
        "    \"\"\"\n",
        "    LEARNING_RATE = 1e-2\n",
        "\n",
        "    def __init__(self, param_names: Collection[str]):\n",
        "      \"\"\"\n",
        "      :param param_names:\n",
        "        A list of the parameter names to be optimized.\n",
        "      \"\"\"\n",
        "      pass\n",
        "\n",
        "    def step(self, param_grads: Mapping[str, np.array]) -> Mapping[str, np.array]:\n",
        "        \"\"\"\n",
        "            Calculate the parameter updates for a single step of optimization.\n",
        "        :param param_grads:\n",
        "            A dictionary of the parameter gradients.\n",
        "        :return:\n",
        "          A dictionary of parameter updates.\n",
        "        \"\"\"\n",
        "        param_updates = {}\n",
        "        for param_name, param_grad in param_grads.items():\n",
        "            param_updates[param_name] = self.LEARNING_RATE * param_grad\n",
        "\n",
        "        return param_updates"
      ],
      "metadata": {
        "id": "i_QocbYRSTra"
      },
      "execution_count": 116,
      "outputs": []
    },
    {
      "cell_type": "markdown",
      "source": [
        "# Termination Criteria"
      ],
      "metadata": {
        "id": "WRCKY78BZBrv"
      }
    },
    {
      "cell_type": "code",
      "source": [
        "class TerminationCriteria:\n",
        "    def __init__(self, max_iter):\n",
        "        self.max_iter = max_iter\n",
        "\n",
        "    def is_over(self, iter: int) -> bool:\n",
        "        \"\"\"\n",
        "        : iter\n",
        "            The iteration number\n",
        "        :return:\n",
        "            True if the optimization should terminate, False otherwise.\n",
        "        \"\"\"\n",
        "\n",
        "        return iter > self.max_iter"
      ],
      "metadata": {
        "id": "KauI80ZdZDxC"
      },
      "execution_count": 117,
      "outputs": []
    },
    {
      "cell_type": "markdown",
      "source": [
        "# Model"
      ],
      "metadata": {
        "id": "lLTdrf3wMjwd"
      }
    },
    {
      "cell_type": "code",
      "source": [
        "class NeuralNetSolver:\n",
        "    HIDDEN_DIM = 32\n",
        "    INPUT_DIM = 1\n",
        "    OUTPUT_DIM = 1    \n",
        "    \n",
        "    MAX_ITER = 100000\n",
        "    MIN_TRAIN_LOSS = 1e-6\n",
        "    INIT_RANGE = 1\n",
        "    NUM_PRINTS = 10\n",
        "\n",
        "    def __init__(self):\n",
        "        \"\"\"\n",
        "        C'tor\n",
        "        :param input_dim:\n",
        "            The dimension of the input vector\n",
        "        \"\"\"\n",
        "        self.params_dict = {\n",
        "            'weights_1': np.random.normal(0, self.INIT_RANGE, (self.INPUT_DIM, self.HIDDEN_DIM)),\n",
        "            'bias_1': np.zeros(shape=(1, self.HIDDEN_DIM)),\n",
        "            'weights_2': np.random.normal(0, self.INIT_RANGE, (self.HIDDEN_DIM, self.OUTPUT_DIM)),\n",
        "            'bias_2': np.zeros(shape=(1, self.OUTPUT_DIM))}\n",
        "\n",
        "        self.optimizer = Optimizer(self.params_dict.keys())\n",
        "        self.termination_criteria = TerminationCriteria(self.MAX_ITER)\n",
        "\n",
        "    @staticmethod\n",
        "    def act_fn(x: np.array) -> np.array:\n",
        "        \"\"\"\n",
        "            The activation function.\n",
        "        :param x:\n",
        "            An input array\n",
        "        :return:\n",
        "            The result of activation function applied to the x element-wise.\n",
        "        \"\"\"\n",
        "        x = np.float128(x)\n",
        "        return np.where(x >= 0, \n",
        "                    1 / (1 + np.exp(-x)), \n",
        "                    np.exp(x) / (1 + np.exp(x)))\n",
        "        \n",
        "       \n",
        "\n",
        "\n",
        "    def forward(self, x: np.array) -> np.array:\n",
        "        \"\"\"\n",
        "        Makes a prediction with the model.\n",
        "        :param x:\n",
        "            A batch of input feature vectors. The shape is [B, D_IN], where B is the batch dimension\n",
        "            and D_IN is the dimension of the feature vector.\n",
        "        :return:\n",
        "            A batch of predictions. The shape is [B, D_OUT], where B is the batch dimension\n",
        "            and D_OUT is the dimension of the prediction vector.\n",
        "        \"\"\"\n",
        "        assert x.shape[1] == self.params_dict['weights_1'].shape[0]\n",
        "        #print(f\"input shape {x.shape}\")\n",
        "        # PLEASE IMPLEMENT THE FORWARD PASS HERE\n",
        "        layer_1_out = np.dot(x, self.params_dict['weights_1']) + self.params_dict['bias_1']\n",
        "        # Output of the first layer\n",
        "        #layer_1_out = x @ self.params_dict['weights_1'] + self.params_dict['bias_1']\n",
        "\n",
        "        # Apply the activation function to the output of the first layer\n",
        "        layer_1_out_act = self.act_fn(layer_1_out)\n",
        "        layer_2_out = np.dot(layer_1_out_act, self.params_dict['weights_2']) + self.params_dict['bias_2']\n",
        "        # Compute the output of the second layer\n",
        "        #layer_2_out = (layer_1_out_act @ self.params_dict['weights_2'] + self.params_dict['bias_2'])\n",
        "\n",
        "        result = layer_2_out\n",
        "        #print(result.shape)\n",
        "        #print(f\"result shape {result.shape}\")\n",
        "        assert result.ndim == 2\n",
        "        assert result.shape[0] == x.shape[0]\n",
        "        assert result.shape[1] == self.OUTPUT_DIM\n",
        "\n",
        "        return result\n",
        "\n",
        "    def get_loss_grad(self, X: np.array, y: np.array) -> Mapping[str, np.array]:\n",
        "        \"\"\"\n",
        "            Calculates the gradient of the loss function.\n",
        "        :param X:\n",
        "            A batch of input feature vectors. The shape is [B, D_IN], where B is the batch dimension\n",
        "            and D_IN is the dimension of the feature vector.\n",
        "        :param y:\n",
        "            A batch of outputs. The shape is [B, D_OUT], where B is the batch dimension\n",
        "            and D_OUT is the dimension of the output vector.\n",
        "        :return:\n",
        "            A\n",
        "        \"\"\"\n",
        "\n",
        "        layer_1_out = np.dot(X, self.params_dict['weights_1']) + self.params_dict['bias_1']\n",
        "        layer_2_out = self.forward(X)\n",
        "        #print(layer_2_out)\n",
        "\n",
        "        weights1_grad, bias1_grad = self.get_layer_1_grads(X, y, layer_1_out, layer_2_out)\n",
        "        weights2_grad, bias2_grad = self.get_layer_2_grads(X, y, layer_1_out, layer_2_out)\n",
        "\n",
        "        return {'weights_1': weights1_grad, 'bias_1': bias1_grad,\n",
        "                'weights_2': weights2_grad, 'bias_2': bias2_grad}\n",
        "\n",
        "    def get_layer_1_grads(self, X: np.array, y: np.array,\n",
        "                          layer_1_out: np.array, layer_2_out: np.array) -> Tuple[\n",
        "        np.array, np.array]:\n",
        "        \"\"\"\n",
        "            Calculates the gradients for the first layer of the neural network.\n",
        "        :param X:\n",
        "            A batch of input feature vectors. The shape is [B, D_IN], where B is the batch dimension\n",
        "            and D_IN is the dimension of the feature vector.\n",
        "        :param y:\n",
        "            A batch of outputs. The shape is [B, D_OUT], where B is the batch dimension\n",
        "            and D_OUT is the dimension of the output vector.\n",
        "        :param layer_1_out:\n",
        "            The output of the first linear layer, without activation.\n",
        "        :param layer_2_out:\n",
        "            The output of the 2nd layer.\n",
        "        :return:\n",
        "            A [HIDDEN_DIM] numpy array of weight gradients and a [1] numpy array of bias gradients\n",
        "        \"\"\"\n",
        "\n",
        "       \n",
        "\n",
        "        # PLEASE REPLACE THE FOLLOWING TWO LINES WITH A CALCULATION OF THE GRADIENTS\n",
        "        delta2 = (layer_2_out - y)\n",
        "        a1 = self.act_fn(layer_1_out)\n",
        "        delta1 = np.dot(delta2, self.params_dict['weights_2'].T) * a1 * (1 - a1)\n",
        "\n",
        "        weights1_grad = np.dot(X.T, delta1)\n",
        "        bias1_grad = np.sum(delta1, axis=0, keepdims=True)\n",
        "\n",
        "        #compute the gradient of the loss with respect to the output of the second layer\n",
        "        #dL_dy = layer_2_out - y  # shape: [B, D_OUT]\n",
        "\n",
        "        #compute derivative of output of layer2 w.r.t it's input=act(l1)\n",
        "        #dlayer1_actl1 = self.params_dict['weights_2'].T\n",
        "\n",
        "        \n",
        "\n",
        "        # compute the derivative of the activation function with respect to the output of the first layer\n",
        "        #sigmoid = 1 / (1 + np.exp(-layer_1_out))\n",
        "        #dz_dlayer1_out = sigmoid * (1 - sigmoid)   # shape: [B, HIDDEN_DIM]\n",
        "\n",
        "        # compute the derivative of the output of the first layer with respect to its parameters\n",
        "        #dlayer1_out_dw1 = X  # shape: [B, D_IN]\n",
        "\n",
        "        # compute the gradient of the loss with respect to the output of the first layer\n",
        "        #dL_dlayer1_out = np.matmul(dL_dy, self.params_dict['weights_2'].T) * dz_dlayer1_out  # shape: [B, HIDDEN_DIM]\n",
        "\n",
        "        # compute the gradient of the loss with respect to the parameters of the first layer\n",
        "        #weights1_grad = np.matmul(dlayer1_out_dw1.T, dL_dlayer1_out)  # shape: [D_IN, HIDDEN_DIM]\n",
        "        #bias1_grad = np.sum(dL_dlayer1_out, axis=0, keepdims=True)  # shape: [HIDDEN_DIM]\n",
        "\n",
        "        assert weights1_grad.shape[0] == self.INPUT_DIM\n",
        "        assert weights1_grad.shape[1] == self.HIDDEN_DIM\n",
        "        assert weights1_grad.ndim == 2\n",
        "\n",
        "        assert bias1_grad.shape[0] == 1\n",
        "        assert bias1_grad.shape[1] == self.HIDDEN_DIM\n",
        "        assert bias1_grad.ndim == 2\n",
        "\n",
        "        return weights1_grad, bias1_grad\n",
        "\n",
        "    def get_layer_2_grads(self, X: np.array, y: np.array,\n",
        "                          layer_1_out: np.array, layer_2_out: np.array) -> Tuple[\n",
        "        np.array, np.array]:\n",
        "        \"\"\"\n",
        "               Calculates the gradients for the second layer of the neural network.\n",
        "           :param X:\n",
        "               A batch of input feature vectors. The shape is [B, D_IN], where B is the batch dimension\n",
        "               and D_IN is the dimension of the feature vector.\n",
        "           :param y:\n",
        "               A batch of outputs. The shape is [B, D_OUT], where B is the batch dimension\n",
        "               and D_OUT is the dimension of the output vector.\n",
        "           :param layer_1_out:\n",
        "               The output of the first linear layer, without activation.\n",
        "           :param layer_2_out:\n",
        "               The output of the 2nd layer.\n",
        "           :return:\n",
        "               A [HIDDEN_DIM] numpy array of weight gradients and a [1] numpy array of bias gradients\n",
        "           \"\"\"\n",
        "          \n",
        "\n",
        "\n",
        "  \n",
        "        delta2 = (layer_2_out - y) \n",
        "        #output after activation\n",
        "        a1 = self.act_fn(layer_1_out)\n",
        "        weights2_grad = np.dot(a1.T, delta2)\n",
        "        bias2_grad = np.sum(delta2, axis=0, keepdims=True)\n",
        "\n",
        "        #weights2_grad = ((layer_2_out - y).T @ self.act_fn(layer_1_out)).T\n",
        "        #bias2_grad = np.sum((layer_2_out - y),axis=0, keepdims=True)\n",
        "\n",
        "        assert weights2_grad.ndim == 2\n",
        "        assert weights2_grad.shape[0] == self.HIDDEN_DIM\n",
        "        assert weights2_grad.shape[1] == self.OUTPUT_DIM\n",
        "\n",
        "        assert bias2_grad.shape[0] == 1\n",
        "        assert bias2_grad.ndim == 2\n",
        "\n",
        "        return weights2_grad, bias2_grad\n",
        "\n",
        "    @staticmethod\n",
        "    def get_loss(y, y_hat) -> np.array:\n",
        "        \"\"\"\n",
        "            Calculate the loss\n",
        "        :param y:\n",
        "            The ground-truth responses.\n",
        "        :param y_hat:\n",
        "            The predicted responses.\n",
        "        :return:\n",
        "            A scalar containing the loss.\n",
        "        \"\"\"\n",
        "        # PLEASE REPLACE WITH AN IMPLEMENTATION OF THE LOSS\n",
        "        return np.mean((y - y_hat) ** 2)\n",
        "\n",
        "    def fit(self, X_train: np.array, y_train: np.array, X_test: np.array, y_test: np.array) -> \\\n",
        "    Tuple[List, List]:\n",
        "        \"\"\"\n",
        "            Fits the model to the given data.\n",
        "        :param X_train:\n",
        "            The training features\n",
        "        :param y_train:\n",
        "            The training outputs\n",
        "        :param X_test:\n",
        "            The test features\n",
        "        :param y_test:\n",
        "            The test output\n",
        "        :return:\n",
        "            The train losses and the test losses\n",
        "        \"\"\"\n",
        "        iter = 0\n",
        "        train_losses = []\n",
        "        test_losses = []\n",
        "\n",
        "        steps_for_print = self.MAX_ITER // self.NUM_PRINTS\n",
        "\n",
        "        best_test_loss = 1e100\n",
        "\n",
        "        while not self.termination_criteria.is_over(iter):\n",
        "            y_hat = self.forward(X_train)\n",
        "            train_loss = self.get_loss(y_hat, y_train)\n",
        "            #print(f\" iter:{iter},loss:{train_loss}\")\n",
        "            loss_grad = self.get_loss_grad(X_train, y_train)\n",
        "            param_update_dict = self.optimizer.step(loss_grad)\n",
        "\n",
        "            for param_name, param_update in param_update_dict.items():\n",
        "                self.params_dict[param_name] -= param_update\n",
        "            \n",
        "            iter += 1\n",
        "\n",
        "            if iter % steps_for_print == 0:\n",
        "                y_hat = self.forward(X_test)\n",
        "                test_loss = self.get_loss(y_hat, y_test)\n",
        "                train_losses.append(math.log(train_loss))\n",
        "                test_losses.append(math.log(test_loss))\n",
        "                \n",
        "                # if test_loss < best_test_loss:\n",
        "                #     best_test_loss = test_loss\n",
        "                # else:\n",
        "                #     print('Early stopping')\n",
        "                #     break\n",
        "\n",
        "                print(f'Iteration {iter}, Test Loss={test_loss},Best = {best_test_loss}',train_losses)\n",
        "\n",
        "        return train_losses, test_losses"
      ],
      "metadata": {
        "id": "i0XZEcX-MlTr"
      },
      "execution_count": 118,
      "outputs": []
    },
    {
      "cell_type": "code",
      "source": [
        "# Define toy dataset\n",
        "#X = np.array([[0, 0], [0, 1], [1, 0], [1, 1]])\n",
        "#y = np.array([[0], [1], [1], [0]])\n"
      ],
      "metadata": {
        "id": "sy0EkCtR-O1Q"
      },
      "execution_count": 71,
      "outputs": []
    },
    {
      "cell_type": "code",
      "source": [
        "#nn = NeuralNetSolver()\n",
        "\n",
        "\n",
        "#nn.forward(X)\n"
      ],
      "metadata": {
        "colab": {
          "base_uri": "https://localhost:8080/"
        },
        "id": "73fn_p8S-bQG",
        "outputId": "81bd9a4f-ea9d-4eb6-8c4f-cca0fb1c809f"
      },
      "execution_count": 64,
      "outputs": [
        {
          "output_type": "execute_result",
          "data": {
            "text/plain": [
              "array([[0.99156648],\n",
              "       [0.128191  ],\n",
              "       [1.17901213],\n",
              "       [0.30320589]], dtype=float128)"
            ]
          },
          "metadata": {},
          "execution_count": 64
        }
      ]
    },
    {
      "cell_type": "code",
      "source": [],
      "metadata": {
        "id": "8vNcuzj4_Fti"
      },
      "execution_count": 65,
      "outputs": []
    },
    {
      "cell_type": "code",
      "source": [],
      "metadata": {
        "id": "xM43AT5N-peQ"
      },
      "execution_count": null,
      "outputs": []
    },
    {
      "cell_type": "markdown",
      "source": [
        "# Generate Data and Train"
      ],
      "metadata": {
        "id": "MWjSloB2PMMU"
      }
    },
    {
      "cell_type": "code",
      "source": [
        "X = np.expand_dims(np.linspace(0, 100, 50), -1)\n",
        "y = np.expand_dims((5 * X[:, 0] + 3 * X[:, 0] ** 2 + 50), -1)\n",
        "\n",
        "\n",
        "\n",
        "X_train, X_test, y_train, y_test = train_test_split(X, y, test_size=0.2)\n",
        "\n"
      ],
      "metadata": {
        "id": "js6vkSNAPPR9"
      },
      "execution_count": 119,
      "outputs": []
    },
    {
      "cell_type": "code",
      "source": [
        "xt_min = X_train.min()\n",
        "xt_max = X_train.max()\n",
        "\n",
        "yt_min = y_train.min()\n",
        "yt_max = y_train.max()"
      ],
      "metadata": {
        "id": "zydSER35FfBW"
      },
      "execution_count": 120,
      "outputs": []
    },
    {
      "cell_type": "code",
      "source": [
        "xtrn_norm = (X_train-xt_min)/(xt_max-xt_min)\n",
        "ytrn_norm = (y_train-yt_min)/(yt_max-yt_min)\n",
        "\n",
        "xtst_norm = (X_test-xt_min)/(xt_max-xt_min)\n",
        "ytst_norm = (y_test-yt_min)/(yt_max-yt_min)\n",
        "\n"
      ],
      "metadata": {
        "id": "QBgCiLoNGCmR"
      },
      "execution_count": 121,
      "outputs": []
    },
    {
      "cell_type": "code",
      "source": [
        "nn = NeuralNetSolver()\n",
        "\n"
      ],
      "metadata": {
        "id": "xpE-SlU5o34j"
      },
      "execution_count": 122,
      "outputs": []
    },
    {
      "cell_type": "code",
      "source": [
        "train_losses, test_losses = nn.fit(xtrn_norm, ytrn_norm, xtst_norm, ytst_norm)\n"
      ],
      "metadata": {
        "colab": {
          "base_uri": "https://localhost:8080/"
        },
        "id": "4Q1RhSDzvaMM",
        "outputId": "819b4f12-af82-41cb-f37e-bf4958ce1114"
      },
      "execution_count": 123,
      "outputs": [
        {
          "output_type": "stream",
          "name": "stdout",
          "text": [
            "Iteration 10000, Test Loss=0.00016903003637562227,Best = 1e+100 [-8.6517227193957]\n",
            "Iteration 20000, Test Loss=1.4002386613471329e-05,Best = 1e+100 [-8.6517227193957, -11.05038563986257]\n",
            "Iteration 30000, Test Loss=1.239553820911241e-05,Best = 1e+100 [-8.6517227193957, -11.05038563986257, -11.187565307618744]\n",
            "Iteration 40000, Test Loss=1.0893153043039405e-05,Best = 1e+100 [-8.6517227193957, -11.05038563986257, -11.187565307618744, -11.318875045834524]\n",
            "Iteration 50000, Test Loss=9.585474251455084e-06,Best = 1e+100 [-8.6517227193957, -11.05038563986257, -11.187565307618744, -11.318875045834524, -11.448606535607606]\n",
            "Iteration 60000, Test Loss=8.446861129993683e-06,Best = 1e+100 [-8.6517227193957, -11.05038563986257, -11.187565307618744, -11.318875045834524, -11.448606535607606, -11.576965048762858]\n",
            "Iteration 70000, Test Loss=7.4529404626397655e-06,Best = 1e+100 [-8.6517227193957, -11.05038563986257, -11.187565307618744, -11.318875045834524, -11.448606535607606, -11.576965048762858, -11.704128413524467]\n",
            "Iteration 80000, Test Loss=6.583322136533005e-06,Best = 1e+100 [-8.6517227193957, -11.05038563986257, -11.187565307618744, -11.318875045834524, -11.448606535607606, -11.576965048762858, -11.704128413524467, -11.830253709404735]\n",
            "Iteration 90000, Test Loss=5.820898277524128e-06,Best = 1e+100 [-8.6517227193957, -11.05038563986257, -11.187565307618744, -11.318875045834524, -11.448606535607606, -11.576965048762858, -11.704128413524467, -11.830253709404735, -11.955480275229366]\n",
            "Iteration 100000, Test Loss=5.151235387878427e-06,Best = 1e+100 [-8.6517227193957, -11.05038563986257, -11.187565307618744, -11.318875045834524, -11.448606535607606, -11.576965048762858, -11.704128413524467, -11.830253709404735, -11.955480275229366, -12.079932051368138]\n"
          ]
        }
      ]
    },
    {
      "cell_type": "markdown",
      "source": [
        "# Loss Plot"
      ],
      "metadata": {
        "id": "5AVJhhy7pBoL"
      }
    },
    {
      "cell_type": "code",
      "source": [
        "plt.plot(range(len(train_losses)), train_losses, 'b')\n",
        "plt.plot(range(len(train_losses)), test_losses, 'r')\n",
        "plt.ylabel('Loss')\n",
        "plt.legend(['Train Loss', 'Test Loss'])\n",
        "plt.xlabel('Step')"
      ],
      "metadata": {
        "id": "bCIgvOfOpHS6",
        "colab": {
          "base_uri": "https://localhost:8080/",
          "height": 471
        },
        "outputId": "3ab740a4-b4a4-4a28-efb4-11ba34e3990b"
      },
      "execution_count": 124,
      "outputs": [
        {
          "output_type": "execute_result",
          "data": {
            "text/plain": [
              "Text(0.5, 0, 'Step')"
            ]
          },
          "metadata": {},
          "execution_count": 124
        },
        {
          "output_type": "display_data",
          "data": {
            "text/plain": [
              "<Figure size 640x480 with 1 Axes>"
            ],
            "image/png": "[encoded data removed]"
          },
          "metadata": {}
        }
      ]
    },
    {
      "cell_type": "markdown",
      "source": [
        "# Plot of True vs Predicted Values"
      ],
      "metadata": {
        "id": "X3q4MnqLo2Tu"
      }
    },
    {
      "cell_type": "code",
      "source": [
        "\n",
        "X_std = (X-xt_min)/(xt_max-xt_min)\n",
        "\n",
        "plt.scatter(y, yt_min+(nn.forward(X_std)*(yt_max-yt_min)))\n",
        "plt.xlabel('True')\n",
        "plt.ylabel('Predicted')"
      ],
      "metadata": {
        "id": "LVQ5UR46D49s",
        "colab": {
          "base_uri": "https://localhost:8080/",
          "height": 467
        },
        "outputId": "60b13990-fcbb-4ce3-9e19-49f2ca95635d"
      },
      "execution_count": 125,
      "outputs": [
        {
          "output_type": "execute_result",
          "data": {
            "text/plain": [
              "Text(0, 0.5, 'Predicted')"
            ]
          },
          "metadata": {},
          "execution_count": 125
        },
        {
          "output_type": "display_data",
          "data": {
            "text/plain": [
              "<Figure size 640x480 with 1 Axes>"
            ],
            "image/png": "[encoded data removed]"
          },
          "metadata": {}
        }
      ]
    },
    {
      "cell_type": "code",
      "source": [],
      "metadata": {
        "id": "NTsZuDCdBwD5"
      },
      "execution_count": null,
      "outputs": []
    }
  ]
}