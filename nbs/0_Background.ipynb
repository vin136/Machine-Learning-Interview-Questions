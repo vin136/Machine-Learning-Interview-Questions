{
  "nbformat": 4,
  "nbformat_minor": 0,
  "metadata": {
    "colab": {
      "provenance": [],
      "toc_visible": true,
      "authorship_tag": "ABX9TyNoIp9APt1Q70dIpnQ14jiG",
      "include_colab_link": true
    },
    "kernelspec": {
      "name": "python3",
      "display_name": "Python 3"
    },
    "language_info": {
      "name": "python"
    }
  },
  "cells": [
    {
      "cell_type": "markdown",
      "metadata": {
        "id": "view-in-github",
        "colab_type": "text"
      },
      "source": [
        "<a href=\"https://colab.research.google.com/github/vin136/Machine-Learning-Interview-Questions/blob/main/nbs/0_Background.ipynb\" target=\"_parent\"><img src=\"https://colab.research.google.com/assets/colab-badge.svg\" alt=\"Open In Colab\"/></a>"
      ]
    },
    {
      "cell_type": "code",
      "execution_count": null,
      "metadata": {
        "id": "RYC3TFqocHIm"
      },
      "outputs": [],
      "source": []
    },
    {
      "cell_type": "markdown",
      "source": [
        "# Pobability : Knowledge test\n",
        "\n",
        "1. How to calculate the empirical covariance of a random vector ?\n",
        "\n",
        "2. Multivariate Gaussian, what is the distribution of marginal and conditional ?\n",
        "\n",
        "3. What's the distribution of a random variable that is product of two gaussians ? Any linear transformation of a gaussian random variable's ?"
      ],
      "metadata": {
        "id": "suH15SJ6oGEc"
      }
    },
    {
      "cell_type": "code",
      "source": [],
      "metadata": {
        "id": "iI_l1zAwo-B5"
      },
      "execution_count": null,
      "outputs": []
    },
    {
      "cell_type": "markdown",
      "source": [
        "1. Which of the following are true :\n",
        "\n",
        "- two random variables can have covariance zero but are not statistically independent.\n",
        "\n",
        "- pair-wise independence imply mutual independence"
      ],
      "metadata": {
        "id": "jutumI7WiGoJ"
      }
    },
    {
      "cell_type": "markdown",
      "source": [
        "Sol:\n",
        "\n",
        "False,False"
      ],
      "metadata": {
        "id": "zh_vf1QpmOMY"
      }
    },
    {
      "cell_type": "markdown",
      "source": [],
      "metadata": {
        "id": "9aXTVAGdmSWF"
      }
    },
    {
      "cell_type": "markdown",
      "source": [
        "2. How will you generate arbitrary univariate distributions if you can only sample from uniform ?\n",
        "\n"
      ],
      "metadata": {
        "id": "OHUJdKFvcKOp"
      }
    },
    {
      "cell_type": "markdown",
      "source": [
        "Solution:\n",
        "If y = cdf(x), then y is uniform distributed\n",
        "\n",
        "$P(X <= F^{-1}(u)) = P(F(X) <= u) = u $\n",
        "\n",
        "$F(x) = \\int_{-\\infty}^{x} f(t) dt$\n",
        "\n",
        "$F^{-1}(x) = \\inf\\{y|F(y) \\geq x\\}$\n",
        "\n",
        "$P(X \\leq F^{-1}(u)) = P(F(X) \\leq u) = u$\n",
        "\n"
      ],
      "metadata": {
        "id": "VSfPEOiQlFij"
      }
    },
    {
      "cell_type": "code",
      "source": [
        "import numpy as np\n",
        "import matplotlib.pyplot as plt\n",
        "\n",
        "# Using inverse cdf\n",
        "def exponential(lambda_, size):\n",
        "  #inverse cdf of exponental = -1/\\lambda* ln(1-u)\n",
        "    U = np.random.uniform(size=size)\n",
        "    X = (-1/lambda_)*np.log(1-U)\n",
        "    return X\n",
        "\n",
        "#using generative definition/sampling\n",
        "def binomial(p,n):\n",
        "  # bin = x1 + x2 + ..xn,where xi is bernouli\n",
        "  simulate = 10000\n",
        "  out = []\n",
        "  for i in range(simulate):\n",
        "    U = np.random.uniform(size=n)\n",
        "    out.append(np.sum(U<=p))\n",
        "  return out\n",
        "        \n",
        "\n",
        "\n",
        "_ = plt.hist(exponential(1, 10000), bins=100, density=True, alpha=0.5, label='Exponential')\n",
        "_ = plt.hist(binomial(0.8,15), bins=100, density=True, alpha=0.5, label='binomial')\n"
      ],
      "metadata": {
        "colab": {
          "base_uri": "https://localhost:8080/",
          "height": 265
        },
        "id": "AExzmjU57Wry",
        "outputId": "e9f3d514-ae44-4878-c64a-cac39819691d"
      },
      "execution_count": 13,
      "outputs": [
        {
          "output_type": "display_data",
          "data": {
            "text/plain": [
              "<Figure size 432x288 with 1 Axes>"
            ],
            "image/png": "[encoded data removed]"
          },
          "metadata": {
            "needs_background": "light"
          }
        }
      ]
    },
    {
      "cell_type": "code",
      "source": [],
      "metadata": {
        "id": "KATm5fSm7-Rc"
      },
      "execution_count": null,
      "outputs": []
    },
    {
      "cell_type": "markdown",
      "source": [
        "3. My neighbor has two children. Assuming that the gender of a child is like a coin flip, it is most likely, a priori, that my neighbor has one boy and one girl, with probability 1/2. The other possibilities—two boys or two girls—have probabilities 1/4 and 1/4.\n",
        "a. Suppose I ask him whether he has any boys, and he says yes. What is the probability that one child is a girl?\n",
        "b. Suppose instead that I happen to see one of his children run by, and it is a boy. What is the probability that the other child is a girl?"
      ],
      "metadata": {
        "id": "Bgm343V6mVNs"
      }
    },
    {
      "cell_type": "markdown",
      "source": [
        "Sol:\n",
        "\n",
        "a. 2/3  b. 1/2\n",
        "\n",
        "Define events => Use bayes rule"
      ],
      "metadata": {
        "id": "Z_1PKgWBmXfj"
      }
    },
    {
      "cell_type": "markdown",
      "source": [
        "# Statistics"
      ],
      "metadata": {
        "id": "vwN7KOifoFNL"
      }
    },
    {
      "cell_type": "markdown",
      "source": [
        "1. What are the motivations behing using mle?\n",
        "\n"
      ],
      "metadata": {
        "id": "ycVrZtgUOcQA"
      }
    },
    {
      "cell_type": "markdown",
      "source": [
        "sol:\n",
        "\n",
        "1. As an approbimation to MAP under uniform prior.\n",
        "\n",
        "2. Minimize KL(p||q) where p is empirical data distribution, and q is the estimated distribution. This translates to reducing NLL."
      ],
      "metadata": {
        "id": "Sv0AwawfOf76"
      }
    },
    {
      "cell_type": "code",
      "source": [],
      "metadata": {
        "id": "DpaIEOazO-3v"
      },
      "execution_count": null,
      "outputs": []
    },
    {
      "cell_type": "code",
      "source": [
        "import matplotlib.pyplot as plt\n",
        "import numpy as np\n",
        "import pandas as pd\n",
        "import seaborn as sns\n",
        "\n",
        "# histogram of implied prior on the M/F sex ratio\n",
        "plt.hist(1 / np.random.uniform(size=2000) - 1, bins=50, edgecolor='black')\n",
        "plt.title('Implied prior on the M/F sex ratio')\n",
        "plt.xlabel('phi')\n",
        "\n",
        "a = 438\n",
        "b = 544\n",
        "theta = np.random.beta(a, b, size=10000)\n",
        "phi = (1 - theta) / theta\n",
        "quantiles = [0.025, 0.975]\n",
        "theta_quantiles = np.quantile(theta, quantiles)\n",
        "phi_quantiles = np.quantile(phi, quantiles)\n",
        "\n",
        "# merge the data into one data frame for plotting\n",
        "df1 = pd.DataFrame({'phi': phi, 'theta': theta}).melt(var_name='variable')\n",
        "# merge quantiles into one data frame for plotting\n",
        "df2 = pd.DataFrame({'phi': phi_quantiles, 'theta': theta_quantiles}).melt(var_name='variable')\n",
        "\n",
        "sns.histplot(df1, x='value', hue='variable', bins=30)\n",
        "for quantile in phi_quantiles:\n",
        "    plt.axvline(x=quantile, linestyle='dotted', color='black')\n",
        "plt.legend(title=None)\n",
        "plt.xlabel('')\n",
        "plt.ylabel('')\n",
        "plt.show()\n"
      ],
      "metadata": {
        "colab": {
          "base_uri": "https://localhost:8080/",
          "height": 299
        },
        "id": "Ihv-jojOr8i6",
        "outputId": "4a949431-b80e-4457-960d-215420baae44"
      },
      "execution_count": 6,
      "outputs": [
        {
          "output_type": "stream",
          "name": "stderr",
          "text": [
            "WARNING:matplotlib.legend:No handles with labels found to put in legend.\n"
          ]
        },
        {
          "output_type": "display_data",
          "data": {
            "text/plain": [
              "<Figure size 432x288 with 1 Axes>"
            ],
            "image/png": "[encoded data removed]"
          },
          "metadata": {
            "needs_background": "light"
          }
        }
      ]
    },
    {
      "cell_type": "code",
      "source": [
        "import numpy as np\n",
        "import matplotlib.pyplot as plt\n",
        "import scipy.stats as stats\n",
        "\n",
        "# Define the parameters\n",
        "n1 = 111\n",
        "n2 = 44\n",
        "sum_y1 = 217\n",
        "sum_y2 = 66\n",
        "alpha = 2\n",
        "beta = 1\n",
        "\n",
        "# Posterior distributions for theta1 and theta2\n",
        "posterior_theta1 = stats.gamma(alpha + sum_y1, scale = 1 / (beta + n1))\n",
        "posterior_theta2 = stats.gamma(alpha + sum_y2, scale = 1 / (beta + n2))\n",
        "\n",
        "# Mean and 95% credible interval for theta1\n",
        "mean_theta1 = (alpha + sum_y1) / (beta + n1)\n",
        "lower_theta1, upper_theta1 = posterior_theta1.interval(0.95)\n",
        "print(\"Mean of theta1: \", mean_theta1)\n",
        "print(\"95% credible interval of theta1: \", (lower_theta1, upper_theta1))\n",
        "\n",
        "# Mean and 95% credible interval for theta2\n",
        "mean_theta2 = (alpha + sum_y2) / (beta + n2)\n",
        "lower_theta2, upper_theta2 = posterior_theta2.interval(0.95)\n",
        "print(\"Mean of theta2: \", mean_theta2)\n",
        "print(\"95% credible interval of theta2: \", (lower_theta2, upper_theta2))\n",
        "\n",
        "# Plot the common prior and posterior distributions for theta1 and theta2\n",
        "x = np.linspace(0, 20, 1000)\n",
        "plt.plot(x, stats.gamma.pdf(x, alpha, scale=1/beta), label='Common prior')\n",
        "plt.plot(x, posterior_theta1.pdf(x), label='Posterior theta1')\n",
        "plt.plot(x, posterior_theta2.pdf(x), label='Posterior theta2')\n",
        "plt.legend()\n",
        "plt.show()\n",
        "\n",
        "# Simulate the posterior probability of theta1 > theta2\n",
        "sim_samples = np.random.gamma(alpha + sum_y1, scale=1 / (beta + n1), size=10000)\n",
        "sim_samples2 = np.random.gamma(alpha + sum_y2, scale=1 / (beta + n2), size=10000)\n",
        "prob = np.mean(sim_samples > sim_samples2)\n",
        "print(\"Posterior probability of theta1 > theta2: \", prob)\n",
        "\n",
        "# Posterior predictive distributions of number of children for women with/without college degrees\n",
        "predictive_theta1 = np.random.poisson(lam=sim_samples, size=10000)\n",
        "predictive_theta2 = np.random.poisson(lam=sim_samples2, size=10000)\n",
        "\n",
        "# Plot the posterior predictive distributions\n",
        "plt.hist(predictive_theta1, bins=20, alpha=0.5, label='Women without college degrees')\n",
        "plt.hist(predictive_theta2, bins=20, alpha=0.5, label='Women with college degrees')\n",
        "plt.legend()\n"
      ],
      "metadata": {
        "colab": {
          "base_uri": "https://localhost:8080/",
          "height": 620
        },
        "id": "b2-MRSWzsfzu",
        "outputId": "2f2b05df-d76c-4484-e5d9-a3ca914862a4"
      },
      "execution_count": 7,
      "outputs": [
        {
          "output_type": "stream",
          "name": "stdout",
          "text": [
            "Mean of theta1:  1.9553571428571428\n",
            "95% credible interval of theta1:  (1.7049431489418194, 2.2226790202451725)\n",
            "Mean of theta2:  1.511111111111111\n",
            "95% credible interval of theta2:  (1.1734369056138327, 1.8908362583954745)\n"
          ]
        },
        {
          "output_type": "display_data",
          "data": {
            "text/plain": [
              "<Figure size 432x288 with 1 Axes>"
            ],
            "image/png": "[encoded data removed]"
          },
          "metadata": {
            "needs_background": "light"
          }
        },
        {
          "output_type": "stream",
          "name": "stdout",
          "text": [
            "Posterior probability of theta1 > theta2:  0.9731\n"
          ]
        },
        {
          "output_type": "execute_result",
          "data": {
            "text/plain": [
              "<matplotlib.legend.Legend at 0x7f5cb8a2efd0>"
            ]
          },
          "metadata": {},
          "execution_count": 7
        },
        {
          "output_type": "display_data",
          "data": {
            "text/plain": [
              "<Figure size 432x288 with 1 Axes>"
            ],
            "image/png": "[encoded data removed]"
          },
          "metadata": {
            "needs_background": "light"
          }
        }
      ]
    },
    {
      "cell_type": "markdown",
      "source": [
        "Normal Distribution (N(θ, σ2)):\n",
        "The normal distribution has the density function:\n",
        "\n",
        "$$ p(y_i|\\theta, \\sigma^2) = \\frac{1}{\\sqrt{2\\pi\\sigma^2}}e^{-\\frac{(y_i - \\theta)^2}{2\\sigma^2}} $$\n",
        "\n",
        "The natural parameter for the normal distribution is:\n",
        "\n",
        "$$ \\phi(\\theta) = \\frac{\\theta}{\\sigma^2} $$\n",
        "\n",
        "And the sufficient statistic for the normal distribution is:\n",
        "\n",
        "$$ t(y) = \\frac{\\sum_{i=1}^{n} y_i}{\\sigma^2} $$\n",
        "\n",
        "Poisson Distribution (Poisson(θ)):\n",
        "The Poisson distribution has the density function:\n",
        "\n",
        "$$ p(y_i|\\theta) = \\frac{\\theta^{y_i}e^{-\\theta}}{y_i!} $$\n",
        "\n",
        "The natural parameter for the Poisson distribution is:\n",
        "\n",
        "$$ \\phi(\\theta) = \\ln(\\theta) $$\n",
        "\n",
        "And the sufficient statistic for the Poisson distribution is:\n",
        "\n",
        "$$ t(y) = \\sum_{i=1}^{n} y_i $$\n",
        "\n",
        "Binomial Distribution (Binomial(n, θ)):\n",
        "The binomial distribution has the density function:\n",
        "\n",
        "$$ p(y_i|n,\\theta) = \\binom{n}{y_i} \\theta^{y_i} (1 - \\theta)^{n-y_i} $$\n",
        "\n",
        "The natural parameter for the binomial distribution is:\n",
        "\n",
        "$$ \\phi(\\theta) = \\ln\\left(\\frac{\\theta}{1-\\theta}\\right) $$\n",
        "\n",
        "And the sufficient statistic for the binomial distribution is:\n",
        "\n",
        "$$ t(y) = \\sum_{i=1}^{n} y_i $$"
      ],
      "metadata": {
        "id": "6zn2XLqF16ZY"
      }
    },
    {
      "cell_type": "code",
      "source": [],
      "metadata": {
        "id": "qFZ3dYua185C"
      },
      "execution_count": null,
      "outputs": []
    }
  ]
}