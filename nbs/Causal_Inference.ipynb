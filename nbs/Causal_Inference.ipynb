{
  "nbformat": 4,
  "nbformat_minor": 0,
  "metadata": {
    "colab": {
      "provenance": [],
      "authorship_tag": "ABX9TyP+H+QecbcXpK+c/PplYG8U",
      "include_colab_link": true
    },
    "kernelspec": {
      "name": "python3",
      "display_name": "Python 3"
    },
    "language_info": {
      "name": "python"
    }
  },
  "cells": [
    {
      "cell_type": "markdown",
      "metadata": {
        "id": "view-in-github",
        "colab_type": "text"
      },
      "source": [
        "<a href=\"https://colab.research.google.com/github/vin136/Machine-Learning-Interview-Questions/blob/main/nbs/Causal_Inference.ipynb\" target=\"_parent\"><img src=\"https://colab.research.google.com/assets/colab-badge.svg\" alt=\"Open In Colab\"/></a>"
      ]
    },
    {
      "cell_type": "code",
      "execution_count": 1,
      "metadata": {
        "id": "tKDsvmBAR0bc"
      },
      "outputs": [],
      "source": [
        "\"\"\"\n",
        "Estimating the causal effect of sodium on blood pressure in a simulated example\n",
        "adapted from Luque-Fernandez et al. (2018):\n",
        "    https://academic.oup.com/ije/article/48/2/640/5248195\n",
        "\"\"\"\n",
        "\n",
        "import numpy as np\n",
        "import pandas as pd\n",
        "from sklearn.linear_model import LinearRegression\n",
        "\n",
        "\n",
        "def generate_data(n=1000, seed=0, beta1=1.05, alpha1=0.4, alpha2=0.3, binary_treatment=True, binary_cutoff=3.5):\n",
        "    np.random.seed(seed)\n",
        "    age = np.random.normal(65, 5, n)\n",
        "    sodium = age / 18 + np.random.normal(size=n)\n",
        "    if binary_treatment:\n",
        "        if binary_cutoff is None:\n",
        "            binary_cutoff = sodium.mean()\n",
        "        sodium = (sodium > binary_cutoff).astype(int)\n",
        "    blood_pressure = beta1 * sodium + 2 * age + np.random.normal(size=n)\n",
        "    proteinuria = alpha1 * sodium + alpha2 * blood_pressure + np.random.normal(size=n)\n",
        "    hypertension = (blood_pressure >= 140).astype(int)  # not used, but could be used for binary outcomes\n",
        "    return pd.DataFrame({'blood_pressure': blood_pressure, 'sodium': sodium,\n",
        "                         'age': age, 'proteinuria': proteinuria})\n",
        "\n",
        "\n"
      ]
    },
    {
      "cell_type": "markdown",
      "source": [
        "https://www.pnas.org/doi/full/10.1073/pnas.1510489113"
      ],
      "metadata": {
        "id": "qVNLdJ0REuPf"
      }
    },
    {
      "cell_type": "code",
      "source": [
        "def estimate_causal_effect(Xt, y, model=LinearRegression(), treatment_idx=0, regression_coef=False):\n",
        "    model.fit(Xt, y)\n",
        "    if regression_coef:\n",
        "        return model.coef_[treatment_idx]\n",
        "    else:\n",
        "        Xt1 = pd.DataFrame.copy(Xt)\n",
        "        Xt1[Xt.columns[treatment_idx]] = 1\n",
        "        Xt0 = pd.DataFrame.copy(Xt)\n",
        "        Xt0[Xt.columns[treatment_idx]] = 0\n",
        "        return (model.predict(Xt1) - model.predict(Xt0)).mean()\n",
        "\n",
        "\n"
      ],
      "metadata": {
        "id": "vK9J8xPzH5il"
      },
      "execution_count": 2,
      "outputs": []
    },
    {
      "cell_type": "code",
      "source": [
        "\n",
        "df = generate_data(beta1=1.05, alpha1=.4, alpha2=.3, binary_treatment=True, n=10000000)\n",
        "\n",
        "continuous_t_df = generate_data(beta1=1.05, alpha1=.4, alpha2=.3, binary_treatment=False, n=10000000)"
      ],
      "metadata": {
        "id": "_XqfWQckHIbX"
      },
      "execution_count": 3,
      "outputs": []
    },
    {
      "cell_type": "code",
      "source": [],
      "metadata": {
        "id": "1DCO0gLRGp9-"
      },
      "execution_count": null,
      "outputs": []
    },
    {
      "cell_type": "code",
      "source": [
        "\n",
        "\n",
        "  ate_est_naive = None\n",
        "  ate_est_adjust_all = None\n",
        "  ate_est_adjust_age = None\n",
        "\n",
        "  for df, name in zip([binary_t_df, continuous_t_df],\n",
        "                      ['Binary Treatment Data', 'Continuous Treatment Data']):\n",
        "      print()\n",
        "      print('### {} ###'.format(name))\n",
        "      print()\n",
        "\n",
        "      # Adjustment formula estimates\n",
        "      ate_est_naive = estimate_causal_effect(df[['sodium']], df['blood_pressure'], treatment_idx=0)\n",
        "      ate_est_adjust_all = estimate_causal_effect(df[['sodium', 'age', 'proteinuria']],\n",
        "                                                  df['blood_pressure'], treatment_idx=0)\n",
        "      ate_est_adjust_age = estimate_causal_effect(df[['sodium', 'age']], df['blood_pressure'])\n",
        "      print('# Adjustment Formula Estimates #')\n",
        "      print('Naive ATE estimate:\\t\\t\\t\\t\\t\\t\\t', ate_est_naive)\n",
        "      print('ATE estimate adjusting for all covariates:\\t', ate_est_adjust_all)\n",
        "      print('ATE estimate adjusting for age:\\t\\t\\t\\t', ate_est_adjust_age)\n",
        "      print()\n",
        "\n",
        "      # Linear regression coefficient estimates\n",
        "      ate_est_naive = estimate_causal_effect(df[['sodium']], df['blood_pressure'], treatment_idx=0,\n",
        "                                              regression_coef=True)\n",
        "      ate_est_adjust_all = estimate_causal_effect(df[['sodium', 'age', 'proteinuria']],\n",
        "                                                  df['blood_pressure'], treatment_idx=0,\n",
        "                                                  regression_coef=True)\n",
        "      ate_est_adjust_age = estimate_causal_effect(df[['sodium', 'age']], df['blood_pressure'],\n",
        "                                                  regression_coef=True)\n",
        "      print('# Regression Coefficient Estimates #')\n",
        "      print('Naive ATE estimate:\\t\\t\\t\\t\\t\\t\\t', ate_est_naive)\n",
        "      print('ATE estimate adjusting for all covariates:\\t', ate_est_adjust_all)\n",
        "      print('ATE estimate adjusting for age:\\t\\t\\t\\t', ate_est_adjust_age)\n",
        "      print()"
      ],
      "metadata": {
        "colab": {
          "base_uri": "https://localhost:8080/"
        },
        "id": "iPktNajjSqDo",
        "outputId": "ff7e70db-6fd1-4696-863b-e64691f0765b"
      },
      "execution_count": 20,
      "outputs": [
        {
          "output_type": "stream",
          "name": "stdout",
          "text": [
            "\n",
            "### Binary Treatment Data ###\n",
            "\n",
            "# Adjustment Formula Estimates #\n",
            "Naive ATE estimate:\t\t\t\t\t\t\t 5.328501680864975\n",
            "ATE estimate adjusting for all covariates:\t 0.8537946431496021\n",
            "ATE estimate adjusting for age:\t\t\t\t 1.0502124539714488\n",
            "\n",
            "# Regression Coefficient Estimates #\n",
            "Naive ATE estimate:\t\t\t\t\t\t\t 5.328501680864978\n",
            "ATE estimate adjusting for all covariates:\t 0.8537946431495851\n",
            "ATE estimate adjusting for age:\t\t\t\t 1.0502124539714823\n",
            "\n",
            "\n",
            "### Continuous Treatment Data ###\n",
            "\n",
            "# Adjustment Formula Estimates #\n",
            "Naive ATE estimate:\t\t\t\t\t\t\t 3.628378195978172\n",
            "ATE estimate adjusting for all covariates:\t 0.8532920319407821\n",
            "ATE estimate adjusting for age:\t\t\t\t 1.0497716562238169\n",
            "\n",
            "# Regression Coefficient Estimates #\n",
            "Naive ATE estimate:\t\t\t\t\t\t\t 3.6283781959780943\n",
            "ATE estimate adjusting for all covariates:\t 0.8532920319407795\n",
            "ATE estimate adjusting for age:\t\t\t\t 1.0497716562238382\n",
            "\n"
          ]
        }
      ]
    },
    {
      "cell_type": "code",
      "source": [],
      "metadata": {
        "id": "noLWUVe-Stra"
      },
      "execution_count": null,
      "outputs": []
    }
  ]
}