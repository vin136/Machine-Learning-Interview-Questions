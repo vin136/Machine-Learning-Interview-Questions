{
  "nbformat": 4,
  "nbformat_minor": 0,
  "metadata": {
    "colab": {
      "provenance": [],
      "include_colab_link": true
    },
    "kernelspec": {
      "name": "python3",
      "display_name": "Python 3"
    },
    "language_info": {
      "name": "python"
    }
  },
  "cells": [
    {
      "cell_type": "markdown",
      "metadata": {
        "id": "view-in-github",
        "colab_type": "text"
      },
      "source": [
        "<a href=\"https://colab.research.google.com/github/vin136/Machine-Learning-Interview-Questions/blob/main/nbs/Causal_Inference.ipynb\" target=\"_parent\"><img src=\"https://colab.research.google.com/assets/colab-badge.svg\" alt=\"Open In Colab\"/></a>"
      ]
    },
    {
      "cell_type": "markdown",
      "source": [
        "# Machine Learing for causal inference, some thoughts\n",
        "\n",
        "**Prediction != Inference**\n",
        "\n",
        "Given an RCT data can i build two seperate models for avg.treatment effect, μ(T=1,x), μ(T=0,x) and get τ for each observation as `μ(T=1,$x_i$)-μ(T=0,$x_i$)` ?\n",
        "\n",
        "Ans:\n",
        "\n",
        "Typically No. ML optimizes for making the best prediction using the simplest model(less variables). If we have confounders(variables that are correlated with the treatment), it typically drops one of them as we penalize for overfitting (say possibly ignore the treatment). This can gives biased estimates.\n",
        "\n",
        "\n",
        "**Recommended Papers**:\n",
        "\n",
        "1. [Recursive partitioning for heterogenous causal effects](https://www.pnas.org/doi/full/10.1073/pnas.1510489113)\n",
        "\n",
        "2. [Choice as alternative](https://github.com/vin136/Machine-Learning-Interview-Questions/blob/main/choice%20as%20alternative.pdf): Also has my notes on getting the estimator of ATE with all the relevant assumptions needed.\n",
        "\n",
        "## Tools\n",
        "\n",
        "**Propensity Scores**\n",
        "\n",
        "Gotchas\n",
        "\n",
        "- Typically used only when the treatments are discrete.\n",
        "\n",
        "Story line\n",
        "\n",
        "- $e(x) = P(T=1 | x)$, conditioning on whole $x$ might effect our positivity assumption thus a good idea to reduce it to 1 dimension and condition it on that a.k.a propensity score.\n",
        "\n",
        "- We reweight the data and our new estimator is $$τ = E[Y_{T=1}\\frac{1}{e(x)}] - E[Y_{T=0}\\frac{1}{1- e(x)}]$$\n",
        "\n",
        "- Model $e(x)$ using ML.\n",
        "\n",
        "Caution \n",
        "- You must ensure that your ML model outputs a calibrated probability prediction. Often times it's better to use a simple model like logistic regression than a complicated ML model as here reducing prediction error is not the objective\n",
        "\n",
        "- if the\n",
        "propensity scores are very close to 0 or 1, the estimates will blow up. In\n",
        "order to prevent this, it is not uncommon to trim the propensity scores.\n",
        "\n",
        "- Selection Bias: A/B testing or complete randomness is a highbar. When you send a survey(randomly), natually some customers don’t respond and we should take this into account in our analysis. If the non-respondents are mostly unsatisfied customers, the result you’ll get back from the survey will be an artificially inflated rate. You can account for this by estimating response probability and doing similar to IPW. We can combine both and account for both **selection bias and confounding**.\n",
        "\n",
        "Intuition\n",
        "\n",
        "- You are giving high importance to the treated that look like the untreated and vice-versa. Makes sense.\n",
        "\n",
        "**Think on these**\n",
        "\n",
        "Is it true that Better estimate of the treatment assignment mechanism => better causal estimates. Why or Why not ?\n",
        "\n",
        "Ans:\n",
        "\n",
        "I can see via positivity vs conditional unconfoundedness tradeoff how by potentially adding more covariates and getting better estimates might be a bad idea for inference. But since i got labels here, i can still resolve this by cross-validation. Is that it ? other way to see it is how we use these estimates to ultimately get our ATE and if these values are concentrated near 0 or 1, then Variance of ATE increases.\n",
        "\n",
        "\n",
        "\n"
      ],
      "metadata": {
        "id": "U3Kzt4OkKaNW"
      }
    },
    {
      "cell_type": "code",
      "source": [
        "np.random.seed(42)\n",
        "school_a = pd.DataFrame(dict(T=np.random.binomial(1, .99, 400), school=0, intercept=1))\n",
        "school_b = pd.DataFrame(dict(T=np.random.binomial(1, .01, 400), school=1, intercept=1))\n",
        "ex_data = pd.concat([school_a, school_b]).assign(y = lambda d: np.random.normal(1 + 0.1 * d[\"T\"]))\n",
        "ex_data.head()"
      ],
      "metadata": {
        "id": "Q_HJ6J6fvX5r",
        "outputId": "ec5bc5b0-d334-406b-f030-f3d683fe2c7e",
        "colab": {
          "base_uri": "https://localhost:8080/",
          "height": 206
        }
      },
      "execution_count": null,
      "outputs": [
        {
          "output_type": "execute_result",
          "data": {
            "text/plain": [
              "   T  school  intercept         y\n",
              "0  1       0          1  0.309526\n",
              "1  1       0          1  1.571468\n",
              "2  1       0          1  2.982024\n",
              "3  1       0          1  2.445420\n",
              "4  1       0          1  2.693187"
            ],
            "text/html": [
              "\n",
              "  <div id=\"df-059b084b-6edd-4889-871f-db6218730bfe\">\n",
              "    <div class=\"colab-df-container\">\n",
              "      <div>\n",
              "<style scoped>\n",
              "    .dataframe tbody tr th:only-of-type {\n",
              "        vertical-align: middle;\n",
              "    }\n",
              "\n",
              "    .dataframe tbody tr th {\n",
              "        vertical-align: top;\n",
              "    }\n",
              "\n",
              "    .dataframe thead th {\n",
              "        text-align: right;\n",
              "    }\n",
              "</style>\n",
              "<table border=\"1\" class=\"dataframe\">\n",
              "  <thead>\n",
              "    <tr style=\"text-align: right;\">\n",
              "      <th></th>\n",
              "      <th>T</th>\n",
              "      <th>school</th>\n",
              "      <th>intercept</th>\n",
              "      <th>y</th>\n",
              "    </tr>\n",
              "  </thead>\n",
              "  <tbody>\n",
              "    <tr>\n",
              "      <th>0</th>\n",
              "      <td>1</td>\n",
              "      <td>0</td>\n",
              "      <td>1</td>\n",
              "      <td>0.309526</td>\n",
              "    </tr>\n",
              "    <tr>\n",
              "      <th>1</th>\n",
              "      <td>1</td>\n",
              "      <td>0</td>\n",
              "      <td>1</td>\n",
              "      <td>1.571468</td>\n",
              "    </tr>\n",
              "    <tr>\n",
              "      <th>2</th>\n",
              "      <td>1</td>\n",
              "      <td>0</td>\n",
              "      <td>1</td>\n",
              "      <td>2.982024</td>\n",
              "    </tr>\n",
              "    <tr>\n",
              "      <th>3</th>\n",
              "      <td>1</td>\n",
              "      <td>0</td>\n",
              "      <td>1</td>\n",
              "      <td>2.445420</td>\n",
              "    </tr>\n",
              "    <tr>\n",
              "      <th>4</th>\n",
              "      <td>1</td>\n",
              "      <td>0</td>\n",
              "      <td>1</td>\n",
              "      <td>2.693187</td>\n",
              "    </tr>\n",
              "  </tbody>\n",
              "</table>\n",
              "</div>\n",
              "      <button class=\"colab-df-convert\" onclick=\"convertToInteractive('df-059b084b-6edd-4889-871f-db6218730bfe')\"\n",
              "              title=\"Convert this dataframe to an interactive table.\"\n",
              "              style=\"display:none;\">\n",
              "        \n",
              "  <svg xmlns=\"http://www.w3.org/2000/svg\" height=\"24px\"viewBox=\"0 0 24 24\"\n",
              "       width=\"24px\">\n",
              "    <path d=\"M0 0h24v24H0V0z\" fill=\"none\"/>\n",
              "    <path d=\"M18.56 5.44l.94 2.06.94-2.06 2.06-.94-2.06-.94-.94-2.06-.94 2.06-2.06.94zm-11 1L8.5 8.5l.94-2.06 2.06-.94-2.06-.94L8.5 2.5l-.94 2.06-2.06.94zm10 10l.94 2.06.94-2.06 2.06-.94-2.06-.94-.94-2.06-.94 2.06-2.06.94z\"/><path d=\"M17.41 7.96l-1.37-1.37c-.4-.4-.92-.59-1.43-.59-.52 0-1.04.2-1.43.59L10.3 9.45l-7.72 7.72c-.78.78-.78 2.05 0 2.83L4 21.41c.39.39.9.59 1.41.59.51 0 1.02-.2 1.41-.59l7.78-7.78 2.81-2.81c.8-.78.8-2.07 0-2.86zM5.41 20L4 18.59l7.72-7.72 1.47 1.35L5.41 20z\"/>\n",
              "  </svg>\n",
              "      </button>\n",
              "      \n",
              "  <style>\n",
              "    .colab-df-container {\n",
              "      display:flex;\n",
              "      flex-wrap:wrap;\n",
              "      gap: 12px;\n",
              "    }\n",
              "\n",
              "    .colab-df-convert {\n",
              "      background-color: #E8F0FE;\n",
              "      border: none;\n",
              "      border-radius: 50%;\n",
              "      cursor: pointer;\n",
              "      display: none;\n",
              "      fill: #1967D2;\n",
              "      height: 32px;\n",
              "      padding: 0 0 0 0;\n",
              "      width: 32px;\n",
              "    }\n",
              "\n",
              "    .colab-df-convert:hover {\n",
              "      background-color: #E2EBFA;\n",
              "      box-shadow: 0px 1px 2px rgba(60, 64, 67, 0.3), 0px 1px 3px 1px rgba(60, 64, 67, 0.15);\n",
              "      fill: #174EA6;\n",
              "    }\n",
              "\n",
              "    [theme=dark] .colab-df-convert {\n",
              "      background-color: #3B4455;\n",
              "      fill: #D2E3FC;\n",
              "    }\n",
              "\n",
              "    [theme=dark] .colab-df-convert:hover {\n",
              "      background-color: #434B5C;\n",
              "      box-shadow: 0px 1px 3px 1px rgba(0, 0, 0, 0.15);\n",
              "      filter: drop-shadow(0px 1px 2px rgba(0, 0, 0, 0.3));\n",
              "      fill: #FFFFFF;\n",
              "    }\n",
              "  </style>\n",
              "\n",
              "      <script>\n",
              "        const buttonEl =\n",
              "          document.querySelector('#df-059b084b-6edd-4889-871f-db6218730bfe button.colab-df-convert');\n",
              "        buttonEl.style.display =\n",
              "          google.colab.kernel.accessAllowed ? 'block' : 'none';\n",
              "\n",
              "        async function convertToInteractive(key) {\n",
              "          const element = document.querySelector('#df-059b084b-6edd-4889-871f-db6218730bfe');\n",
              "          const dataTable =\n",
              "            await google.colab.kernel.invokeFunction('convertToInteractive',\n",
              "                                                     [key], {});\n",
              "          if (!dataTable) return;\n",
              "\n",
              "          const docLinkHtml = 'Like what you see? Visit the ' +\n",
              "            '<a target=\"_blank\" href=https://colab.research.google.com/notebooks/data_table.ipynb>data table notebook</a>'\n",
              "            + ' to learn more about interactive tables.';\n",
              "          element.innerHTML = '';\n",
              "          dataTable['output_type'] = 'display_data';\n",
              "          await google.colab.output.renderOutput(dataTable, element);\n",
              "          const docLink = document.createElement('div');\n",
              "          docLink.innerHTML = docLinkHtml;\n",
              "          element.appendChild(docLink);\n",
              "        }\n",
              "      </script>\n",
              "    </div>\n",
              "  </div>\n",
              "  "
            ]
          },
          "metadata": {},
          "execution_count": 15
        }
      ]
    },
    {
      "cell_type": "code",
      "source": [
        "from joblib import Parallel, delayed # for parallel processing\n",
        "from sklearn.linear_model import LogisticRegression\n",
        "\n",
        "# define function that computes the IPTW estimator\n",
        "def run_ps(df, X, T, y):\n",
        "    # estimate the propensity score\n",
        "    ps = LogisticRegression(C=1e6).fit(df[X], df[T]).predict_proba(df[X])[:, 1]\n",
        "    \n",
        "    weight = (df[T]-ps) / (ps*(1-ps)) # define the weights\n",
        "    return np.mean(weight * df[y]) # compute the ATE"
      ],
      "metadata": {
        "id": "sNoscli-xN6n"
      },
      "execution_count": null,
      "outputs": []
    },
    {
      "cell_type": "code",
      "source": [
        "ate_w_f = np.array([run_ps(ex_data.sample(frac=1, replace=True), [\"school\"], \"T\", \"y\") for _ in range(500)])\n",
        "ate_wo_f = np.array([run_ps(ex_data.sample(frac=1, replace=True), [\"intercept\"], \"T\", \"y\") for _ in range(500)])"
      ],
      "metadata": {
        "id": "ozGEmrlmyErL"
      },
      "execution_count": null,
      "outputs": []
    },
    {
      "cell_type": "code",
      "source": [
        "np.mean(ate_w_f),np.mean(ate_wo_f)\n",
        "#strange."
      ],
      "metadata": {
        "id": "FZn_E77V02TW",
        "outputId": "978cbf33-61b5-45ec-e8e5-838a5d4cced8",
        "colab": {
          "base_uri": "https://localhost:8080/"
        }
      },
      "execution_count": null,
      "outputs": [
        {
          "output_type": "execute_result",
          "data": {
            "text/plain": [
              "(-0.46647222372338654, 0.090734900162471)"
            ]
          },
          "metadata": {},
          "execution_count": 22
        }
      ]
    },
    {
      "cell_type": "code",
      "source": [
        "import seaborn as sns\n",
        "import matplotlib.pyplot as plt\n",
        "\n",
        "sns.distplot(ate_w_f, kde=False, label=\"PS W School\")\n",
        "sns.distplot(ate_wo_f, kde=False, label=\"PS W/O School\")\n",
        "plt.legend();"
      ],
      "metadata": {
        "id": "0quMBrhQyI9Z",
        "outputId": "0ac1dacf-320b-4a18-f734-1c76b5818281",
        "colab": {
          "base_uri": "https://localhost:8080/",
          "height": 323
        }
      },
      "execution_count": null,
      "outputs": [
        {
          "output_type": "stream",
          "name": "stderr",
          "text": [
            "/usr/local/lib/python3.8/dist-packages/seaborn/distributions.py:2619: FutureWarning: `distplot` is a deprecated function and will be removed in a future version. Please adapt your code to use either `displot` (a figure-level function with similar flexibility) or `histplot` (an axes-level function for histograms).\n",
            "  warnings.warn(msg, FutureWarning)\n"
          ]
        },
        {
          "output_type": "display_data",
          "data": {
            "text/plain": [
              "<Figure size 432x288 with 1 Axes>"
            ],
            "image/png": "[encoded data removed]"
          },
          "metadata": {
            "needs_background": "light"
          }
        }
      ]
    },
    {
      "cell_type": "code",
      "source": [],
      "metadata": {
        "id": "jY6NjqLFyR6j"
      },
      "execution_count": null,
      "outputs": []
    },
    {
      "cell_type": "code",
      "source": [
        "\"\"\"\n",
        "Estimating the causal effect of sodium on blood pressure in a simulated example\n",
        "adapted from Luque-Fernandez et al. (2018):\n",
        "    https://academic.oup.com/ije/article/48/2/640/5248195\n",
        "\"\"\"\n",
        "\n",
        "import numpy as np\n",
        "import pandas as pd\n",
        "from sklearn.linear_model import LinearRegression\n",
        "\n",
        "\n",
        "def generate_data(n=1000, seed=1, beta1=1.05, alpha1=0.4, alpha2=0.3, binary_treatment=True, binary_cutoff=3.5):\n",
        "    np.random.seed(seed)\n",
        "    age = np.random.normal(65, 5, n)\n",
        "    sodium = age / 18 + np.random.normal(size=n)\n",
        "    if binary_treatment:\n",
        "        if binary_cutoff is None:\n",
        "            binary_cutoff = sodium.mean()\n",
        "        sodium = (sodium > binary_cutoff).astype(int)\n",
        "    blood_pressure = beta1 * sodium + 2 * age + np.random.normal(size=n)\n",
        "    proteinuria = alpha1 * sodium + alpha2 * blood_pressure + np.random.normal(size=n)\n",
        "    hypertension = (blood_pressure >= 140).astype(int)  # not used, but could be used for binary outcomes\n",
        "    return pd.DataFrame({'blood_pressure': blood_pressure, 'sodium': sodium,\n",
        "                         'age': age, 'proteinuria': proteinuria})\n",
        "\n",
        "\n"
      ],
      "metadata": {
        "id": "29s-l0ORKYGt"
      },
      "execution_count": null,
      "outputs": []
    },
    {
      "cell_type": "markdown",
      "source": [],
      "metadata": {
        "id": "jlq_o7RqKWKd"
      }
    },
    {
      "cell_type": "markdown",
      "source": [],
      "metadata": {
        "id": "qVNLdJ0REuPf"
      }
    },
    {
      "cell_type": "code",
      "source": [
        "def estimate_causal_effect(Xt, y, model=LinearRegression(), treatment_idx=0, regression_coef=False):\n",
        "    model.fit(Xt, y)\n",
        "    if regression_coef:\n",
        "        return model.coef_[treatment_idx]\n",
        "    else:\n",
        "        Xt1 = pd.DataFrame.copy(Xt)\n",
        "        Xt1[Xt.columns[treatment_idx]] = 1\n",
        "        Xt0 = pd.DataFrame.copy(Xt)\n",
        "        Xt0[Xt.columns[treatment_idx]] = 0\n",
        "        return (model.predict(Xt1) - model.predict(Xt0)).mean()\n",
        "\n",
        "\n"
      ],
      "metadata": {
        "id": "vK9J8xPzH5il"
      },
      "execution_count": null,
      "outputs": []
    },
    {
      "cell_type": "code",
      "source": [
        "\n",
        "\n",
        "\n",
        "repeat_cnt = 1000\n",
        "# Adjustment formula estimates\n",
        "ate_est_naive = []\n",
        "ate_est_adjust_all = []\n",
        "ate_est_adjust_age = []\n",
        "\n",
        "for i in range(repeat_cnt):\n",
        "  # change random seed\n",
        "  df = generate_data(beta1=1.05, alpha1=.4, alpha2=.3, binary_treatment=True, n=1000,seed = i)\n",
        "  \n",
        "  ate_est_naive.append(estimate_causal_effect(df[['sodium']], df['blood_pressure'], treatment_idx=0))\n",
        "  ate_est_adjust_all.append(estimate_causal_effect(df[['sodium', 'age', 'proteinuria']],\n",
        "                                              df['blood_pressure'], treatment_idx=0))\n",
        "  ate_est_adjust_age.append(estimate_causal_effect(df[['sodium', 'age']], df['blood_pressure']))\n",
        "print('# Adjustment Formula Estimates #')\n",
        "print('Naive ATE estimate:\\t\\t\\t\\t\\t\\t\\t', np.mean(ate_est_naive))\n",
        "print('ATE estimate adjusting for all covariates:\\t', np.mean(ate_est_adjust_all))\n",
        "print('ATE estimate adjusting for age:\\t\\t\\t\\t', np.mean(ate_est_adjust_age))\n",
        "print()\n",
        "\n",
        "    "
      ],
      "metadata": {
        "colab": {
          "base_uri": "https://localhost:8080/"
        },
        "id": "iPktNajjSqDo",
        "outputId": "6860672b-b6d9-4039-bb77-27a6f56ab394"
      },
      "execution_count": null,
      "outputs": [
        {
          "output_type": "stream",
          "name": "stdout",
          "text": [
            "# Adjustment Formula Estimates #\n",
            "Naive ATE estimate:\t\t\t\t\t\t\t 5.330021342829084\n",
            "ATE estimate adjusting for all covariates:\t 0.8551880095411735\n",
            "ATE estimate adjusting for age:\t\t\t\t 1.0507577659728093\n",
            "\n"
          ]
        }
      ]
    },
    {
      "cell_type": "code",
      "source": [],
      "metadata": {
        "id": "noLWUVe-Stra"
      },
      "execution_count": null,
      "outputs": []
    },
    {
      "cell_type": "markdown",
      "source": [
        "## Instrumental Variables"
      ],
      "metadata": {
        "id": "PT0j34wg4xFF"
      }
    },
    {
      "cell_type": "code",
      "source": [
        "!pip install linearmodels"
      ],
      "metadata": {
        "id": "iV9jc95t7gPi"
      },
      "execution_count": null,
      "outputs": []
    },
    {
      "cell_type": "code",
      "source": [
        "import warnings\n",
        "warnings.filterwarnings('ignore')\n",
        "\n",
        "import pandas as pd\n",
        "import numpy as np\n",
        "from scipy import stats\n",
        "from matplotlib import style\n",
        "import seaborn as sns\n",
        "from matplotlib import pyplot as plt\n",
        "import statsmodels.formula.api as smf\n",
        "import graphviz as gr\n",
        "from linearmodels.iv import IV2SLS\n",
        "\n",
        "%matplotlib inline\n",
        "\n",
        "pd.set_option(\"display.max_columns\", 5)\n",
        "style.use(\"fivethirtyeight\")"
      ],
      "metadata": {
        "id": "wBfvyELM403R"
      },
      "execution_count": 3,
      "outputs": []
    },
    {
      "cell_type": "code",
      "source": [],
      "metadata": {
        "id": "xbYuSGft7Ncn"
      },
      "execution_count": 3,
      "outputs": []
    },
    {
      "cell_type": "markdown",
      "source": [
        "Why ?\n",
        "\n",
        "For estimating causal effect we sometimes(often) can't observe all the variables. Can we estimate causal effect in those situations ?\n",
        "\n",
        "We can if we have `Z` st. cov(z,t) != 0(can verify) and Y independent of Z given T(can't verify)"
      ],
      "metadata": {
        "id": "n8xoNw_Y7mHa"
      }
    },
    {
      "cell_type": "code",
      "source": [
        "g = gr.Digraph()\n",
        "\n",
        "g.edge(\"ability\", \"educ\")\n",
        "g.edge(\"ability\", \"wage\")\n",
        "g.edge(\"educ\", \"wage\")\n",
        "g"
      ],
      "metadata": {
        "id": "SxfK43BG7xmi",
        "outputId": "ec47d714-28b1-40c6-ca3a-5535db095deb",
        "colab": {
          "base_uri": "https://localhost:8080/",
          "height": 271
        }
      },
      "execution_count": 4,
      "outputs": [
        {
          "output_type": "execute_result",
          "data": {
            "image/svg+xml": "<?xml version=\"1.0\" encoding=\"UTF-8\" standalone=\"no\"?>\n<!DOCTYPE svg PUBLIC \"-//W3C//DTD SVG 1.1//EN\"\n \"http://www.w3.org/Graphics/SVG/1.1/DTD/svg11.dtd\">\n<!-- Generated by graphviz version 2.43.0 (0)\n -->\n<!-- Title: %3 Pages: 1 -->\n<svg width=\"95pt\" height=\"188pt\"\n viewBox=\"0.00 0.00 95.44 188.00\" xmlns=\"http://www.w3.org/2000/svg\" xmlns:xlink=\"http://www.w3.org/1999/xlink\">\n<g id=\"graph0\" class=\"graph\" transform=\"scale(1 1) rotate(0) translate(4 184)\">\n<title>%3</title>\n<polygon fill=\"white\" stroke=\"transparent\" points=\"-4,4 -4,-184 91.44,-184 91.44,4 -4,4\"/>\n<!-- ability -->\n<g id=\"node1\" class=\"node\">\n<title>ability</title>\n<ellipse fill=\"none\" stroke=\"black\" cx=\"54.3\" cy=\"-162\" rx=\"33.29\" ry=\"18\"/>\n<text text-anchor=\"middle\" x=\"54.3\" y=\"-158.3\" font-family=\"Times,serif\" font-size=\"14.00\">ability</text>\n</g>\n<!-- educ -->\n<g id=\"node2\" class=\"node\">\n<title>educ</title>\n<ellipse fill=\"none\" stroke=\"black\" cx=\"27.3\" cy=\"-90\" rx=\"27.1\" ry=\"18\"/>\n<text text-anchor=\"middle\" x=\"27.3\" y=\"-86.3\" font-family=\"Times,serif\" font-size=\"14.00\">educ</text>\n</g>\n<!-- ability&#45;&gt;educ -->\n<g id=\"edge1\" class=\"edge\">\n<title>ability&#45;&gt;educ</title>\n<path fill=\"none\" stroke=\"black\" d=\"M47.76,-144.05C44.68,-136.06 40.93,-126.33 37.48,-117.4\"/>\n<polygon fill=\"black\" stroke=\"black\" points=\"40.64,-115.86 33.77,-107.79 34.11,-118.38 40.64,-115.86\"/>\n</g>\n<!-- wage -->\n<g id=\"node3\" class=\"node\">\n<title>wage</title>\n<ellipse fill=\"none\" stroke=\"black\" cx=\"54.3\" cy=\"-18\" rx=\"29.5\" ry=\"18\"/>\n<text text-anchor=\"middle\" x=\"54.3\" y=\"-14.3\" font-family=\"Times,serif\" font-size=\"14.00\">wage</text>\n</g>\n<!-- ability&#45;&gt;wage -->\n<g id=\"edge2\" class=\"edge\">\n<title>ability&#45;&gt;wage</title>\n<path fill=\"none\" stroke=\"black\" d=\"M57.95,-143.91C59.97,-133.57 62.28,-120.09 63.3,-108 64.64,-92.06 64.64,-87.94 63.3,-72 62.58,-63.5 61.23,-54.31 59.79,-46.01\"/>\n<polygon fill=\"black\" stroke=\"black\" points=\"63.21,-45.29 57.95,-36.09 56.33,-46.56 63.21,-45.29\"/>\n</g>\n<!-- educ&#45;&gt;wage -->\n<g id=\"edge3\" class=\"edge\">\n<title>educ&#45;&gt;wage</title>\n<path fill=\"none\" stroke=\"black\" d=\"M33.7,-72.41C36.81,-64.34 40.63,-54.43 44.13,-45.35\"/>\n<polygon fill=\"black\" stroke=\"black\" points=\"47.42,-46.55 47.76,-35.96 40.89,-44.03 47.42,-46.55\"/>\n</g>\n</g>\n</svg>\n",
            "text/plain": [
              "<graphviz.graphs.Digraph at 0x7f244e931100>"
            ]
          },
          "metadata": {},
          "execution_count": 4
        }
      ]
    },
    {
      "cell_type": "code",
      "source": [
        "# effect of strength of correlation\n",
        "\n",
        "np.random.seed(12)\n",
        "n = 10000\n",
        "X = np.random.normal(0, 2, n) # observable variable\n",
        "U = np.random.normal(0, 2, n) # unobservable (omitted) variable\n",
        "T = np.random.normal(1 + 0.5*U, 5, n) # treatment\n",
        "Y = np.random.normal(2 + X - 0.5*U + 2*T, 5, n) # outcome\n",
        "\n",
        "stddevs = np.linspace(0.1, 100, 50)\n",
        "Zs = {f\"Z_{z}\": np.random.normal(T, s, n) for z, s in enumerate(stddevs)} # instruments with decreasing \\mathrm{Cov}(Z, T)\n",
        "\n",
        "sim_data = pd.DataFrame(dict(U=U, T=T, Y=Y)).assign(**Zs)\n",
        "\n",
        "sim_data.head()"
      ],
      "metadata": {
        "id": "Ghrg9ZQY7aPw",
        "outputId": "c47178ac-1fc6-4bc0-a33c-8381033a2809",
        "colab": {
          "base_uri": "https://localhost:8080/",
          "height": 235
        }
      },
      "execution_count": 5,
      "outputs": [
        {
          "output_type": "execute_result",
          "data": {
            "text/plain": [
              "          U         T  ...        Z_48        Z_49\n",
              "0  2.696148  8.056988  ... -117.798705  -13.485292\n",
              "1  2.570240  0.245067  ... -209.727577  -70.792948\n",
              "2  0.664741  5.597510  ...   60.562232   47.619414\n",
              "3  1.037725  0.493532  ...   78.136513 -108.322304\n",
              "4 -2.590591 -6.263014  ...   78.776566  -80.547214\n",
              "\n",
              "[5 rows x 53 columns]"
            ],
            "text/html": [
              "\n",
              "  <div id=\"df-d7dda61a-bd40-4f3c-8d82-be9e00e3f3ac\">\n",
              "    <div class=\"colab-df-container\">\n",
              "      <div>\n",
              "<style scoped>\n",
              "    .dataframe tbody tr th:only-of-type {\n",
              "        vertical-align: middle;\n",
              "    }\n",
              "\n",
              "    .dataframe tbody tr th {\n",
              "        vertical-align: top;\n",
              "    }\n",
              "\n",
              "    .dataframe thead th {\n",
              "        text-align: right;\n",
              "    }\n",
              "</style>\n",
              "<table border=\"1\" class=\"dataframe\">\n",
              "  <thead>\n",
              "    <tr style=\"text-align: right;\">\n",
              "      <th></th>\n",
              "      <th>U</th>\n",
              "      <th>T</th>\n",
              "      <th>...</th>\n",
              "      <th>Z_48</th>\n",
              "      <th>Z_49</th>\n",
              "    </tr>\n",
              "  </thead>\n",
              "  <tbody>\n",
              "    <tr>\n",
              "      <th>0</th>\n",
              "      <td>2.696148</td>\n",
              "      <td>8.056988</td>\n",
              "      <td>...</td>\n",
              "      <td>-117.798705</td>\n",
              "      <td>-13.485292</td>\n",
              "    </tr>\n",
              "    <tr>\n",
              "      <th>1</th>\n",
              "      <td>2.570240</td>\n",
              "      <td>0.245067</td>\n",
              "      <td>...</td>\n",
              "      <td>-209.727577</td>\n",
              "      <td>-70.792948</td>\n",
              "    </tr>\n",
              "    <tr>\n",
              "      <th>2</th>\n",
              "      <td>0.664741</td>\n",
              "      <td>5.597510</td>\n",
              "      <td>...</td>\n",
              "      <td>60.562232</td>\n",
              "      <td>47.619414</td>\n",
              "    </tr>\n",
              "    <tr>\n",
              "      <th>3</th>\n",
              "      <td>1.037725</td>\n",
              "      <td>0.493532</td>\n",
              "      <td>...</td>\n",
              "      <td>78.136513</td>\n",
              "      <td>-108.322304</td>\n",
              "    </tr>\n",
              "    <tr>\n",
              "      <th>4</th>\n",
              "      <td>-2.590591</td>\n",
              "      <td>-6.263014</td>\n",
              "      <td>...</td>\n",
              "      <td>78.776566</td>\n",
              "      <td>-80.547214</td>\n",
              "    </tr>\n",
              "  </tbody>\n",
              "</table>\n",
              "<p>5 rows × 53 columns</p>\n",
              "</div>\n",
              "      <button class=\"colab-df-convert\" onclick=\"convertToInteractive('df-d7dda61a-bd40-4f3c-8d82-be9e00e3f3ac')\"\n",
              "              title=\"Convert this dataframe to an interactive table.\"\n",
              "              style=\"display:none;\">\n",
              "        \n",
              "  <svg xmlns=\"http://www.w3.org/2000/svg\" height=\"24px\"viewBox=\"0 0 24 24\"\n",
              "       width=\"24px\">\n",
              "    <path d=\"M0 0h24v24H0V0z\" fill=\"none\"/>\n",
              "    <path d=\"M18.56 5.44l.94 2.06.94-2.06 2.06-.94-2.06-.94-.94-2.06-.94 2.06-2.06.94zm-11 1L8.5 8.5l.94-2.06 2.06-.94-2.06-.94L8.5 2.5l-.94 2.06-2.06.94zm10 10l.94 2.06.94-2.06 2.06-.94-2.06-.94-.94-2.06-.94 2.06-2.06.94z\"/><path d=\"M17.41 7.96l-1.37-1.37c-.4-.4-.92-.59-1.43-.59-.52 0-1.04.2-1.43.59L10.3 9.45l-7.72 7.72c-.78.78-.78 2.05 0 2.83L4 21.41c.39.39.9.59 1.41.59.51 0 1.02-.2 1.41-.59l7.78-7.78 2.81-2.81c.8-.78.8-2.07 0-2.86zM5.41 20L4 18.59l7.72-7.72 1.47 1.35L5.41 20z\"/>\n",
              "  </svg>\n",
              "      </button>\n",
              "      \n",
              "  <style>\n",
              "    .colab-df-container {\n",
              "      display:flex;\n",
              "      flex-wrap:wrap;\n",
              "      gap: 12px;\n",
              "    }\n",
              "\n",
              "    .colab-df-convert {\n",
              "      background-color: #E8F0FE;\n",
              "      border: none;\n",
              "      border-radius: 50%;\n",
              "      cursor: pointer;\n",
              "      display: none;\n",
              "      fill: #1967D2;\n",
              "      height: 32px;\n",
              "      padding: 0 0 0 0;\n",
              "      width: 32px;\n",
              "    }\n",
              "\n",
              "    .colab-df-convert:hover {\n",
              "      background-color: #E2EBFA;\n",
              "      box-shadow: 0px 1px 2px rgba(60, 64, 67, 0.3), 0px 1px 3px 1px rgba(60, 64, 67, 0.15);\n",
              "      fill: #174EA6;\n",
              "    }\n",
              "\n",
              "    [theme=dark] .colab-df-convert {\n",
              "      background-color: #3B4455;\n",
              "      fill: #D2E3FC;\n",
              "    }\n",
              "\n",
              "    [theme=dark] .colab-df-convert:hover {\n",
              "      background-color: #434B5C;\n",
              "      box-shadow: 0px 1px 3px 1px rgba(0, 0, 0, 0.15);\n",
              "      filter: drop-shadow(0px 1px 2px rgba(0, 0, 0, 0.3));\n",
              "      fill: #FFFFFF;\n",
              "    }\n",
              "  </style>\n",
              "\n",
              "      <script>\n",
              "        const buttonEl =\n",
              "          document.querySelector('#df-d7dda61a-bd40-4f3c-8d82-be9e00e3f3ac button.colab-df-convert');\n",
              "        buttonEl.style.display =\n",
              "          google.colab.kernel.accessAllowed ? 'block' : 'none';\n",
              "\n",
              "        async function convertToInteractive(key) {\n",
              "          const element = document.querySelector('#df-d7dda61a-bd40-4f3c-8d82-be9e00e3f3ac');\n",
              "          const dataTable =\n",
              "            await google.colab.kernel.invokeFunction('convertToInteractive',\n",
              "                                                     [key], {});\n",
              "          if (!dataTable) return;\n",
              "\n",
              "          const docLinkHtml = 'Like what you see? Visit the ' +\n",
              "            '<a target=\"_blank\" href=https://colab.research.google.com/notebooks/data_table.ipynb>data table notebook</a>'\n",
              "            + ' to learn more about interactive tables.';\n",
              "          element.innerHTML = '';\n",
              "          dataTable['output_type'] = 'display_data';\n",
              "          await google.colab.output.renderOutput(dataTable, element);\n",
              "          const docLink = document.createElement('div');\n",
              "          docLink.innerHTML = docLinkHtml;\n",
              "          element.appendChild(docLink);\n",
              "        }\n",
              "      </script>\n",
              "    </div>\n",
              "  </div>\n",
              "  "
            ]
          },
          "metadata": {},
          "execution_count": 5
        }
      ]
    },
    {
      "cell_type": "code",
      "source": [],
      "metadata": {
        "id": "4_0tJzKx-M3e"
      },
      "execution_count": 11,
      "outputs": []
    },
    {
      "cell_type": "code",
      "source": [
        "corr = (sim_data.corr()[\"T\"]\n",
        "        [lambda d: d.index.str.startswith(\"Z\")])\n",
        "\n",
        "corr.head()"
      ],
      "metadata": {
        "id": "q9cJ43RV9ZAI",
        "outputId": "821d446f-4c7c-45f1-d2b7-f847be2f8058",
        "colab": {
          "base_uri": "https://localhost:8080/"
        }
      },
      "execution_count": 6,
      "outputs": [
        {
          "output_type": "execute_result",
          "data": {
            "text/plain": [
              "Z_0    0.999807\n",
              "Z_1    0.919713\n",
              "Z_2    0.773434\n",
              "Z_3    0.634614\n",
              "Z_4    0.523719\n",
              "Name: T, dtype: float64"
            ]
          },
          "metadata": {},
          "execution_count": 6
        }
      ]
    },
    {
      "cell_type": "code",
      "source": [
        "se = []\n",
        "ate = []\n",
        "for z in range(len(Zs)):\n",
        "    formula = f'Y ~ 1 + X + [T ~ Z_{z}]'\n",
        "    iv = IV2SLS.from_formula(formula, sim_data).fit()\n",
        "    se.append(iv.std_errors[\"T\"])\n",
        "    ate.append(iv.params[\"T\"])"
      ],
      "metadata": {
        "id": "HYWjS0069Zvu"
      },
      "execution_count": 7,
      "outputs": []
    },
    {
      "cell_type": "code",
      "source": [
        "plot_data = pd.DataFrame(dict(se=se, ate=ate, corr=corr)).sort_values(by=\"corr\")\n",
        "\n",
        "plt.scatter(plot_data[\"corr\"], plot_data[\"se\"])\n",
        "plt.xlabel(\"Corr(Z, T)\")\n",
        "plt.ylabel(\"IV Standard Error\");\n",
        "plt.title(\"Variance of the IV Estimates by 1st Stage Strength\");"
      ],
      "metadata": {
        "id": "HGwnmIvh9cgA",
        "outputId": "b48b8f6f-9e68-4bf1-e6d9-b9c70b4e842c",
        "colab": {
          "base_uri": "https://localhost:8080/",
          "height": 508
        }
      },
      "execution_count": 8,
      "outputs": [
        {
          "output_type": "display_data",
          "data": {
            "text/plain": [
              "<Figure size 640x480 with 1 Axes>"
            ],
            "image/png": "[encoded data removed]"
          },
          "metadata": {}
        }
      ]
    },
    {
      "cell_type": "code",
      "source": [
        "plt.scatter(plot_data[\"corr\"], plot_data[\"ate\"])\n",
        "plt.fill_between(plot_data[\"corr\"],\n",
        "                 plot_data[\"ate\"]+1.96*plot_data[\"se\"],\n",
        "                 plot_data[\"ate\"]-1.96*plot_data[\"se\"], alpha=.5)\n",
        "plt.xlabel(\"Corr(Z, T)\")\n",
        "plt.ylabel(\"$\\hat{ATE}$\");\n",
        "plt.title(\"IV ATE Estimates by 1st Stage Strength\");"
      ],
      "metadata": {
        "id": "vpcYG6s29ecX",
        "outputId": "4953f5f3-5dcb-488c-dc7e-d00702639048",
        "colab": {
          "base_uri": "https://localhost:8080/",
          "height": 508
        }
      },
      "execution_count": 9,
      "outputs": [
        {
          "output_type": "display_data",
          "data": {
            "text/plain": [
              "<Figure size 640x480 with 1 Axes>"
            ],
            "image/png": "[encoded data removed]"
          },
          "metadata": {}
        }
      ]
    },
    {
      "cell_type": "code",
      "source": [],
      "metadata": {
        "id": "CB64O7OE9gws"
      },
      "execution_count": null,
      "outputs": []
    }
  ]
}