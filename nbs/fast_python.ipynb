{
  "nbformat": 4,
  "nbformat_minor": 0,
  "metadata": {
    "colab": {
      "provenance": [],
      "include_colab_link": true
    },
    "kernelspec": {
      "name": "python3",
      "display_name": "Python 3"
    },
    "language_info": {
      "name": "python"
    }
  },
  "cells": [
    {
      "cell_type": "markdown",
      "metadata": {
        "id": "view-in-github",
        "colab_type": "text"
      },
      "source": [
        "<a href=\"https://colab.research.google.com/github/vin136/Machine-Learning-Interview-Questions/blob/main/nbs/fast_python.ipynb\" target=\"_parent\"><img src=\"https://colab.research.google.com/assets/colab-badge.svg\" alt=\"Open In Colab\"/></a>"
      ]
    },
    {
      "cell_type": "code",
      "execution_count": null,
      "metadata": {
        "id": "3ue771plT00Z"
      },
      "outputs": [],
      "source": []
    },
    {
      "cell_type": "markdown",
      "source": [
        "# Data Structures\n"
      ],
      "metadata": {
        "id": "EeW1UyyZO-jM"
      }
    },
    {
      "cell_type": "markdown",
      "source": [
        "## STACK ADT\n",
        "\n",
        "implement : Push, Pop, Peek, size , is_empty"
      ],
      "metadata": {
        "id": "J8KTTk7FPL2F"
      }
    },
    {
      "cell_type": "code",
      "source": [],
      "metadata": {
        "id": "8dSv61X6PLGz"
      },
      "execution_count": 27,
      "outputs": []
    },
    {
      "cell_type": "code",
      "source": [
        "#Stack and Queues\n",
        "\n",
        "class ListStack:\n",
        "  def __init__(self):\n",
        "    self._stk = []\n",
        "    self._n = 0\n",
        "\n",
        "  def __repr__(self) -> str:\n",
        "    return f\"S:{self._stk},size:{self._n}\"\n",
        "\n",
        "  def push(self,val):\n",
        "    self._stk.append(val)\n",
        "    self._n += 1\n",
        "\n",
        "  def pop(self):\n",
        "    if not self.is_empty():\n",
        "      o = self._stk.pop()\n",
        "      self._n -= 1\n",
        "      return o\n",
        "    else:\n",
        "      raise Exception(\"can't pop from an empty stack\")\n",
        "\n",
        "  def peek(self):\n",
        "    if not self.is_empty():\n",
        "      o = self._stk[-1]\n",
        "      return 0\n",
        "    else:\n",
        "      raise Exception(\"stack is empty\")\n",
        "\n",
        "  def is_empty(self):\n",
        "    return self._n == 0\n",
        "\n"
      ],
      "metadata": {
        "id": "IjLRHhF7PFoy"
      },
      "execution_count": 22,
      "outputs": []
    },
    {
      "cell_type": "code",
      "source": [
        "a = ListStack()\n",
        "\n",
        "\n",
        "a.push(9)\n",
        "\n",
        "a.push(1)\n",
        "\n",
        "a.push(0)\n",
        "\n",
        "a.pop()"
      ],
      "metadata": {
        "id": "V2P-ttH_SU1t",
        "outputId": "55aa96de-5f6d-4463-ab59-831d8e54cef6",
        "colab": {
          "base_uri": "https://localhost:8080/"
        }
      },
      "execution_count": 23,
      "outputs": [
        {
          "output_type": "execute_result",
          "data": {
            "text/plain": [
              "0"
            ]
          },
          "metadata": {},
          "execution_count": 23
        }
      ]
    },
    {
      "cell_type": "code",
      "source": [
        "# simpler implementation by using wrapper pattern\n",
        "\n",
        "class ListStack:\n",
        "  def __init__(self):\n",
        "    self._stk = []\n",
        "\n",
        "  def __repr__(self) -> str:\n",
        "    return f\"S:{self._stk},size:{len(self)}\"\n",
        "\n",
        "  def __len__(self):\n",
        "    return len(self._stk)\n",
        "\n",
        "  def push(self,val):\n",
        "    self._stk.append(val)\n",
        "\n",
        "  def pop(self):\n",
        "    if not self.is_empty():\n",
        "      o = self._stk.pop()\n",
        "      return o\n",
        "    else:\n",
        "      raise Exception(\"can't pop from an empty stack\")\n",
        "\n",
        "  def peek(self):\n",
        "    if not self.is_empty():\n",
        "      o = self._stk[-1]\n",
        "      return 0\n",
        "    else:\n",
        "      raise Exception(\"stack is empty\")\n",
        "\n",
        "  def is_empty(self):\n",
        "    return len(self) == 0\n",
        "\n",
        "a = ListStack()\n",
        "a.push(0)\n",
        "a.pop()\n",
        "a\n"
      ],
      "metadata": {
        "id": "9a1Xz6sBSzbc",
        "outputId": "15439f42-56eb-4a21-b08b-de6b06d33d60",
        "colab": {
          "base_uri": "https://localhost:8080/"
        }
      },
      "execution_count": 27,
      "outputs": [
        {
          "output_type": "execute_result",
          "data": {
            "text/plain": [
              "S:[],size:0"
            ]
          },
          "metadata": {},
          "execution_count": 27
        }
      ]
    },
    {
      "cell_type": "code",
      "source": [
        "a = [0,9,8,6]\n",
        "a[4:]"
      ],
      "metadata": {
        "id": "BatkFIbLfCST",
        "outputId": "3d1766e5-27e6-41e1-e158-196c699252e4",
        "colab": {
          "base_uri": "https://localhost:8080/"
        }
      },
      "execution_count": 29,
      "outputs": [
        {
          "output_type": "execute_result",
          "data": {
            "text/plain": [
              "[]"
            ]
          },
          "metadata": {},
          "execution_count": 29
        }
      ]
    },
    {
      "cell_type": "markdown",
      "source": [
        "## Queues ADT\n",
        "\n",
        "implement : enque, deque, Peek, size , is_empty"
      ],
      "metadata": {
        "id": "PjfkFqdAWUZS"
      }
    },
    {
      "cell_type": "code",
      "source": [
        "#Implementin Queues, still O(1) amortized analysis\n",
        "\n",
        "class LisQueue:\n",
        "  def __init__(self):\n",
        "    self._q = []\n",
        "    self._n = 0\n",
        "    self._head = 0\n",
        "\n",
        "  def __len__(self):\n",
        "    return len(self._q)-self._head\n",
        "\n",
        "  def enque(self,val):\n",
        "    self._q.append(val)\n",
        "\n",
        "  def deque(self):\n",
        "    if not self.is_empty():\n",
        "      o = self._q[self._head]\n",
        "      self._head += 1\n",
        "      if ((len(self._q)//2) + 1) < self._head:\n",
        "        #update or recopy\n",
        "        self._q = list(self._q[self._head:])\n",
        "        self._head = 0\n",
        "      return o\n",
        "    else:\n",
        "      raise Exception(\"can't pop from an empty queue\")\n",
        "\n",
        "  def is_empty(self):\n",
        "    return self._head >= len(self._q)\n",
        "\n",
        "  def peek(self):\n",
        "    if not self.is_empty():\n",
        "      o = self._q[self._head]\n",
        "      return o\n",
        "    else:\n",
        "      raise Exception(\"queue is empty\")\n",
        "\n",
        "  "
      ],
      "metadata": {
        "id": "quyOJ2-HV6-g"
      },
      "execution_count": 45,
      "outputs": []
    },
    {
      "cell_type": "code",
      "source": [
        "a = LisQueue()\n",
        "a.enque(9)\n",
        "a.enque(8)\n",
        "a.peek()"
      ],
      "metadata": {
        "id": "_qdADoGsgG4P",
        "outputId": "77c2f77f-8f8c-43f6-a96d-9873b4d4993d",
        "colab": {
          "base_uri": "https://localhost:8080/"
        }
      },
      "execution_count": 46,
      "outputs": [
        {
          "output_type": "execute_result",
          "data": {
            "text/plain": [
              "9"
            ]
          },
          "metadata": {},
          "execution_count": 46
        }
      ]
    },
    {
      "cell_type": "code",
      "source": [
        "a.deque(),a.peek(),a.deque()\n"
      ],
      "metadata": {
        "id": "ELVxkXoYgTZj",
        "outputId": "dc71d0f2-8b72-4ad7-89f1-8afdc414a167",
        "colab": {
          "base_uri": "https://localhost:8080/"
        }
      },
      "execution_count": 47,
      "outputs": [
        {
          "output_type": "execute_result",
          "data": {
            "text/plain": [
              "(9, 8, 8)"
            ]
          },
          "metadata": {},
          "execution_count": 47
        }
      ]
    },
    {
      "cell_type": "markdown",
      "source": [
        "## Deque ADT\n",
        "\n",
        "addfirst(item) - add item to the front of the deque.\n",
        "\n",
        "addlast(item) - add item to the end of the deque.\n",
        "\n",
        "removefirst(item) - remove and return the first item in the deque.\n",
        "\n",
        "removelast(item) - remove and return the last item in the deque.\n",
        "\n",
        "len - return the number of items in the deque."
      ],
      "metadata": {
        "id": "zxBTFXYHO9Xt"
      }
    },
    {
      "cell_type": "code",
      "source": [],
      "metadata": {
        "id": "WjQL8g6yhP8y"
      },
      "execution_count": null,
      "outputs": []
    }
  ]
}