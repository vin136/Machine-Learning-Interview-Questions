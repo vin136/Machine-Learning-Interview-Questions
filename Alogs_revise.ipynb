{
  "nbformat": 4,
  "nbformat_minor": 0,
  "metadata": {
    "colab": {
      "provenance": [],
      "include_colab_link": true
    },
    "kernelspec": {
      "name": "python3",
      "display_name": "Python 3"
    },
    "language_info": {
      "name": "python"
    }
  },
  "cells": [
    {
      "cell_type": "markdown",
      "metadata": {
        "id": "view-in-github",
        "colab_type": "text"
      },
      "source": [
        "<a href=\"https://colab.research.google.com/github/vin136/Machine-Learning-Interview-Questions/blob/main/Alogs_revise.ipynb\" target=\"_parent\"><img src=\"https://colab.research.google.com/assets/colab-badge.svg\" alt=\"Open In Colab\"/></a>"
      ]
    },
    {
      "cell_type": "markdown",
      "source": [
        "# 1. Trees"
      ],
      "metadata": {
        "id": "2JWJM1RlmOme"
      }
    },
    {
      "cell_type": "markdown",
      "source": [
        "1.1 BST Search"
      ],
      "metadata": {
        "id": "qiTfYZDzmX8U"
      }
    },
    {
      "cell_type": "code",
      "source": [
        "def search(root, target):\n",
        "    if not root:\n",
        "        return False\n",
        "\n",
        "    if target > root.val:\n",
        "        return search(root.right, target)\n",
        "    elif target < root.val:\n",
        "        return search(root.left, target)\n",
        "    else:\n",
        "        return True\n"
      ],
      "metadata": {
        "id": "pYWUnb_imenj"
      },
      "execution_count": 2,
      "outputs": []
    },
    {
      "cell_type": "markdown",
      "source": [
        "1.2 Traversals: DFS - INORDER,PRE-ORDER,POST-ORDER, BFS"
      ],
      "metadata": {
        "id": "mS9IUhSkmw1B"
      }
    },
    {
      "cell_type": "code",
      "source": [
        "from collections import deque\n",
        "\n",
        "def inorder(root):\n",
        "    if not root:\n",
        "        return\n",
        "    inorder(root.left)\n",
        "    print(root.val)\n",
        "    inorder(root.right)\n",
        "\n",
        "def preorder(root):\n",
        "    if not root:\n",
        "        return\n",
        "    print(root.val)\n",
        "    preorder(root.left)\n",
        "    preorder(root.right)\n",
        "\n",
        "def postorder(root):\n",
        "    if not root:\n",
        "        return\n",
        "    postorder(root.left)\n",
        "    postorder(root.right)\n",
        "    print(root.val)\n",
        "\n",
        "\n",
        "def bfs(root):\n",
        "    queue = deque()\n",
        "\n",
        "    if root:\n",
        "        queue.append(root)\n",
        "\n",
        "    level = 0\n",
        "    while len(queue) > 0:\n",
        "        print(\"level: \", level)\n",
        "        for i in range(len(queue)):\n",
        "            curr = queue.popleft()\n",
        "            print(curr.val)\n",
        "            if curr.left:\n",
        "                queue.append(curr.left)\n",
        "            if curr.right:\n",
        "                queue.append(curr.right)\n",
        "        level += 1\n"
      ],
      "metadata": {
        "id": "-djY1MIemRzJ"
      },
      "execution_count": 3,
      "outputs": []
    },
    {
      "cell_type": "markdown",
      "source": [
        "**Iterative DFS**"
      ],
      "metadata": {
        "id": "5phcvH8ZMJCk"
      }
    },
    {
      "cell_type": "code",
      "source": [
        "def inorder(root):\n",
        "    stack = []\n",
        "    curr = root\n",
        "\n",
        "    while curr or stack:\n",
        "        if curr:\n",
        "            stack.append(curr)\n",
        "            curr = curr.left\n",
        "        else:\n",
        "            curr = stack.pop()\n",
        "            print(curr.val)\n",
        "            curr = curr.right\n",
        "\n",
        "\n",
        "\n",
        "def preorder(root):\n",
        "    stack = [root]\n",
        "    while stack:\n",
        "        node = stack.pop()\n",
        "        if node:\n",
        "          print(node.val)\n",
        "          stack.append(node.right)\n",
        "          stack.append(node.left)\n",
        "\n",
        "\n",
        "def postorder(root):\n",
        "    stack = [root]\n",
        "    visit = [False]\n",
        "    while stack:\n",
        "        curr, visited = stack.pop(), visit.pop()\n",
        "        if curr:\n",
        "            if visited:\n",
        "                print(curr.val)\n",
        "            else:\n",
        "                stack.append(curr)\n",
        "                visit.append(True)\n",
        "                stack.append(curr.right)\n",
        "                visit.append(False)\n",
        "                stack.append(curr.left)\n",
        "                visit.append(False)\n"
      ],
      "metadata": {
        "id": "LM5j52XYMMpR"
      },
      "execution_count": 10,
      "outputs": []
    },
    {
      "cell_type": "markdown",
      "source": [
        "Testing"
      ],
      "metadata": {
        "id": "QBkphaYXig1F"
      }
    },
    {
      "cell_type": "code",
      "source": [
        "class Node:\n",
        "    def __init__(self, key):\n",
        "        self.val = key\n",
        "        self.left = None\n",
        "        self.right = None\n",
        "\n",
        "class BinaryTree:\n",
        "    def __init__(self, root):\n",
        "        self.root = Node(root)\n",
        "\n",
        "\n",
        "# Sample Tree\n",
        "#        1\n",
        "#       / \\\n",
        "#      2   3\n",
        "#     / \\   \\\n",
        "#    4   5   7\n",
        "#.       /\n",
        "#       6\n",
        "sample_tree = BinaryTree(1)\n",
        "sample_tree.root.left = Node(2)\n",
        "sample_tree.root.right = Node(3)\n",
        "sample_tree.root.left.left = Node(4)\n",
        "sample_tree.root.left.right = Node(5)\n",
        "sample_tree.root.left.right.left = Node(6)\n",
        "sample_tree.root.right.right = Node(7)"
      ],
      "metadata": {
        "id": "7xITuvKUieHZ"
      },
      "execution_count": 5,
      "outputs": []
    },
    {
      "cell_type": "code",
      "source": [
        "preorder(sample_tree.root)"
      ],
      "metadata": {
        "id": "HzxXV6PbjEhN",
        "outputId": "79b69094-e420-4377-932b-1a33f739b953",
        "colab": {
          "base_uri": "https://localhost:8080/"
        }
      },
      "execution_count": 11,
      "outputs": [
        {
          "output_type": "stream",
          "name": "stdout",
          "text": [
            "1\n",
            "2\n",
            "4\n",
            "5\n",
            "6\n",
            "3\n",
            "7\n"
          ]
        }
      ]
    },
    {
      "cell_type": "markdown",
      "source": [
        "Some Notable problems and applications\n",
        "\n",
        "**1. Count Good Nodes:X in the tree is named good if in the path from root to X there are no nodes with a value greater than X.**\n",
        "\n",
        "\n",
        "\n",
        "```\n",
        "class Solution:\n",
        "    def goodNodes(self, root: TreeNode) -> int:\n",
        "        def dfs(node, maxVal):\n",
        "            if not node:\n",
        "                return 0\n",
        "\n",
        "            res = 1 if node.val >= maxVal else 0\n",
        "            maxVal = max(maxVal, node.val)\n",
        "            res += dfs(node.left, maxVal)\n",
        "            res += dfs(node.right, maxVal)\n",
        "            return res\n",
        "\n",
        "        return dfs(root, root.val)\n",
        "```\n",
        "\n",
        "**2. Max-path-sum: A path in a binary tree is a sequence of nodes where each pair of adjacent nodes in the sequence has an edge connecting them.**\n",
        "\n",
        "\n",
        "\n",
        "```\n",
        "class Solution:\n",
        "    def maxPathSum(self, root: TreeNode) -> int:\n",
        "        res = [root.val]\n",
        "\n",
        "        # return max path sum without split\n",
        "        def dfs(root):\n",
        "            if not root:\n",
        "                return 0\n",
        "\n",
        "            leftMax = dfs(root.left)\n",
        "            rightMax = dfs(root.right)\n",
        "            leftMax = max(leftMax, 0)\n",
        "            rightMax = max(rightMax, 0)\n",
        "\n",
        "            # compute max path sum WITH split\n",
        "            res[0] = max(res[0], root.val + leftMax + rightMax)\n",
        "            return root.val + max(leftMax, rightMax)\n",
        "\n",
        "        dfs(root)\n",
        "        return res[0]\n",
        "```\n",
        "\n"
      ],
      "metadata": {
        "id": "IVVkJCRhNZzp"
      }
    },
    {
      "cell_type": "markdown",
      "source": [
        "# 2. Graphs\n",
        "\n",
        "Representations\n",
        "\n",
        "- Matrix\n",
        "- Adjacency Matrix\n",
        "- Adjacencly List"
      ],
      "metadata": {
        "id": "ssNDP9ior4f4"
      }
    },
    {
      "cell_type": "code",
      "source": [
        "#2.1 Matrix DFS\n",
        "\n",
        "# Matrix (2D Grid)\n",
        "grid = [[0, 0, 0, 0],\n",
        "        [1, 1, 0, 0],\n",
        "        [0, 0, 0, 1],\n",
        "        [0, 1, 0, 0]]\n",
        "\n",
        "# Count paths (backtracking)\n",
        "def dfs(grid, r, c, visit):\n",
        "    ROWS, COLS = len(grid), len(grid[0])\n",
        "    if (min(r, c) < 0 or\n",
        "        r == ROWS or c == COLS or\n",
        "        (r, c) in visit or grid[r][c] == 1):\n",
        "        return 0\n",
        "    if r == ROWS - 1 and c == COLS - 1:\n",
        "        return 1\n",
        "\n",
        "    visit.add((r, c))\n",
        "\n",
        "    count = 0\n",
        "    count += dfs(grid, r + 1, c, visit)\n",
        "    count += dfs(grid, r - 1, c, visit)\n",
        "    count += dfs(grid, r, c + 1, visit)\n",
        "    count += dfs(grid, r, c - 1, visit)\n",
        "\n",
        "    visit.remove((r, c))\n",
        "    return count\n",
        "\n",
        "\n",
        "dfs(grid,0,0,set())\n",
        "\n",
        "#time => 4^(n.m),space=>n.m\n",
        "\n"
      ],
      "metadata": {
        "colab": {
          "base_uri": "https://localhost:8080/"
        },
        "id": "KOgnuc77sMH4",
        "outputId": "f942efe6-1d17-4ad8-a467-1dbdf6bfd5df"
      },
      "execution_count": null,
      "outputs": [
        {
          "output_type": "execute_result",
          "data": {
            "text/plain": [
              "2"
            ]
          },
          "metadata": {},
          "execution_count": 3
        }
      ]
    },
    {
      "cell_type": "code",
      "source": [
        "#2.2 Matrix BFS\n",
        "# Shortest path from top left to bottom right\n",
        "\n",
        "# Matrix (2D Grid)\n",
        "grid = [[0, 0, 0, 0],\n",
        "        [1, 1, 0, 0],\n",
        "        [0, 0, 0, 1],\n",
        "        [0, 1, 0, 0]]\n",
        "\n",
        "\n",
        "def bfs(grid):\n",
        "    ROWS, COLS = len(grid), len(grid[0])\n",
        "    visit = set()\n",
        "    queue = deque()\n",
        "    queue.append((0, 0))\n",
        "    visit.add((0, 0))\n",
        "\n",
        "    length = 0\n",
        "    while queue:\n",
        "        for i in range(len(queue)):\n",
        "            r, c = queue.popleft()\n",
        "            if r == ROWS - 1 and c == COLS - 1:\n",
        "                return length\n",
        "\n",
        "            neighbors = [[0, 1], [0, -1], [1, 0], [-1, 0]]\n",
        "            for dr, dc in neighbors:\n",
        "                if (min(r + dr, c + dc) < 0 or\n",
        "                    r + dr == ROWS or c + dc == COLS or\n",
        "                    (r + dr, c + dc) in visit or grid[r + dr][c + dc] == 1):\n",
        "                    continue\n",
        "                queue.append((r + dr, c + dc))\n",
        "                visit.add((r + dr, c + dc))\n",
        "        length += 1\n",
        "\n",
        "\n",
        "bfs(grid)"
      ],
      "metadata": {
        "colab": {
          "base_uri": "https://localhost:8080/"
        },
        "id": "MkILymdUvgTl",
        "outputId": "d4f775ed-ce51-4077-c28f-36f02dad5043"
      },
      "execution_count": null,
      "outputs": [
        {
          "output_type": "execute_result",
          "data": {
            "text/plain": [
              "6"
            ]
          },
          "metadata": {},
          "execution_count": 5
        }
      ]
    },
    {
      "cell_type": "code",
      "source": [
        "# 2.3 Adjacency list\n",
        "\n",
        "#store the graph from edge-list\n",
        "\n",
        "# Given directed edges, build an adjacency list\n",
        "edges = [[\"A\", \"B\"], [\"B\", \"C\"], [\"B\", \"E\"], [\"C\", \"E\"], [\"E\", \"D\"],[\"B\",\"A\"]]\n",
        "\n",
        "\n",
        "def get_adjlist(edges):\n",
        "  adjList = {}\n",
        "\n",
        "  for src, dst in edges:\n",
        "      if src not in adjList:\n",
        "          adjList[src] = []\n",
        "      if dst not in adjList:\n",
        "          adjList[dst] = []\n",
        "      adjList[src].append(dst)\n",
        "  return adjList\n",
        "get_adjlist(edges)"
      ],
      "metadata": {
        "colab": {
          "base_uri": "https://localhost:8080/"
        },
        "id": "gjmbk54_0Vb9",
        "outputId": "ed721645-9e43-4e64-f659-3efae1780bcb"
      },
      "execution_count": null,
      "outputs": [
        {
          "output_type": "execute_result",
          "data": {
            "text/plain": [
              "{'A': ['B'], 'B': ['C', 'E', 'A'], 'C': ['E'], 'E': ['D'], 'D': []}"
            ]
          },
          "metadata": {},
          "execution_count": 40
        }
      ]
    },
    {
      "cell_type": "code",
      "source": [],
      "metadata": {
        "id": "TQv8j-a0-bzT"
      },
      "execution_count": null,
      "outputs": []
    },
    {
      "cell_type": "code",
      "source": [
        "#dfs\n",
        "\n",
        "def connected_comp(adjlist):\n",
        "  visit = set()\n",
        "  connected_comp = 0\n",
        "  counter = 0\n",
        "  pre_visit = {}\n",
        "  post_visit = {}\n",
        "\n",
        "  def explore(ele):\n",
        "    #mark the entry\n",
        "    nonlocal counter\n",
        "    visit.add(ele)\n",
        "    #print(counter)\n",
        "    counter += 1\n",
        "    pre_visit[ele] = counter\n",
        "    for ngbr in sorted(adjlist[ele]):\n",
        "      if ngbr not in visit:\n",
        "        explore(ngbr)\n",
        "    counter += 1\n",
        "    post_visit[ele] = counter\n",
        "    #visit.remove(node)\n",
        "\n",
        "  for node in sorted(adjlist.keys()):\n",
        "    if node not in visit:\n",
        "      connected_comp += 1\n",
        "      explore(node)\n",
        "\n",
        "  # checking cycle\n",
        "  for node in sorted(adjlist.keys()):\n",
        "    for ngbr in adjlist[node]:\n",
        "      if not post_visit[node]>post_visit[ngbr]:\n",
        "        print(f\"i have cycle\")\n",
        "\n",
        "  return connected_comp,pre_visit,post_visit\n"
      ],
      "metadata": {
        "id": "dfNzY9Tk6y0h"
      },
      "execution_count": null,
      "outputs": []
    },
    {
      "cell_type": "code",
      "source": [],
      "metadata": {
        "id": "e-H9xlg8JyPF"
      },
      "execution_count": null,
      "outputs": []
    },
    {
      "cell_type": "code",
      "source": [
        "adjlist = get_adjlist(edges)\n",
        "adjlist\n"
      ],
      "metadata": {
        "colab": {
          "base_uri": "https://localhost:8080/"
        },
        "id": "aKhcjEeD9F_k",
        "outputId": "00e90cdb-4626-48e3-f43a-abf8053eade6"
      },
      "execution_count": null,
      "outputs": [
        {
          "output_type": "execute_result",
          "data": {
            "text/plain": [
              "{'A': ['B'], 'B': ['C', 'E', 'A'], 'C': ['E'], 'E': ['D'], 'D': []}"
            ]
          },
          "metadata": {},
          "execution_count": 53
        }
      ]
    },
    {
      "cell_type": "code",
      "source": [
        "c,p,post = connected_comp(adjlist)"
      ],
      "metadata": {
        "colab": {
          "base_uri": "https://localhost:8080/"
        },
        "id": "99a1FCODH1-3",
        "outputId": "b1d855ec-d4ef-4488-ceaf-bc340fe45493"
      },
      "execution_count": null,
      "outputs": [
        {
          "output_type": "stream",
          "name": "stdout",
          "text": [
            "i have cycle\n"
          ]
        }
      ]
    },
    {
      "cell_type": "code",
      "source": [
        "#dfs\n",
        "# Count paths (backtracking)\n",
        "def dfs(node, target, adjList, visit):\n",
        "    if node in visit:\n",
        "        return 0\n",
        "    if node == target:\n",
        "        return 1\n",
        "\n",
        "    count = 0\n",
        "    visit.add(node)\n",
        "    for neighbor in adjList[node]:\n",
        "        count += dfs(neighbor, target, adjList, visit)\n",
        "    visit.remove(node)\n",
        "\n",
        "    return count\n",
        "\n",
        "\n",
        "# Shortest path from node to target\n",
        "def bfs(node, target, adjList):\n",
        "    length = 0\n",
        "    visit = set()\n",
        "    visit.add(node)\n",
        "    queue = deque()\n",
        "    queue.append(node)\n",
        "\n",
        "    while queue:\n",
        "        for i in range(len(queue)):\n",
        "            curr = queue.popleft()\n",
        "            if curr == target:\n",
        "                return length\n",
        "\n",
        "            for neighbor in adjList[curr]:\n",
        "                if neighbor not in visit:\n",
        "                    visit.add(neighbor)\n",
        "                    queue.append(neighbor)\n",
        "        length += 1\n",
        "    return length\n"
      ],
      "metadata": {
        "id": "BZ0fOqp106hV"
      },
      "execution_count": null,
      "outputs": []
    },
    {
      "cell_type": "code",
      "source": [
        "#2.4 Dijkstra's algorithm\n",
        "# add the nodes to min heap: (node,dist_from_src).\n",
        "# pop the heap until empty and explore all the neighbors that haven't been assign min-dist.(this works since all weights are pos,no way later\n",
        "#visits gonna dec the pre-set distance.)\n",
        "\n",
        "import heapq\n",
        "\n",
        "# Given a connected graph represented by a list of edges, where\n",
        "# edge[0] = src, edge[1] = dst, and edge[2] = weight,\n",
        "# find the shortest path from src to every other node in the\n",
        "# graph. There are n nodes in the graph.\n",
        "# O(E * logV), O(E * logE) is also correct.\n",
        "def shortestPath(edges, n, src):\n",
        "    adj = {}\n",
        "    for i in range(1, n + 1):\n",
        "        adj[i] = []\n",
        "\n",
        "    # s = src, d = dst, w = weight\n",
        "    for s, d, w in edges:\n",
        "        adj[s].append([d, w])\n",
        "\n",
        "    shortest = {}\n",
        "    minHeap = [[0, src]]\n",
        "    while minHeap:\n",
        "        w1, n1 = heapq.heappop(minHeap)\n",
        "        if n1 in shortest:\n",
        "            continue\n",
        "        shortest[n1] = w1\n",
        "\n",
        "        for n2, w2 in adj[n1]:\n",
        "            if n2 not in shortest:\n",
        "                heapq.heappush(minHeap, [w1 + w2, n2])\n",
        "    return shortest\n"
      ],
      "metadata": {
        "id": "eRIr9HkjgiTJ"
      },
      "execution_count": null,
      "outputs": []
    },
    {
      "cell_type": "code",
      "source": [],
      "metadata": {
        "id": "eLvKZiHOiHNX"
      },
      "execution_count": null,
      "outputs": []
    },
    {
      "cell_type": "code",
      "source": [
        "# MST : PRIMS\n",
        "\n",
        "import heapq\n",
        "\n",
        "# Given a list of edges of a connected undirected graph,\n",
        "# with nodes numbered from 1 to n,\n",
        "# return a list edges making up the minimum spanning tree.\n",
        "def minimumSpanningTree(edges, n):\n",
        "    adj = {}\n",
        "    for i in range(1, n + 1):\n",
        "        adj[i] = []\n",
        "    for n1, n2, weight in edges:\n",
        "        adj[n1].append([n2, weight])\n",
        "        adj[n2].append([n1, weight])\n",
        "        # Initialize the heap by choosing a single node\n",
        "    # (in this case 1) and pushing all its neighbors.\n",
        "    minHeap = []\n",
        "    for neighbor, weight in adj[1]:\n",
        "        heapq.heappush(minHeap, [weight, 1, neighbor])\n",
        "\n",
        "    mst = []\n",
        "    visit = set()\n",
        "    visit.add(1)\n",
        "    while len(visit) < n:\n",
        "        weight, n1, n2 = heapq.heappop(minHeap)\n",
        "        if n2 in visit:\n",
        "            continue\n",
        "\n",
        "        mst.append([n1, n2])\n",
        "        visit.add(n2)\n",
        "        for neighbor, weight in adj[n2]:\n",
        "            if neighbor not in visit:\n",
        "                heapq.heappush(minHeap, [weight, n2, neighbor])\n",
        "    return mst\n",
        "\n"
      ],
      "metadata": {
        "id": "ogFEs-6Sj22o"
      },
      "execution_count": null,
      "outputs": []
    },
    {
      "cell_type": "markdown",
      "source": [
        "Some basic problems\n",
        "\n",
        "1.clone a graph\n",
        "\n",
        "class Solution:\n",
        "    def cloneGraph(self, node: \"Node\") -> \"Node\":\n",
        "        oldToNew = {}\n",
        "\n",
        "        def dfs(node):\n",
        "            if node in oldToNew:\n",
        "                return oldToNew[node]\n",
        "\n",
        "            copy = Node(node.val)\n",
        "            oldToNew[node] = copy\n",
        "            for nei in node.neighbors:\n",
        "                copy.neighbors.append(dfs(nei))\n",
        "            return copy\n",
        "\n",
        "        return dfs(node) if node else None\n"
      ],
      "metadata": {
        "id": "HWeDKBOOEeMS"
      }
    },
    {
      "cell_type": "markdown",
      "source": [
        "# 3. Heaps\n",
        "\n",
        "Here recognizing that a heap is the right ds and using it correctly is crucial.\n",
        "\n"
      ],
      "metadata": {
        "id": "jmXBD8tB3zz6"
      }
    },
    {
      "cell_type": "code",
      "source": [
        "#3.1 Kth largest element in a stream => with every add,return the kth largest element\n",
        "\n",
        "\n",
        "#sol:  Min-heap of size k => ensure atleast k elements smaller than it=> definition of kth largest.\n",
        "import heapq\n",
        "from typing import List\n",
        "class KthLargest:\n",
        "    def __init__(self, k: int, nums: List[int]):\n",
        "        # minHeap w/ K largest integers\n",
        "        self.minHeap, self.k = nums, k\n",
        "        heapq.heapify(self.minHeap)\n",
        "        while len(self.minHeap) > k:\n",
        "            heapq.heappop(self.minHeap)\n",
        "\n",
        "    def add(self, val: int) -> int:\n",
        "        heapq.heappush(self.minHeap, val)\n",
        "        if len(self.minHeap) > self.k:\n",
        "            heapq.heappop(self.minHeap)\n",
        "        return self.minHeap[0]\n",
        "\n",
        "\n",
        "# 3.2 Kth largest element in an array => can use heaps (min or max). But also use quick-select.\n",
        "\n",
        "\n",
        "# Solution: QuickSelect\n",
        "# Time Complexity:\n",
        "#   - Best Case: O(n)\n",
        "#   - Average Case: O(n)\n",
        "#   - Worst Case: O(n^2)\n",
        "# Extra Space Complexity: O(1)\n",
        "class Solution2:\n",
        "    def partition(self, nums: List[int], left: int, right: int) -> int:\n",
        "        pivot, fill = nums[right], left\n",
        "\n",
        "        for i in range(left, right):\n",
        "            if nums[i] <= pivot:\n",
        "                nums[fill], nums[i] = nums[i], nums[fill]\n",
        "                fill += 1\n",
        "\n",
        "        nums[fill], nums[right] = nums[right], nums[fill]\n",
        "\n",
        "        return fill\n",
        "\n",
        "    def findKthLargest(self, nums: List[int], k: int) -> int:\n",
        "        k = len(nums) - k\n",
        "        left, right = 0, len(nums) - 1\n",
        "\n",
        "        while left < right:\n",
        "            pivot = self.partition(nums, left, right)\n",
        "\n",
        "            if pivot < k:\n",
        "                left = pivot + 1\n",
        "            elif pivot > k:\n",
        "                right = pivot - 1\n",
        "            else:\n",
        "                break\n",
        "\n",
        "\n",
        "\n"
      ],
      "metadata": {
        "id": "9BOl38xp3_M4"
      },
      "execution_count": null,
      "outputs": []
    },
    {
      "cell_type": "markdown",
      "source": [
        "3.3 merge k-sorted arrays or return top-n elements from k-sorted arrays\n",
        "\n",
        "`sol`:\n",
        "1. push the last (ele,index) from each array to the heap(max),\n",
        "2.while `<n or heap not empty` pop the element and push the next-ele in that list eg: (next ele,index-1)\n"
      ],
      "metadata": {
        "id": "gCQIqM-9rwDK"
      }
    },
    {
      "cell_type": "code",
      "source": [
        "# 3.4 Find median from data-stream."
      ],
      "metadata": {
        "id": "-DPE52hjn6bw"
      },
      "execution_count": null,
      "outputs": []
    },
    {
      "cell_type": "markdown",
      "source": [
        "# 4. Union Find\n",
        "(disconnected comp, #detect cycle)"
      ],
      "metadata": {
        "id": "mwAESJbPoXeS"
      }
    },
    {
      "cell_type": "code",
      "source": [
        "class UnionFind:\n",
        "    def __init__(self, n):\n",
        "        self.par = {}\n",
        "        self.rank = {}\n",
        "\n",
        "        for i in range(1, n + 1):\n",
        "            self.par[i] = i\n",
        "            self.rank[i] = 0\n",
        "\n",
        "    def find(self, n):\n",
        "      p = self.par[n]\n",
        "      while p != self.par[p]:\n",
        "        self.par[p] = self.par[self.par[p]]\n",
        "        p = self.par[p]\n",
        "      return p\n",
        "\n",
        "    def union(self, n1, n2):\n",
        "      p1, p2 = self.find(n1), self.find(n2)\n",
        "      if p1 == p2:\n",
        "          return False\n",
        "\n",
        "      if self.rank[p1] > self.rank[p2]:\n",
        "          self.par[p2] = p1\n",
        "      elif self.rank[p1] < self.rank[p2]:\n",
        "          self.par[p1] = p2\n",
        "      else:\n",
        "          self.par[p1] = p2\n",
        "          self.rank[p2] += 1\n",
        "      return True\n",
        "\n",
        "\n"
      ],
      "metadata": {
        "id": "8Yr-D9zsohbm"
      },
      "execution_count": null,
      "outputs": []
    },
    {
      "cell_type": "markdown",
      "source": [
        "Eg application of union find:\n",
        "\n",
        "\n",
        "\n",
        "```\n",
        "# #connected comp in undirected graph\n",
        "    def countComponents(self, n: int, edges: List[List[int]]) -> int:\n",
        "        dsu = UnionFind()\n",
        "        for a, b in edges:\n",
        "            dsu.union(a, b)\n",
        "        return len(set(dsu.find(x) for x in range(n)))\n",
        "```\n",
        "\n"
      ],
      "metadata": {
        "id": "G9SN3BmzMocp"
      }
    },
    {
      "cell_type": "markdown",
      "source": [
        "# Back-tracking"
      ],
      "metadata": {
        "id": "NvwGmT-XNn0S"
      }
    },
    {
      "cell_type": "markdown",
      "source": [
        "**Subsets**"
      ],
      "metadata": {
        "id": "Jh14Iu55fYXM"
      }
    },
    {
      "cell_type": "code",
      "source": [
        "#1.1 Subsets without duplicates\n",
        "\n",
        "#ans: inclued or not include at every index\n",
        "def subsetsWithoutDuplicates(nums):\n",
        "    def helper(i, nums, curSet, subsets):\n",
        "      if i >= len(nums):\n",
        "          subsets.append(curSet.copy())\n",
        "          return\n",
        "\n",
        "      # decision to include nums[i]\n",
        "      curSet.append(nums[i])\n",
        "      helper(i + 1, nums, curSet, subsets)\n",
        "      curSet.pop()\n",
        "\n",
        "      # decision NOT to include nums[i]\n",
        "      helper(i + 1, nums, curSet, subsets)\n",
        "\n",
        "    subsets, curSet = [], []\n",
        "    helper(0, nums, curSet, subsets)\n",
        "    return subsets\n"
      ],
      "metadata": {
        "id": "XX573UBrb_tz"
      },
      "execution_count": null,
      "outputs": []
    },
    {
      "cell_type": "code",
      "source": [
        "subsetsWithoutDuplicates([1,2,3])"
      ],
      "metadata": {
        "colab": {
          "base_uri": "https://localhost:8080/"
        },
        "id": "7PSN_idGeUo7",
        "outputId": "1f745350-ae6e-4ec2-926d-a66d9fc98b66"
      },
      "execution_count": null,
      "outputs": [
        {
          "output_type": "execute_result",
          "data": {
            "text/plain": [
              "[[1, 2, 3], [1, 2], [1, 3], [1], [2, 3], [2], [3], []]"
            ]
          },
          "metadata": {},
          "execution_count": 56
        }
      ]
    },
    {
      "cell_type": "code",
      "source": [
        "#1.2 Subsets without duplicates\n",
        "# ans: sort the elements, now each decision => inclued ele (k or more times) or (exactly k-1 times)\n",
        "\n",
        "def subsetsWithDuplicates(nums):\n",
        "    def helper2(i, nums, curSet, subsets):\n",
        "      if i >= len(nums):\n",
        "          subsets.append(curSet.copy())\n",
        "          return\n",
        "\n",
        "      # decision to include nums[i]\n",
        "      curSet.append(nums[i])\n",
        "      helper2(i + 1, nums, curSet, subsets)\n",
        "      curSet.pop()\n",
        "\n",
        "      # decision NOT to include nums[i]\n",
        "      while i + 1 < len(nums) and nums[i] == nums[i + 1]:\n",
        "          i += 1\n",
        "      helper2(i + 1, nums, curSet, subsets)\n",
        "\n",
        "    nums.sort()\n",
        "    subsets, curSet = [], []\n",
        "    helper2(0, nums, curSet, subsets)\n",
        "    return subsets\n",
        "\n",
        "#subsetsWithDuplicates([1,2,2,2,3])\n"
      ],
      "metadata": {
        "id": "PbUAIT6kecF9"
      },
      "execution_count": null,
      "outputs": []
    },
    {
      "cell_type": "markdown",
      "source": [
        "**Combinations**\n",
        "\n",
        "`Q`: Given two nums\n",
        "n and\n",
        "k, return all possible combinations of size = k, choosing from values between 1 and n.\n",
        "\n",
        "`ans`: We have k slots to fill,each slot we have `n` choices,to avoid duplicates, we only include the possibilities after that index."
      ],
      "metadata": {
        "id": "9Bp8uuLYfcAw"
      }
    },
    {
      "cell_type": "code",
      "source": [
        "# Time: O(k * C(n, k))\n",
        "def combinations2(n, k):\n",
        "    def helper2(i, curComb, combs, n, k):\n",
        "        if len(curComb) == k:\n",
        "            combs.append(curComb.copy())\n",
        "            return\n",
        "        if i > n:\n",
        "            return\n",
        "\n",
        "        for j in range(i, n + 1):\n",
        "            curComb.append(j)\n",
        "            helper2(j + 1, curComb, combs, n, k)\n",
        "            curComb.pop()\n",
        "    combs = []\n",
        "    helper2(1, [], combs, n, k)\n",
        "    return combs\n",
        "\n",
        "#combinations2(5,2)"
      ],
      "metadata": {
        "id": "kUddSV1Ifelw"
      },
      "execution_count": null,
      "outputs": []
    },
    {
      "cell_type": "markdown",
      "source": [
        "**Permutations**\n",
        "\n",
        "`Q`: Given a list of nums(unique), return all possible distinct permutations of nums.\n",
        "\n",
        "approach1 : If we have permutations of n-1 nums,we can get for n by including the nthe number in all the n+1 slots.\n",
        "\n",
        "approach2:In each slot we have options,and keep on filling until all done."
      ],
      "metadata": {
        "id": "F4kcFzj7iawG"
      }
    },
    {
      "cell_type": "code",
      "source": [
        "#1. Elements are unique (approach 1,via insertion)\n",
        "\n",
        "# Time: O(n^2 * n!)\n",
        "def permutationsRecursive(nums):\n",
        "    return helper(0, nums)\n",
        "\n",
        "def helper(i, nums):\n",
        "    if i == len(nums):\n",
        "        return [[]]\n",
        "\n",
        "    resPerms = []\n",
        "    perms = helper(i + 1, nums)\n",
        "    for p in perms:\n",
        "        for j in range(len(p) + 1):\n",
        "            pCopy = p.copy()\n",
        "            pCopy.insert(j, nums[i])\n",
        "            resPerms.append(pCopy)\n",
        "    return resPerms\n",
        "\n",
        "\n",
        "# Time: O(n^2 * n!)\n",
        "def permutationsIterative(nums):\n",
        "    perms = [[]]\n",
        "\n",
        "    for n in nums:\n",
        "        nextPerms = []\n",
        "        for p in perms:\n",
        "            for i in range(len(p) + 1):\n",
        "                pCopy = p.copy()\n",
        "                pCopy.insert(i, n)\n",
        "                nextPerms.append(pCopy)\n",
        "        perms = nextPerms\n",
        "    return perms\n"
      ],
      "metadata": {
        "id": "f4NZk3Ujm79I"
      },
      "execution_count": null,
      "outputs": []
    },
    {
      "cell_type": "markdown",
      "source": [
        "Q: If nums are not unique\n",
        "\n",
        "ans: avoid choosing same number at a level."
      ],
      "metadata": {
        "id": "drZzA0vInYuv"
      }
    },
    {
      "cell_type": "code",
      "source": [
        "\n",
        "import collections\n",
        "def permuteUnique(nums: List[int]) -> List[List[int]]:\n",
        "    result = []\n",
        "    counter = collections.Counter(nums)\n",
        "\n",
        "    def backtrack(perm, counter):\n",
        "        if len(perm) == len(nums):\n",
        "            result.append(perm.copy())\n",
        "\n",
        "        for n in counter:\n",
        "            if counter[n] == 0:\n",
        "                continue\n",
        "            perm.append(n)\n",
        "            counter[n] -= 1\n",
        "            backtrack(perm, counter)\n",
        "            perm.pop()\n",
        "            counter[n] += 1\n",
        "\n",
        "    backtrack([], counter)\n"
      ],
      "metadata": {
        "id": "FKj81ep6idg0"
      },
      "execution_count": null,
      "outputs": []
    },
    {
      "cell_type": "markdown",
      "source": [
        "# DP\n",
        "\n",
        "1. Write the recurrence exactly\n",
        "2. Find the ordering\n",
        "\n",
        "For breaking the problem => a. including the ith value b. imagine you have solution for smaller case.\n",
        "\n",
        "1. max-product subarray => keep track of max and min."
      ],
      "metadata": {
        "id": "qGbkzg8mNq8Y"
      }
    },
    {
      "cell_type": "code",
      "source": [
        "# 2.Longest palindromic substring => start from middle,handle even length too\n",
        "\n",
        "\n",
        "class Solution:\n",
        "    def longestPalindrome(self, s: str) -> str:\n",
        "        res = \"\"\n",
        "        resLen = 0\n",
        "\n",
        "        for i in range(len(s)):\n",
        "            # odd length\n",
        "            l, r = i, i\n",
        "            while l >= 0 and r < len(s) and s[l] == s[r]:\n",
        "                if (r - l + 1) > resLen:\n",
        "                    res = s[l : r + 1]\n",
        "                    resLen = r - l + 1\n",
        "                l -= 1\n",
        "                r += 1\n",
        "\n",
        "            # even length\n",
        "            l, r = i, i + 1\n",
        "            while l >= 0 and r < len(s) and s[l] == s[r]:\n",
        "                if (r - l + 1) > resLen:\n",
        "                    res = s[l : r + 1]\n",
        "                    resLen = r - l + 1\n",
        "                l -= 1\n",
        "                r += 1\n",
        "\n",
        "        return res\n",
        "\n",
        "\n",
        "#3. LCS\n",
        "\n",
        "class Solution:\n",
        "    def longestCommonSubsequence(self, text1: str, text2: str) -> int:\n",
        "        dp = [[0 for j in range(len(text2) + 1)] for i in range(len(text1) + 1)]\n",
        "\n",
        "        for i in range(len(text1) - 1, -1, -1):\n",
        "            for j in range(len(text2) - 1, -1, -1):\n",
        "                if text1[i] == text2[j]:\n",
        "                    dp[i][j] = 1 + dp[i + 1][j + 1]\n",
        "                else:\n",
        "                    dp[i][j] = max(dp[i][j + 1], dp[i + 1][j])\n",
        "\n",
        "        return dp[0][0]\n",
        "\n",
        "\n",
        "#4.coin-change: Return the #combinations that make up the sum\n",
        "#sol: To avoid duplicates consider only further coins.\n",
        "\n",
        "class Solution:\n",
        "    def change(self, amount: int, coins: List[int]) -> int:\n",
        "        # MEMOIZATION\n",
        "        # Time: O(n*m)\n",
        "        # Memory: O(n*m)\n",
        "        cache = {}\n",
        "\n",
        "        def dfs(i, a):\n",
        "            if a == amount:\n",
        "                return 1\n",
        "            if a > amount:\n",
        "                return 0\n",
        "            if i == len(coins):\n",
        "                return 0\n",
        "            if (i, a) in cache:\n",
        "                return cache[(i, a)]\n",
        "\n",
        "            cache[(i, a)] = dfs(i, a + coins[i]) + dfs(i + 1, a)\n",
        "            return cache[(i, a)]\n",
        "\n",
        "        return dfs(0, 0)\n"
      ],
      "metadata": {
        "id": "BarNYtz-wuBh"
      },
      "execution_count": null,
      "outputs": []
    },
    {
      "cell_type": "code",
      "source": [],
      "metadata": {
        "id": "fIpI5dvbuwX8"
      },
      "execution_count": null,
      "outputs": []
    },
    {
      "cell_type": "markdown",
      "source": [
        "# Linkedlists"
      ],
      "metadata": {
        "id": "Uqt8aQ9InJGk"
      }
    },
    {
      "cell_type": "code",
      "source": [
        "#1. LRU CACHE\n",
        "\n",
        "class Node:\n",
        "    def __init__(self, key, val):\n",
        "        self.key, self.val = key, val\n",
        "        self.prev = self.next = None\n",
        "\n",
        "\n",
        "class LRUCache:\n",
        "    def __init__(self, capacity: int):\n",
        "        self.cap = capacity\n",
        "        self.cache = {}  # map key to node\n",
        "\n",
        "        self.left, self.right = Node(0, 0), Node(0, 0)\n",
        "        self.left.next, self.right.prev = self.right, self.left\n",
        "\n",
        "    # remove node from list\n",
        "    def remove(self, node):\n",
        "        prev, nxt = node.prev, node.next\n",
        "        prev.next, nxt.prev = nxt, prev\n",
        "\n",
        "    # insert node at right\n",
        "    def insert(self, node):\n",
        "        prev, nxt = self.right.prev, self.right\n",
        "        prev.next = nxt.prev = node\n",
        "        node.next, node.prev = nxt, prev\n",
        "\n",
        "    def get(self, key: int) -> int:\n",
        "        if key in self.cache:\n",
        "            self.remove(self.cache[key])\n",
        "            self.insert(self.cache[key])\n",
        "            return self.cache[key].val\n",
        "        return -1\n",
        "\n",
        "    def put(self, key: int, value: int) -> None:\n",
        "        if key in self.cache:\n",
        "            self.remove(self.cache[key])\n",
        "        self.cache[key] = Node(key, value)\n",
        "        self.insert(self.cache[key])\n",
        "\n",
        "        if len(self.cache) > self.cap:\n",
        "            # remove from the list and delete the LRU from hashmap\n",
        "            lru = self.left.next\n",
        "            self.remove(lru)\n",
        "            del self.cache[lru.key]\n"
      ],
      "metadata": {
        "id": "ru092EI7nLTr"
      },
      "execution_count": null,
      "outputs": []
    },
    {
      "cell_type": "code",
      "source": [
        "#2.reverse link-list\n",
        "\n",
        "# Definition for singly-linked list.\n",
        "# class ListNode:\n",
        "#     def __init__(self, x):\n",
        "#         self.val = x\n",
        "#         self.next = None\n",
        "\n",
        "\n",
        "class Solution:\n",
        "    def reverseList(self, head: ListNode) -> ListNode:\n",
        "        prev, curr = None, head\n",
        "\n",
        "        while curr:\n",
        "            temp = curr.next\n",
        "            curr.next = prev\n",
        "            prev = curr\n",
        "            curr = temp\n",
        "        return prev\n",
        "\n",
        "#3.Merge two sorted lists\n",
        "\n",
        "# Definition for singly-linked list.\n",
        "# class ListNode:\n",
        "#     def __init__(self, val=0, next=None):\n",
        "#         self.val = val\n",
        "#         self.next = next\n",
        "class Solution:\n",
        "    def mergeTwoLists(self, list1: ListNode, list2: ListNode) -> ListNode:\n",
        "        dummy = ListNode()\n",
        "        tail = dummy\n",
        "\n",
        "        while list1 and list2:\n",
        "            if list1.val < list2.val:\n",
        "                tail.next = list1\n",
        "                list1 = list1.next\n",
        "            else:\n",
        "                tail.next = list2\n",
        "                list2 = list2.next\n",
        "            tail = tail.next\n",
        "\n",
        "        if list1:\n",
        "            tail.next = list1\n",
        "        elif list2:\n",
        "            tail.next = list2\n",
        "\n",
        "        return dummy.next\n",
        "\n",
        "#4.Reorder lists(alternate first-last-second-last_t_sec....)\n",
        "# `sol:` find middle,reverse second half, merge\n",
        "\n",
        "class Solution:\n",
        "    def reorderList(self, head: ListNode) -> None:\n",
        "        # find middle\n",
        "        slow, fast = head, head.next\n",
        "        while fast and fast.next:\n",
        "            slow = slow.next\n",
        "            fast = fast.next.next\n",
        "\n",
        "        # reverse second half\n",
        "        second = slow.next\n",
        "        prev = slow.next = None\n",
        "        while second:\n",
        "            tmp = second.next\n",
        "            second.next = prev\n",
        "            prev = second\n",
        "            second = tmp\n",
        "\n",
        "        # merge two halfs\n",
        "        first, second = head, prev\n",
        "        while second:\n",
        "            tmp1, tmp2 = first.next, second.next\n",
        "            first.next = second\n",
        "            second.next = tmp1\n",
        "            first, second = tmp1, tmp2\n",
        "\n",
        "\n",
        "#5 Remove nth node from end.\n",
        "#use slow-fast pointers, to get the previous(node) for deletion use a dummy node\n",
        "\n",
        "class Solution:\n",
        "    def removeNthFromEnd(self, head: ListNode, n: int) -> ListNode:\n",
        "        dummy = ListNode(0, head)\n",
        "        left = dummy\n",
        "        right = head\n",
        "\n",
        "        while n > 0:\n",
        "            right = right.next\n",
        "            n -= 1\n",
        "\n",
        "        while right:\n",
        "            left = left.next\n",
        "            right = right.next\n",
        "\n",
        "        # delete\n",
        "        left.next = left.next.next\n",
        "        return dummy.next\n",
        "#6.copy\n",
        "\n",
        "\"\"\"\n",
        "# Definition for a Node.\n",
        "class Node:\n",
        "    def __init__(self, x: int, next: 'Node' = None, random: 'Node' = None):\n",
        "        self.val = int(x)\n",
        "        self.next = next\n",
        "        self.random = random\n",
        "\"\"\"\n",
        "\n",
        "\n",
        "class Solution:\n",
        "    def copyRandomList(self, head: \"Node\") -> \"Node\":\n",
        "        oldToCopy = {None: None}\n",
        "\n",
        "        cur = head\n",
        "        while cur:\n",
        "            copy = Node(cur.val)\n",
        "            oldToCopy[cur] = copy\n",
        "            cur = cur.next\n",
        "        cur = head\n",
        "        while cur:\n",
        "            copy = oldToCopy[cur]\n",
        "            copy.next = oldToCopy[cur.next]\n",
        "            copy.random = oldToCopy[cur.random]\n",
        "            cur = cur.next\n",
        "        return oldToCopy[head]\n",
        "\n",
        "# merge nodes in k groups\n",
        "class Solution:\n",
        "    def reverseKGroup(self, head: ListNode, k: int) -> ListNode:\n",
        "        dummy = ListNode(0, head)\n",
        "        groupPrev = dummy\n",
        "\n",
        "        while True:\n",
        "            kth = self.getKth(groupPrev, k)\n",
        "            if not kth:\n",
        "                break\n",
        "            groupNext = kth.next\n",
        "\n",
        "            # reverse group\n",
        "            prev, curr = kth.next, groupPrev.next\n",
        "            while curr != groupNext:\n",
        "                tmp = curr.next\n",
        "                curr.next = prev\n",
        "                prev = curr\n",
        "                curr = tmp\n",
        "\n",
        "            tmp = groupPrev.next\n",
        "            groupPrev.next = kth\n",
        "            groupPrev = tmp\n",
        "        return dummy.next\n",
        "\n",
        "    def getKth(self, curr, k):\n",
        "        while curr and k > 0:\n",
        "            curr = curr.next\n",
        "            k -= 1\n",
        "        return curr\n",
        "\n"
      ],
      "metadata": {
        "id": "K6zLHQY9pkmt"
      },
      "execution_count": null,
      "outputs": []
    },
    {
      "cell_type": "markdown",
      "source": [
        "# Intervals and Greedy"
      ],
      "metadata": {
        "id": "iCnudT0m53xr"
      }
    },
    {
      "cell_type": "code",
      "source": [],
      "metadata": {
        "id": "PFS___IR56ou"
      },
      "execution_count": null,
      "outputs": []
    },
    {
      "cell_type": "code",
      "source": [
        "#1.Insert  interval\n",
        "\n",
        "class Solution:\n",
        "    def insert(\n",
        "        self, intervals: List[List[int]], newInterval: List[int]\n",
        "    ) -> List[List[int]]:\n",
        "        res = []\n",
        "\n",
        "        for i in range(len(intervals)):\n",
        "            if newInterval[1] < intervals[i][0]:\n",
        "                res.append(newInterval)\n",
        "                return res + intervals[i:]\n",
        "            elif newInterval[0] > intervals[i][1]:\n",
        "                res.append(intervals[i])\n",
        "            else:\n",
        "                newInterval = [\n",
        "                    min(newInterval[0], intervals[i][0]),\n",
        "                    max(newInterval[1], intervals[i][1]),\n",
        "                ]\n",
        "        res.append(newInterval)\n",
        "        return res\n",
        "\n",
        "#2. merge intervals\n",
        "class Solution:\n",
        "    def insert(\n",
        "        self, intervals: List[List[int]], newInterval: List[int]\n",
        "    ) -> List[List[int]]:\n",
        "        res = []\n",
        "\n",
        "        for i in range(len(intervals)):\n",
        "            if newInterval[1] < intervals[i][0]:\n",
        "                res.append(newInterval)\n",
        "                return res + intervals[i:]\n",
        "            elif newInterval[0] > intervals[i][1]:\n",
        "                res.append(intervals[i])\n",
        "            else:\n",
        "                newInterval = [\n",
        "                    min(newInterval[0], intervals[i][0]),\n",
        "                    max(newInterval[1], intervals[i][1]),\n",
        "                ]\n",
        "        res.append(newInterval)\n",
        "        return res\n",
        "#3.Min intervals to remove so no overlapping => greedy:sort by st,remove the one that ends first\n",
        "class Solution:\n",
        "    def eraseOverlapIntervals(self, intervals: List[List[int]]) -> int:\n",
        "        intervals.sort()\n",
        "        res = 0\n",
        "        prevEnd = intervals[0][1]\n",
        "        for start, end in intervals[1:]:\n",
        "            if start >= prevEnd:\n",
        "                prevEnd = end\n",
        "            else:\n",
        "                res += 1\n",
        "                prevEnd = min(end, prevEnd)\n",
        "        return res\n",
        "\n",
        "#4.meeting rooms => find max-meetings going on at any moment,have two sorted arrays of st and end times.\n",
        "\n",
        "\n",
        "# check valid string with a wild-card\n",
        "# Dynamic Programming: O(n^2)\n",
        "class Solution:\n",
        "    def checkValidString(self, s: str) -> bool:\n",
        "        dp = {(len(s), 0): True}  # key=(i, leftCount) -> isValid\n",
        "\n",
        "        def dfs(i, left):\n",
        "            if i == len(s) or left < 0:\n",
        "                return left == 0\n",
        "            if (i, left) in dp:\n",
        "                return dp[(i, left)]\n",
        "\n",
        "            if s[i] == \"(\":\n",
        "                dp[(i, left)] = dfs(i + 1, left + 1)\n",
        "            elif s[i] == \")\":\n",
        "                dp[(i, left)] = dfs(i + 1, left - 1)\n",
        "            else:\n",
        "                dp[(i, left)] = (\n",
        "                    dfs(i + 1, left + 1) or dfs(i + 1, left - 1) or dfs(i + 1, left)\n",
        "                )\n",
        "            return dp[(i, left)]\n",
        "\n",
        "        return dfs(0, 0)\n",
        "\n",
        "\n",
        "# Greedy: O(n)\n",
        "class Solution:\n",
        "    def checkValidString(self, s: str) -> bool:\n",
        "        leftMin, leftMax = 0, 0\n",
        "\n",
        "        for c in s:\n",
        "            if c == \"(\":\n",
        "                leftMin, leftMax = leftMin + 1, leftMax + 1\n",
        "            elif c == \")\":\n",
        "                leftMin, leftMax = leftMin - 1, leftMax - 1\n",
        "            else:\n",
        "                leftMin, leftMax = leftMin - 1, leftMax + 1\n",
        "            if leftMax < 0:\n",
        "                return False\n",
        "            if leftMin < 0:  # required because -> s = ( * ) (\n",
        "                leftMin = 0\n",
        "        return leftMin == 0\n"
      ],
      "metadata": {
        "id": "c-DbvDx09VR-"
      },
      "execution_count": null,
      "outputs": []
    },
    {
      "cell_type": "markdown",
      "source": [
        "# Arrays"
      ],
      "metadata": {
        "id": "49dll5g2oiMA"
      }
    },
    {
      "cell_type": "code",
      "source": [],
      "metadata": {
        "id": "XDm0v-xzpkD0"
      },
      "execution_count": null,
      "outputs": []
    },
    {
      "cell_type": "code",
      "source": [
        "#1.1 Q: Find a non-empty subarray with the largest sum.\n",
        "\n",
        "def kadanes(nums):\n",
        "    maxSum = nums[0]\n",
        "    curSum = 0\n",
        "\n",
        "    for n in nums:\n",
        "        curSum = max(curSum, 0)\n",
        "        curSum += n\n",
        "        maxSum = max(maxSum, curSum)\n",
        "    return maxSum\n",
        "\n",
        "#1.2 Return the boundaries\n",
        "\n",
        "def slidingWindow(nums):\n",
        "    maxSum = nums[0]\n",
        "    curSum = 0\n",
        "    maxL, maxR = 0, 0\n",
        "    L = 0\n",
        "\n",
        "    for R in range(len(nums)):\n",
        "        if curSum < 0:\n",
        "            curSum = 0\n",
        "            L = R\n",
        "\n",
        "        curSum += nums[R]\n",
        "        if curSum > maxSum:\n",
        "            maxSum = curSum\n",
        "            maxL, maxR = L, R\n",
        "\n",
        "    return [maxL, maxR]\n"
      ],
      "metadata": {
        "id": "WppwaDkoojhq"
      },
      "execution_count": null,
      "outputs": []
    },
    {
      "cell_type": "markdown",
      "source": [
        "Sliding window Fixed\n",
        "\n",
        "**Q: Given an array, return true if there are two elements within a window of size k that are equal.**"
      ],
      "metadata": {
        "id": "_g9gduO6KYJ8"
      }
    },
    {
      "cell_type": "code",
      "source": [
        "#\n",
        "\n",
        "def closeDuplicates(nums, k):\n",
        "    window = set() # Cur window of size <= k\n",
        "    L = 0\n",
        "\n",
        "    for R in range(len(nums)):\n",
        "        if R - L + 1 > k:\n",
        "            window.remove(nums[L])\n",
        "            L += 1\n",
        "        if nums[R] in window:\n",
        "            return True\n",
        "        window.add(nums[R])\n",
        "\n",
        "    return False\n"
      ],
      "metadata": {
        "id": "oBNm5lKGKaP0"
      },
      "execution_count": null,
      "outputs": []
    },
    {
      "cell_type": "markdown",
      "source": [
        "Sliding Window variable size\n",
        "\n",
        "**Q: Find the length of the longest subarray, with the same value in each position.**"
      ],
      "metadata": {
        "id": "9v5xa43lLY02"
      }
    },
    {
      "cell_type": "code",
      "source": [
        "def longestSubarray(nums):\n",
        "    length = 0\n",
        "    L = 0\n",
        "\n",
        "    for R in range(len(nums)):\n",
        "        if nums[L] != nums[R]:\n",
        "            L = R\n",
        "        length = max(length, R - L + 1)\n",
        "    return length\n"
      ],
      "metadata": {
        "id": "VJyFqCJ1NsZz"
      },
      "execution_count": null,
      "outputs": []
    },
    {
      "cell_type": "markdown",
      "source": [
        "**Q: Find the minimum length subarray, where the sum is greater than or equal to the target. Assume all values are positive.**"
      ],
      "metadata": {
        "id": "Y3c7641mL07J"
      }
    },
    {
      "cell_type": "code",
      "source": [
        "def shortestSubarray(nums, target):\n",
        "    L, total = 0, 0\n",
        "    length = float(\"inf\")\n",
        "\n",
        "    for R in range(len(nums)):\n",
        "        total += nums[R]\n",
        "        while total >= target:\n",
        "            length = min(R - L + 1, length)\n",
        "            total -= nums[L]\n",
        "            L += 1\n",
        "    return 0 if length == float(\"inf\") else length\n"
      ],
      "metadata": {
        "id": "y2tFcy4zL7BZ"
      },
      "execution_count": null,
      "outputs": []
    },
    {
      "cell_type": "markdown",
      "source": [
        "# Binary Search"
      ],
      "metadata": {
        "id": "2nI8fkxKQ4Vj"
      }
    },
    {
      "cell_type": "code",
      "source": [
        "# Binary search 1d\n",
        "class Solution:\n",
        "    def search(self, nums: List[int], target: int) -> int:\n",
        "        l, r = 0, len(nums) - 1\n",
        "\n",
        "        while l <= r:\n",
        "            m = l + ((r - l) // 2)  # (l + r) // 2 can lead to overflow\n",
        "            if nums[m] > target:\n",
        "                r = m - 1\n",
        "            elif nums[m] < target:\n",
        "                l = m + 1\n",
        "            else:\n",
        "                return m\n",
        "        return -1\n",
        "\n",
        "#Binary search 2D,each row is sorted and The first integer of each row is greater than the last integer of the previous row.\n",
        "class Solution:\n",
        "    def searchMatrix(self, matrix: List[List[int]], target: int) -> bool:\n",
        "        ROWS, COLS = len(matrix), len(matrix[0])\n",
        "\n",
        "        top, bot = 0, ROWS - 1\n",
        "        # find the row to look for\n",
        "        while top <= bot:\n",
        "            row = (top + bot) // 2\n",
        "            if target > matrix[row][-1]:\n",
        "                top = row + 1\n",
        "            elif target < matrix[row][0]:\n",
        "                bot = row - 1\n",
        "            else:\n",
        "                break\n",
        "\n",
        "        if not (top <= bot):\n",
        "            return False\n",
        "\n",
        "        row = (top + bot) // 2\n",
        "        l, r = 0, COLS - 1\n",
        "        while l <= r:\n",
        "            m = (l + r) // 2\n",
        "            if target > matrix[row][m]:\n",
        "                l = m + 1\n",
        "            elif target < matrix[row][m]:\n",
        "                r = m - 1\n",
        "            else:\n",
        "                return True\n",
        "        return False\n",
        "\n",
        "#find min in rotated sorted array\n",
        "class Solution:\n",
        "    def findMin(self, nums: List[int]) -> int:\n",
        "        start , end = 0 ,len(nums) - 1\n",
        "        curr_min = float(\"inf\")\n",
        "\n",
        "        while start  <  end :\n",
        "            mid = (start + end ) // 2\n",
        "            curr_min = min(curr_min,nums[mid])\n",
        "\n",
        "            # right has the min\n",
        "            if nums[mid] > nums[end]:\n",
        "                start = mid + 1\n",
        "\n",
        "            # left has the  min\n",
        "            else:\n",
        "                end = mid - 1\n",
        "\n",
        "        return min(curr_min,nums[start])\n",
        "\n",
        "\n",
        "#search in rotated sorted array\n",
        "class Solution:\n",
        "    def search(self, nums: List[int], target: int) -> int:\n",
        "        l, r = 0, len(nums) - 1\n",
        "\n",
        "        while l <= r:\n",
        "            mid = (l + r) // 2\n",
        "            if target == nums[mid]:\n",
        "                return mid\n",
        "\n",
        "            # left sorted portion\n",
        "            if nums[l] <= nums[mid]:\n",
        "                if target > nums[mid] or target < nums[l]:\n",
        "                    l = mid + 1\n",
        "                else:\n",
        "                    r = mid - 1\n",
        "            # right sorted portion\n",
        "            else:\n",
        "                if target < nums[mid] or target > nums[r]:\n",
        "                    r = mid - 1\n",
        "                else:\n",
        "                    l = mid + 1\n",
        "        return -1\n",
        "\n"
      ],
      "metadata": {
        "id": "YIlwGfjJQ6Ts"
      },
      "execution_count": null,
      "outputs": []
    },
    {
      "cell_type": "code",
      "source": [],
      "metadata": {
        "id": "Qle4N7vMNqCV"
      },
      "execution_count": null,
      "outputs": []
    },
    {
      "cell_type": "code",
      "source": [],
      "metadata": {
        "id": "ppbO0_jksM0M"
      },
      "execution_count": null,
      "outputs": []
    },
    {
      "cell_type": "code",
      "source": [],
      "metadata": {
        "id": "0lZVrPrvsGu8"
      },
      "execution_count": null,
      "outputs": []
    }
  ]
}