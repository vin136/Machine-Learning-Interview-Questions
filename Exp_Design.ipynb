{
  "cells": [
    {
      "cell_type": "markdown",
      "metadata": {
        "id": "view-in-github",
        "colab_type": "text"
      },
      "source": [
        "<a href=\"https://colab.research.google.com/github/vin136/Machine-Learning-Interview-Questions/blob/main/Exp_Design.ipynb\" target=\"_parent\"><img src=\"https://colab.research.google.com/assets/colab-badge.svg\" alt=\"Open In Colab\"/></a>"
      ]
    },
    {
      "cell_type": "markdown",
      "id": "2db23d73-1842-4e46-b838-c6093e25a200",
      "metadata": {
        "id": "2db23d73-1842-4e46-b838-c6093e25a200"
      },
      "source": [
        "A synopsis of the course 'Design of experiments'\n",
        "\n",
        "**Vocabulary**\n",
        "\n",
        "Factors: DIFFERENT INTERVENTIONS\n",
        "\n",
        "Levels: NUMBER OF LEVELS PER INTERVENTION\n",
        "\n",
        "experimental unit, measurement unit.\n",
        "\n",
        "**NOTE**: All inferences here only give internal validity(can't be generalized to population)[a. Don't know how this sample is chosen b. Effect of unobserved covariates]"
      ]
    },
    {
      "cell_type": "markdown",
      "id": "ebc7eaf0-54d3-4bf2-8062-51e551ea93b7",
      "metadata": {
        "id": "ebc7eaf0-54d3-4bf2-8062-51e551ea93b7"
      },
      "source": []
    },
    {
      "cell_type": "markdown",
      "id": "2eb79376-1e65-4035-b7c2-b00e2b478f78",
      "metadata": {
        "id": "2eb79376-1e65-4035-b7c2-b00e2b478f78"
      },
      "source": [
        "# Basics"
      ]
    },
    {
      "cell_type": "markdown",
      "id": "ae9e7eaa-1019-47ee-a538-00ac55808ea8",
      "metadata": {
        "id": "ae9e7eaa-1019-47ee-a538-00ac55808ea8"
      },
      "source": [
        "`Randomization View`(think in terms of potential outcomes): We assume that there is a true state of the world, say `the avg.effect of a drug on a cohort` which can be measured by giving both the treatment and control to each person(if we could turn back time n see both the effects on same unit). This is estimated by randomly assigning units to each group(`estimator`). Here randomization comes solely from **different possible assignments**.\n",
        "\n",
        "**Key Assumptions**\n",
        "\n",
        "\n",
        "1. SUTVA \n",
        "\n",
        "   a. Units don't interact with each other (a.k.a interference) \n",
        "   \n",
        "   b. No hidden factors (eg: administering drugs of which some are expired)"
      ]
    },
    {
      "cell_type": "markdown",
      "id": "4dc4ab46-876b-431c-9c31-954616b41a70",
      "metadata": {
        "id": "4dc4ab46-876b-431c-9c31-954616b41a70"
      },
      "source": []
    },
    {
      "cell_type": "markdown",
      "id": "9968d715-e52d-4f66-b9e7-0a7061331221",
      "metadata": {
        "id": "9968d715-e52d-4f66-b9e7-0a7061331221"
      },
      "source": [
        "**Questions**\n",
        "\n",
        "Why control group (measure the effect of treatment directly)?\n",
        "\n",
        "- Can't say for sure if due to any other factor(say by mere passage of time)\n",
        "\n",
        "\n",
        "Why complete randomization ?\n",
        "\n",
        "- To avoid confounding factors (effect of taking vitamins on say heartattack). \n",
        "- Technically it does a lot more\n",
        "\n",
        "  a. gives an `unbiased estimator`\n",
        "  b. The expected value of any covariate(other factors that might influence the outcome) remain same in both groups (thus addressing confounding) but note that this is only true of average."
      ]
    },
    {
      "cell_type": "markdown",
      "id": "5a935efb-8714-49bc-aee5-47ae0f23978a",
      "metadata": {
        "id": "5a935efb-8714-49bc-aee5-47ae0f23978a"
      },
      "source": [
        "**Two Approaches for Exp analysis(or Hypothesis testing)**\n",
        "\n",
        "1. Neymann style : Less flexible but reasonable null hypothesis\n",
        "\n",
        "assump: SUTVA,COMPLETE RANDOMIZATION, Large sample (for asymptotic results)\n",
        "\n",
        "2. Permutation style : more flexible but less realistic null hypothesis\n",
        "\n",
        "assump: SUTVA,COMPLETE RANDOMIZATION\n"
      ]
    },
    {
      "cell_type": "markdown",
      "id": "531c8a1d-bf98-4c21-82a8-8cd6ebe7daa1",
      "metadata": {
        "id": "531c8a1d-bf98-4c21-82a8-8cd6ebe7daa1"
      },
      "source": [
        "## Randomization based Exp Designs\n",
        "\n",
        "### 1. Two-level design\n",
        "\n",
        "Let's say we want to know the treatment effect, thus the `difference in mean between treatment and control` is the variable of interest.\n",
        "\n",
        "We CRD gives unbiased estimate of it. The variance of the estimator is given by,\n",
        "\n",
        "\n",
        "<img src=\"Images/var.png\" alt=\"map\" width=\"500\"/>\n",
        "\n",
        "\n",
        "\n",
        "\n",
        "We take sample variance for $S_o$ and $S_1$ and ignore $S_{diff}$.(conservative estimate)\n",
        "\n",
        "estimand: avg.treatment effect\n",
        "\n",
        "<img src=\"Images/unpol.png\" alt=\"map\" width=\"500\"/>\n",
        "\n",
        "\n",
        "In code `2 * pnorm(q=t_stat, mean=0, sd=1, lower.tail=TRUE)`(two tail)\n",
        "\n",
        "**assumptions**: SUTVA, Complete randomization, regularity+largesample, t ~ N(0,1),\n",
        "\n",
        "\n",
        "\n",
        "\n",
        "Permutation Style: Test sharp null, same assumptions except `regularity+largesample`.\n",
        "\n",
        "### 2. Matched pair design\n",
        "\n",
        "\n",
        "Note: Balance only on average. Thus we can explicitly control for it.\n",
        "\n",
        "<img src=\"Images/matpair.png\" alt=\"map\" width=\"500\"/>\n",
        "\n",
        "\n",
        "Eg: `2*pt(q=t_stat, df=(groups-1), lower.tail=FALSE)`\n",
        "\n",
        "\n",
        "\n",
        "Permutation Style: Permute within each group and measure stuff\n",
        "\n",
        "\n",
        "3. More Levels\n",
        "\n",
        "<img src=\"Images/sumsq.png\" alt=\"map\" width=\"500\"/>\n",
        "\n",
        "\n",
        "Degrees of freedom:\n",
        "\n",
        "SS_tot = N-1\n",
        "SS_res = N-G\n",
        "SS_TRT = G-1\n",
        "\n",
        "<img src=\"Images/anova.png\" alt=\"map\" width=\"500\"/>\n",
        "\n",
        "\n",
        "**test-statistic**: Refer notes\n",
        "\n",
        "\n",
        "\n",
        "Assumptions: SUTVA,COMPLETE RANDOMIZATION,LARGE SAMPLE\n",
        "**Permutation Style**:\n",
        "\n",
        "Resample and calculate any statistic but typically F-statistic is calculated.\n",
        "\n",
        "Assumptions: SUTVA,COMPLETE RANDOMIZATIONS"
      ]
    },
    {
      "cell_type": "code",
      "execution_count": null,
      "id": "b6c5dbac-e01d-452b-b19e-29fb8d252a86",
      "metadata": {
        "id": "b6c5dbac-e01d-452b-b19e-29fb8d252a86"
      },
      "outputs": [],
      "source": []
    },
    {
      "cell_type": "markdown",
      "id": "b13b3493-88f8-4150-810d-8118ce5c4413",
      "metadata": {
        "id": "b13b3493-88f8-4150-810d-8118ce5c4413"
      },
      "source": [
        "**Model based Exp Designs**"
      ]
    },
    {
      "cell_type": "markdown",
      "id": "a139fb95-8de3-49b4-b66e-2b6d92c5928c",
      "metadata": {
        "id": "a139fb95-8de3-49b4-b66e-2b6d92c5928c"
      },
      "source": [
        "**Connection to randomization perspective**\n",
        "\n",
        "\n",
        "1. Normality:\n",
        "\n",
        "- In rand perspective, we say our statistic/estimators is std.normally distributed(asymptotically) but here we assume each data-point is normally distributed\n",
        "\n",
        "2. Independence\n",
        "\n",
        "3. Equal variance\n",
        "\n"
      ]
    },
    {
      "cell_type": "markdown",
      "id": "23d0676e-5dd8-45b7-8a98-fc28d5782570",
      "metadata": {
        "id": "23d0676e-5dd8-45b7-8a98-fc28d5782570"
      },
      "source": [
        "**Consequences**\n",
        "\n",
        "Distribution of estimator(if equal variance): $\\hat{t}$ = N(mu1-mu2,sigma^2(1/n1+1/n2))"
      ]
    },
    {
      "cell_type": "markdown",
      "id": "f3f4e2f6-79ba-4b52-8eac-4a4d22535705",
      "metadata": {
        "id": "f3f4e2f6-79ba-4b52-8eac-4a4d22535705"
      },
      "source": [
        "1. Testing means are same\n",
        "\n",
        "- Normality = conseq.(gives t distribution but fairly robust)\n",
        "- equal variance = coseq (pooled variance)\n",
        "- independence = conseq(how we calculate the variability)\n",
        "\n",
        "And we have a CRD.\n",
        "\n",
        "Use pooled t-statistic $T_p = t_{n_1 + n_2 - 2}$\n",
        "\n",
        "**RCODE** : `pt(2.81,df,lower.tail)`\n",
        "\n",
        "**confidence interval**:\n",
        "\n",
        "qt(0.995,df) if alpha = 0.01,\n",
        "then ci = unbiased_estimate +/- t_{1-alpha/2,df}*std\n",
        "std = s_p{sqrt(1/n1+1/n2)}\n",
        "\n",
        "or an unpooled t-statistic (if variances are not equal).\n",
        "\n",
        "The degrees of freedom is non-trivial, use R\n",
        "\n"
      ]
    },
    {
      "cell_type": "markdown",
      "id": "4f2a9462-8f96-423d-a221-395e4401b2ad",
      "metadata": {
        "id": "4f2a9462-8f96-423d-a221-395e4401b2ad"
      },
      "source": [
        "2. With multiple groups for checking all means are equal\n",
        "\n",
        "If normality,independence,equal variance hold, then f-statistic has an F distribution.\n",
        "\n",
        "Statistics : $F_{G-1,N-G}$\n",
        "**Assumptions**: Normality,equal variance, independence\n",
        "\n",
        "**Testing for contrasts**\n",
        "\n",
        "**use t-test**:\n",
        "\n",
        "Say we want to test a contrast (g-groups) then:\n",
        "\n",
        "\n",
        "<img src=\"Images/hyp.jpeg\" alt=\"map\" width=\"700\"/>\n",
        "\n",
        "\n",
        "**USE F-TEST**\n",
        "\n",
        "<img src=\"Images/fcon.jpeg\" alt=\"map\" width=\"700\"/>\n",
        "\n",
        "\n",
        "**orthogonal contrasts**\n",
        "\n",
        "<img src=\"Images/ort.jpeg\" alt=\"map\" width=\"700\"/>\n",
        "\n",
        "NOTE: Under our assumptions orthogonal contrasts are independent random variables.\n"
      ]
    },
    {
      "cell_type": "markdown",
      "id": "385049eb-b7af-4a87-8bbf-f93704d4b48e",
      "metadata": {
        "id": "385049eb-b7af-4a87-8bbf-f93704d4b48e"
      },
      "source": [
        "**General steps for Hypothesis testing**\n",
        "\n",
        "1. Specify null and alternate hypothesis\n",
        "\n",
        "2. Set significance level\n",
        "\n",
        "3. Specify test statistic\n",
        "\n",
        "4. State assumptions (in case of model based)-> normality,equal variance,CRD,iid,\n",
        "we have test_statistic `mention distribution`\n",
        "\n",
        "5. Compute test statistic\n",
        "\n",
        "6. Conclusion.(we only reject the null(but ok to say accept the alternative) or fail to reject the null(don't say accept the null but say we lack the evidence to reject)"
      ]
    },
    {
      "cell_type": "markdown",
      "id": "ae7c5c2f-aadb-495a-b95b-b0ac283b8062",
      "metadata": {
        "id": "ae7c5c2f-aadb-495a-b95b-b0ac283b8062"
      },
      "source": [
        "Note on confidence intervals: It's a statement about the process not a specific interval, it says if i do the process and get `n` confidence intervals then $1-\\alpha$ of them would contain the true value."
      ]
    },
    {
      "cell_type": "markdown",
      "id": "1f0df52d-19f3-4bed-ad46-053c9500070d",
      "metadata": {
        "id": "1f0df52d-19f3-4bed-ad46-053c9500070d"
      },
      "source": [
        "**Checking robustness of methods**\n",
        "\n",
        "In general robust(t AND F) to non-normality with large sample-size and also to non-constant variance if large sample and balanced design.\n",
        "\n",
        "If assumptions hold, the p-values should have a uniform distribution, under null.\n",
        "\n",
        "Normality: \n",
        "\n",
        "1. Q-Q PLOT BETWEEN standardized residuals and theoretical quantiles\n",
        "\n",
        "Equal variance:\n",
        "\n",
        "1. Fitted value vs residuals (no trend like cone etc)\n",
        "\n",
        "Independence(a bit hard)\n",
        "\n",
        "1. Time order with residuals(serial correlation)\n",
        "\n",
        "Solution:\n",
        "\n",
        "For variance or normality violations : transform data (but be careful in getting original conf. intervals)\n",
        "\n",
        "\n",
        "For outliers:\n",
        "\n",
        "1. Check with and without them see if inference change. (report both)\n",
        "2. Dig in (don't just toss them)\n",
        "\n",
        "\n"
      ]
    },
    {
      "cell_type": "markdown",
      "id": "655abd10-e166-4ecd-a686-05d33f32106b",
      "metadata": {
        "id": "655abd10-e166-4ecd-a686-05d33f32106b"
      },
      "source": [
        "## Multiple hypothesis testing\n",
        "\n",
        "Error types\n",
        "\n",
        "<img src=\"Images/errs.jpeg\" alt=\"map\" width=\"700\"/>\n",
        "\n",
        "Bonferroni(controls strong family-wise error rate)\n",
        "\n",
        "<img src=\"Images/bon.jpeg\" alt=\"map\" width=\"700\"/>\n",
        "\n",
        "\n",
        "Holm(controls strong family-wise error rate))\n",
        "\n",
        "<img src=\"Images/holm.jpeg\" alt=\"map\" width=\"700\"/>\n",
        "\n",
        "\n",
        "Benjmini-hochberg(controls fdr)\n",
        "\n",
        "<img src=\"Images/benj.jpeg\" alt=\"map\" width=\"700\"/>\n"
      ]
    },
    {
      "cell_type": "markdown",
      "id": "57d6ec0d-f7ef-4147-a4ab-9cd463a382a7",
      "metadata": {
        "id": "57d6ec0d-f7ef-4147-a4ab-9cd463a382a7"
      },
      "source": [
        "## Factorial designs\n",
        "\n"
      ]
    },
    {
      "cell_type": "markdown",
      "id": "dfdf3ed5-f1bd-41d4-b18f-df5d4b9259cc",
      "metadata": {
        "id": "dfdf3ed5-f1bd-41d4-b18f-df5d4b9259cc"
      },
      "source": [
        "Note: We'll restrict with balanced designs\n",
        "\n",
        "Contrast is for main-effect A: If it sums across varying levels of A (only) or do\n",
        "\n",
        "Why Factorials : Efficiency ,Interactions\n",
        "\n",
        "INference: Refer solved practice HW 7.\n",
        "\n",
        "<img src=\"Images/fd.jpeg\" alt=\"map\" width=\"700\"/>\n",
        "\n",
        "<img src=\"Images/fd2.jpeg\" alt=\"map\" width=\"700\"/>\n",
        "\n",
        "\n",
        "\n"
      ]
    },
    {
      "cell_type": "markdown",
      "id": "edb1dc05-6125-401b-acf7-f73923ad7d85",
      "metadata": {
        "id": "edb1dc05-6125-401b-acf7-f73923ad7d85"
      },
      "source": [
        "**Doubts**\n",
        "\n",
        "1. Why p-values are uniform under null ?\n",
        "\n",
        "2. Can we use permutation tests for testing contrasts ? (seems implausible as we assume sharp-null implicitly)"
      ]
    },
    {
      "cell_type": "markdown",
      "id": "9f6b4d94-ae6a-4263-bbfc-349595260576",
      "metadata": {
        "id": "9f6b4d94-ae6a-4263-bbfc-349595260576"
      },
      "source": [
        "Project/Doc:\n",
        "    \n",
        "    https://docs.google.com/document/d/18-LpzCaemnn2agnJnDOjuRGKQ8I7_I1UWKHWBC1ED44/edit"
      ]
    },
    {
      "cell_type": "markdown",
      "id": "198dab17-8c13-454f-92ad-bfd9a6f9b541",
      "metadata": {
        "id": "198dab17-8c13-454f-92ad-bfd9a6f9b541"
      },
      "source": [
        "## Causal Inference \n",
        "\n",
        "What if: https://www.hsph.harvard.edu/miguel-hernan/causal-inference-book/\n",
        "\n",
        "The effect: https://theeffectbook.net/\n",
        "\n",
        "Causal Inference: https://matheusfacure.github.io/python-causality-handbook/03-Stats-Review-The-Most-Dangerous-Equation.html\n",
        "\n",
        "Shorter book: file:///Users/vinay/Desktop/job%20files/resources/Babette%20A.%20Brumback%20-%20Fundamentals%20of%20Causal%20Inference%20with%20R-Chapman%20and%20Hall_CRC%20(2021).pdf"
      ]
    },
    {
      "cell_type": "code",
      "execution_count": null,
      "id": "e6885e03-44d7-435c-94ef-0c8d5f56969d",
      "metadata": {
        "id": "e6885e03-44d7-435c-94ef-0c8d5f56969d"
      },
      "outputs": [],
      "source": []
    },
    {
      "cell_type": "code",
      "execution_count": null,
      "id": "56aba1cb-903a-46e7-914e-1591c256feae",
      "metadata": {
        "id": "56aba1cb-903a-46e7-914e-1591c256feae"
      },
      "outputs": [],
      "source": []
    }
  ],
  "metadata": {
    "kernelspec": {
      "display_name": "Python 3.8",
      "language": "python",
      "name": "python38"
    },
    "language_info": {
      "codemirror_mode": {
        "name": "ipython",
        "version": 3
      },
      "file_extension": ".py",
      "mimetype": "text/x-python",
      "name": "python",
      "nbconvert_exporter": "python",
      "pygments_lexer": "ipython3",
      "version": "3.8.10"
    },
    "colab": {
      "provenance": [],
      "include_colab_link": true
    }
  },
  "nbformat": 4,
  "nbformat_minor": 5
}